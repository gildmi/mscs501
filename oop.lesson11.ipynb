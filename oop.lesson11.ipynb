{
 "cells": [
  {
   "cell_type": "markdown",
   "id": "782b6ce4",
   "metadata": {},
   "source": [
    "# MSCS501 OOP\n",
    "## Lesson 11\n",
    "### Data Structures (Liang Chap. 22 & 20)"
   ]
  },
  {
   "cell_type": "markdown",
   "id": "8737b80b",
   "metadata": {},
   "source": [
    "How long do things take to execute?"
   ]
  },
  {
   "cell_type": "code",
   "execution_count": 1,
   "id": "7b683657",
   "metadata": {},
   "outputs": [],
   "source": [
    "public static void getTime(long n) {\n",
    "    long startTime = System.currentTimeMillis();\n",
    "    long k = 0;\n",
    "    for (int i = 1; i <= n; i++) {\n",
    "      k = k + 5;\n",
    "    }\n",
    "    long endTime = System.currentTimeMillis();\n",
    "    System.out.println(\"Execution time for n = \" + n \n",
    "      + \" is \" + (endTime - startTime) + \" milliseconds\");\n",
    "  }"
   ]
  },
  {
   "cell_type": "code",
   "execution_count": 30,
   "id": "bd1769a5",
   "metadata": {},
   "outputs": [
    {
     "name": "stdout",
     "output_type": "stream",
     "text": [
      "Execution time for n = 1000000 is 0 milliseconds\n",
      "Execution time for n = 10000000 is 15 milliseconds\n",
      "Execution time for n = 100000000 is 111 milliseconds\n",
      "Execution time for n = 1000000000 is 1251 milliseconds\n"
     ]
    }
   ],
   "source": [
    "getTime(1000000);\n",
    "getTime(10000000);\n",
    "getTime(100000000);\n",
    "getTime(1000000000);"
   ]
  },
  {
   "cell_type": "markdown",
   "id": "4118719a",
   "metadata": {},
   "source": [
    "### Stack"
   ]
  },
  {
   "cell_type": "code",
   "execution_count": 46,
   "id": "90078f00",
   "metadata": {},
   "outputs": [
    {
     "data": {
      "text/plain": [
       "[]"
      ]
     },
     "execution_count": 46,
     "metadata": {},
     "output_type": "execute_result"
    }
   ],
   "source": [
    "import java.util.Stack;\n",
    "\n",
    "Stack<String> s = new Stack<String>();\n",
    "s.toString();"
   ]
  },
  {
   "cell_type": "code",
   "execution_count": 47,
   "id": "ce748990",
   "metadata": {},
   "outputs": [
    {
     "data": {
      "text/plain": [
       "[here, was, mike]"
      ]
     },
     "execution_count": 47,
     "metadata": {},
     "output_type": "execute_result"
    }
   ],
   "source": [
    "s.add(\"here\");\n",
    "s.add(\"was\");\n",
    "s.add(\"mike\");\n",
    "s"
   ]
  },
  {
   "cell_type": "code",
   "execution_count": 48,
   "id": "f183c2a6",
   "metadata": {},
   "outputs": [
    {
     "data": {
      "text/plain": [
       "mike"
      ]
     },
     "execution_count": 48,
     "metadata": {},
     "output_type": "execute_result"
    }
   ],
   "source": [
    "s.pop();"
   ]
  },
  {
   "cell_type": "code",
   "execution_count": 49,
   "id": "fcf8c440",
   "metadata": {},
   "outputs": [
    {
     "data": {
      "text/plain": [
       "[here, was]"
      ]
     },
     "execution_count": 49,
     "metadata": {},
     "output_type": "execute_result"
    }
   ],
   "source": [
    "s"
   ]
  },
  {
   "cell_type": "code",
   "execution_count": 50,
   "id": "7970622a",
   "metadata": {},
   "outputs": [
    {
     "data": {
      "text/plain": [
       "[here, was, MIKE]"
      ]
     },
     "execution_count": 50,
     "metadata": {},
     "output_type": "execute_result"
    }
   ],
   "source": [
    "s.push(\"MIKE\");\n",
    "s"
   ]
  },
  {
   "cell_type": "code",
   "execution_count": 51,
   "id": "0ab31ffd",
   "metadata": {},
   "outputs": [
    {
     "name": "stdout",
     "output_type": "stream",
     "text": [
      "MIKE\n",
      "was\n",
      "here\n"
     ]
    },
    {
     "data": {
      "text/plain": [
       "[]"
      ]
     },
     "execution_count": 51,
     "metadata": {},
     "output_type": "execute_result"
    }
   ],
   "source": [
    "while (s.size() > 0) {\n",
    "    System.out.println(s.pop());\n",
    "}\n",
    "s"
   ]
  },
  {
   "cell_type": "markdown",
   "id": "42265d61",
   "metadata": {},
   "source": [
    "## Queue"
   ]
  },
  {
   "cell_type": "code",
   "execution_count": 22,
   "id": "ee649197",
   "metadata": {},
   "outputs": [
    {
     "name": "stdout",
     "output_type": "stream",
     "text": [
      "[]\r\n"
     ]
    }
   ],
   "source": [
    "import java.util.Queue;\n",
    "import java.util.LinkedList;\n",
    "\n",
    "Queue<String> q = new LinkedList<String>();\n",
    "\n",
    "System.out.println(q.toString());"
   ]
  },
  {
   "cell_type": "code",
   "execution_count": 23,
   "id": "83d0f713",
   "metadata": {},
   "outputs": [
    {
     "data": {
      "text/plain": [
       "[Mike, was, here!]"
      ]
     },
     "execution_count": 23,
     "metadata": {},
     "output_type": "execute_result"
    }
   ],
   "source": [
    "q.add(\"Mike\");\n",
    "q.add(\"was\");\n",
    "q.add(\"here!\");\n",
    "q.toString();"
   ]
  },
  {
   "cell_type": "code",
   "execution_count": 24,
   "id": "f0daf67e",
   "metadata": {},
   "outputs": [
    {
     "name": "stdout",
     "output_type": "stream",
     "text": [
      "Mike\r\n"
     ]
    }
   ],
   "source": [
    "System.out.println(q.remove());"
   ]
  },
  {
   "cell_type": "code",
   "execution_count": 25,
   "id": "7492c262",
   "metadata": {},
   "outputs": [
    {
     "data": {
      "text/plain": [
       "[was, here!]"
      ]
     },
     "execution_count": 25,
     "metadata": {},
     "output_type": "execute_result"
    }
   ],
   "source": [
    "q.toString();"
   ]
  },
  {
   "cell_type": "code",
   "execution_count": 26,
   "id": "29d3f4e2",
   "metadata": {},
   "outputs": [
    {
     "data": {
      "text/plain": [
       "true"
      ]
     },
     "execution_count": 26,
     "metadata": {},
     "output_type": "execute_result"
    }
   ],
   "source": [
    "q.add(\"mike\");"
   ]
  },
  {
   "cell_type": "code",
   "execution_count": 27,
   "id": "4887417a",
   "metadata": {},
   "outputs": [
    {
     "data": {
      "text/plain": [
       "[was, here!, mike]"
      ]
     },
     "execution_count": 27,
     "metadata": {},
     "output_type": "execute_result"
    }
   ],
   "source": [
    "q.toString();"
   ]
  },
  {
   "cell_type": "code",
   "execution_count": 28,
   "id": "79ff99cc",
   "metadata": {},
   "outputs": [
    {
     "data": {
      "text/plain": [
       "was"
      ]
     },
     "execution_count": 28,
     "metadata": {},
     "output_type": "execute_result"
    }
   ],
   "source": [
    "q.peek();"
   ]
  },
  {
   "cell_type": "code",
   "execution_count": 29,
   "id": "cea8148b",
   "metadata": {},
   "outputs": [
    {
     "data": {
      "text/plain": [
       "[was, here!, mike]"
      ]
     },
     "execution_count": 29,
     "metadata": {},
     "output_type": "execute_result"
    }
   ],
   "source": [
    "q.toString();"
   ]
  },
  {
   "cell_type": "markdown",
   "id": "de52e944",
   "metadata": {},
   "source": [
    "### Heap (Priority Queue)"
   ]
  },
  {
   "cell_type": "code",
   "execution_count": 59,
   "id": "a7329aae",
   "metadata": {},
   "outputs": [
    {
     "data": {
      "text/plain": [
       "[here, was, mike]"
      ]
     },
     "execution_count": 59,
     "metadata": {},
     "output_type": "execute_result"
    }
   ],
   "source": [
    "import java.util.PriorityQueue;\n",
    "\n",
    "PriorityQueue<String> pq = new PriorityQueue<>();\n",
    "pq.add(\"mike\");\n",
    "pq.add(\"was\");\n",
    "pq.add(\"here\");\n",
    "pq"
   ]
  },
  {
   "cell_type": "code",
   "execution_count": 60,
   "id": "d6739cf8",
   "metadata": {},
   "outputs": [
    {
     "data": {
      "text/plain": [
       "here"
      ]
     },
     "execution_count": 60,
     "metadata": {},
     "output_type": "execute_result"
    }
   ],
   "source": [
    "pq.poll();"
   ]
  },
  {
   "cell_type": "code",
   "execution_count": 61,
   "id": "935c0979",
   "metadata": {},
   "outputs": [
    {
     "data": {
      "text/plain": [
       "mike"
      ]
     },
     "execution_count": 61,
     "metadata": {},
     "output_type": "execute_result"
    }
   ],
   "source": [
    "pq.poll();"
   ]
  },
  {
   "cell_type": "code",
   "execution_count": 62,
   "id": "9150f76c",
   "metadata": {},
   "outputs": [
    {
     "data": {
      "text/plain": [
       "was"
      ]
     },
     "execution_count": 62,
     "metadata": {},
     "output_type": "execute_result"
    }
   ],
   "source": [
    "pq.poll();"
   ]
  },
  {
   "cell_type": "code",
   "execution_count": 64,
   "id": "74de58d0",
   "metadata": {},
   "outputs": [
    {
     "data": {
      "text/plain": [
       "[]"
      ]
     },
     "execution_count": 64,
     "metadata": {},
     "output_type": "execute_result"
    }
   ],
   "source": [
    "pq"
   ]
  },
  {
   "cell_type": "markdown",
   "id": "f86c7b0e",
   "metadata": {},
   "source": [
    "### Java Collections"
   ]
  },
  {
   "cell_type": "code",
   "execution_count": 66,
   "id": "177b714d",
   "metadata": {},
   "outputs": [
    {
     "name": "stdout",
     "output_type": "stream",
     "text": [
      "A list of cities in collection1:\n",
      "[New York, Atlanta, Dallas, Madison]\n",
      "\n",
      "Is Dallas in collection1? true\n",
      "\n",
      "3 cities are in collection1 now\n",
      "\n",
      "A list of cities in collection2:\n",
      "[Seattle, Portland, Los Angles, Atlanta]\n",
      "\n",
      "Cities in collection1 or collection2: \n",
      "[New York, Atlanta, Madison, Seattle, Portland, Los Angles, Atlanta]\n",
      "\n",
      "Cities in collection1 and collection2: [Atlanta]\n",
      "\n",
      "Cities in collection1, but not in 2: [New York, Madison]\n"
     ]
    }
   ],
   "source": [
    "import java.util.*;\n",
    "\n",
    "ArrayList<String> collection1 = new ArrayList<>();\n",
    "    collection1.add(\"New York\"); \n",
    "    collection1.add(\"Atlanta\"); \n",
    "    collection1.add(\"Dallas\"); \n",
    "    collection1.add(\"Madison\"); \n",
    "\n",
    "    System.out.println(\"A list of cities in collection1:\");\n",
    "    System.out.println(collection1);\n",
    "\n",
    "    System.out.println(\"\\nIs Dallas in collection1? \"\n",
    "      + collection1.contains(\"Dallas\"));\n",
    "\n",
    "    collection1.remove(\"Dallas\");\n",
    "    System.out.println(\"\\n\" + collection1.size() + \n",
    "       \" cities are in collection1 now\");\n",
    "\n",
    "    Collection<String> collection2 = new ArrayList<>();\n",
    "    collection2.add(\"Seattle\"); \n",
    "    collection2.add(\"Portland\"); \n",
    "    collection2.add(\"Los Angles\"); \n",
    "    collection2.add(\"Atlanta\"); \n",
    "\n",
    "    System.out.println(\"\\nA list of cities in collection2:\");\n",
    "    System.out.println(collection2);\n",
    "\n",
    "    ArrayList<String> c1 = (ArrayList<String>)(collection1.clone());\n",
    "    c1.addAll(collection2);\n",
    "    System.out.println(\"\\nCities in collection1 or collection2: \");\n",
    "    System.out.println(c1);\n",
    "\n",
    "    c1 = (ArrayList<String>)(collection1.clone());\n",
    "    c1.retainAll(collection2);\n",
    "    System.out.print(\"\\nCities in collection1 and collection2: \");\n",
    "    System.out.println(c1);\n",
    "\n",
    "    c1 = (ArrayList<String>)(collection1.clone());\n",
    "    c1.removeAll(collection2);\n",
    "    System.out.print(\"\\nCities in collection1, but not in 2: \");\n",
    "    System.out.println(c1);"
   ]
  },
  {
   "cell_type": "code",
   "execution_count": 67,
   "id": "4f286ad0",
   "metadata": {},
   "outputs": [
    {
     "name": "stdout",
     "output_type": "stream",
     "text": [
      "NEW YORK ATLANTA DALLAS MADISON \n"
     ]
    }
   ],
   "source": [
    "Collection<String> collection = new ArrayList<>();\n",
    "    collection.add(\"New York\"); \n",
    "    collection.add(\"Atlanta\"); \n",
    "    collection.add(\"Dallas\"); \n",
    "    collection.add(\"Madison\"); \n",
    "\n",
    "    Iterator<String> iterator = collection.iterator();\n",
    "    while (iterator.hasNext()) {\n",
    "      System.out.print(iterator.next().toUpperCase() + \" \");\n",
    "    }\n",
    "    System.out.println();"
   ]
  },
  {
   "cell_type": "code",
   "execution_count": 68,
   "id": "3102babe",
   "metadata": {},
   "outputs": [
    {
     "data": {
      "text/plain": [
       "[New York, Atlanta, Dallas, Madison]"
      ]
     },
     "execution_count": 68,
     "metadata": {},
     "output_type": "execute_result"
    }
   ],
   "source": [
    "collection.toString()"
   ]
  },
  {
   "cell_type": "code",
   "execution_count": 70,
   "id": "209d09dd",
   "metadata": {},
   "outputs": [
    {
     "name": "stdout",
     "output_type": "stream",
     "text": [
      "New York\n",
      "Atlanta\n",
      "Dallas\n",
      "Madison\n"
     ]
    }
   ],
   "source": [
    "for (String s : collection) {\n",
    "    System.out.println(s);\n",
    "}"
   ]
  },
  {
   "cell_type": "code",
   "execution_count": 71,
   "id": "454dfb33",
   "metadata": {},
   "outputs": [
    {
     "name": "stdout",
     "output_type": "stream",
     "text": [
      "A list of integers in the array list:\n",
      "[10, 1, 2, 30, 3, 1, 4]\n",
      "Display the linked list backward:\n",
      "1 3 30 2 1 red 10 green "
     ]
    }
   ],
   "source": [
    "List<Integer> arrayList = new ArrayList<>();\n",
    "    arrayList.add(1); // 1 is autoboxed to new Integer(1)\n",
    "    arrayList.add(2);\n",
    "    arrayList.add(3);\n",
    "    arrayList.add(1);\n",
    "    arrayList.add(4);\n",
    "    arrayList.add(0, 10);\n",
    "    arrayList.add(3, 30);\n",
    "\n",
    "    System.out.println(\"A list of integers in the array list:\");\n",
    "    System.out.println(arrayList);\n",
    "\n",
    "    LinkedList<Object> linkedList = new LinkedList<>(arrayList);\n",
    "    linkedList.add(1, \"red\");\n",
    "    linkedList.removeLast();\n",
    "    linkedList.addFirst(\"green\");\n",
    "\n",
    "    System.out.println(\"Display the linked list backward:\");\n",
    "    for (int i = linkedList.size() - 1; i >= 0; i--) {\n",
    "      System.out.print(linkedList.get(i) + \" \");\n",
    "    }"
   ]
  },
  {
   "cell_type": "markdown",
   "id": "54c7c131",
   "metadata": {},
   "source": [
    "###  Comparable"
   ]
  },
  {
   "cell_type": "code",
   "execution_count": 73,
   "id": "a199ff62",
   "metadata": {},
   "outputs": [],
   "source": [
    "public static class MyComparator implements\n",
    "      java.util.Comparator<String> {\n",
    "    @Override\n",
    "    public int compare(String s1, String s2) {\n",
    "      return s1.length() - s2.length();\n",
    "    }\n",
    "  }"
   ]
  },
  {
   "cell_type": "code",
   "execution_count": 74,
   "id": "8f12a81c",
   "metadata": {},
   "outputs": [
    {
     "name": "stdout",
     "output_type": "stream",
     "text": [
      "Dallas Atlanta Savannah New York "
     ]
    }
   ],
   "source": [
    "String[] cities = {\"Atlanta\", \"Savannah\", \"New York\", \"Dallas\"};\n",
    "    java.util.Arrays.sort(cities, new MyComparator());\n",
    "\n",
    "    for (String s : cities) {\n",
    "      System.out.print(s + \" \");\n",
    "    }"
   ]
  },
  {
   "cell_type": "code",
   "execution_count": 75,
   "id": "fa602779",
   "metadata": {},
   "outputs": [
    {
     "name": "stdout",
     "output_type": "stream",
     "text": [
      "Atlanta dallas new York Savannah "
     ]
    }
   ],
   "source": [
    "java.util.List<String> cities = java.util.Arrays.asList\n",
    "      (\"Atlanta\", \"Savannah\", \"new York\", \"dallas\");\n",
    "    cities.sort((s1, s2) -> s1.compareToIgnoreCase(s2));\n",
    "\n",
    "    for (String s: cities) {\n",
    "      System.out.print(s + \" \");\n",
    "    }"
   ]
  },
  {
   "cell_type": "markdown",
   "id": "a75e6ca1",
   "metadata": {},
   "source": [
    "### More priority queue"
   ]
  },
  {
   "cell_type": "code",
   "execution_count": 76,
   "id": "34a9221d",
   "metadata": {},
   "outputs": [
    {
     "name": "stdout",
     "output_type": "stream",
     "text": [
      "Priority queue using Comparable:\n",
      "Georgia Indiana Oklahoma Texas \n",
      "Priority queue using Comparator:\n",
      "Texas Oklahoma Indiana Georgia "
     ]
    }
   ],
   "source": [
    "PriorityQueue<String> queue1 = new PriorityQueue<>();\n",
    "    queue1.offer(\"Oklahoma\");\n",
    "    queue1.offer(\"Indiana\");\n",
    "    queue1.offer(\"Georgia\");\n",
    "    queue1.offer(\"Texas\");\n",
    "\n",
    "    System.out.println(\"Priority queue using Comparable:\");\n",
    "    while (queue1.size() > 0) {\n",
    "      System.out.print(queue1.remove() + \" \");\n",
    "    }\n",
    "\n",
    "    PriorityQueue<String> queue2 = new PriorityQueue<>(\n",
    "      4, Collections.reverseOrder());\n",
    "    queue2.offer(\"Oklahoma\");\n",
    "    queue2.offer(\"Indiana\");\n",
    "    queue2.offer(\"Georgia\");\n",
    "    queue2.offer(\"Texas\");\n",
    "\n",
    "    System.out.println(\"\\nPriority queue using Comparator:\");\n",
    "    while (queue2.size() > 0) {\n",
    "      System.out.print(queue2.remove() + \" \");\n",
    "    }"
   ]
  },
  {
   "cell_type": "code",
   "execution_count": null,
   "id": "3a318145",
   "metadata": {},
   "outputs": [],
   "source": []
  }
 ],
 "metadata": {
  "kernelspec": {
   "display_name": "Java",
   "language": "java",
   "name": "java"
  },
  "language_info": {
   "codemirror_mode": "java",
   "file_extension": ".jshell",
   "mimetype": "text/x-java-source",
   "name": "Java",
   "pygments_lexer": "java",
   "version": "20+36-2344"
  }
 },
 "nbformat": 4,
 "nbformat_minor": 5
}

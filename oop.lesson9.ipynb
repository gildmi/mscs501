{
 "cells": [
  {
   "cell_type": "markdown",
   "id": "782b6ce4",
   "metadata": {},
   "source": [
    "# MSCS501 OOP - Lesson 9"
   ]
  },
  {
   "cell_type": "markdown",
   "id": "2a940293",
   "metadata": {},
   "source": [
    "### Generics (Chap 19)"
   ]
  },
  {
   "cell_type": "markdown",
   "id": "f9ff3649",
   "metadata": {},
   "source": [
    "Always...always...pay attention to compiler warnings and informational messages! \n",
    "\n",
    "Like this one..."
   ]
  },
  {
   "cell_type": "code",
   "execution_count": 1,
   "id": "11c70561",
   "metadata": {},
   "outputs": [],
   "source": [
    "public class ShowUncheckedWarning {\n",
    "  public static void main(String[] args) {\n",
    "    java.util.ArrayList list = new java.util.ArrayList();\n",
    "    list.add(\"Java Programming\");\n",
    "  }\n",
    "}"
   ]
  },
  {
   "cell_type": "markdown",
   "id": "afac7b66",
   "metadata": {},
   "source": [
    "Now how do we make that for away?"
   ]
  },
  {
   "cell_type": "code",
   "execution_count": 3,
   "id": "9f2a56a4",
   "metadata": {},
   "outputs": [],
   "source": [
    "public class ShowUncheckedWarning {\n",
    "  public static void main(String[] args) {\n",
    "    java.util.ArrayList<String> list = new java.util.ArrayList<String>();\n",
    "    list.add(\"Java Programming\");\n",
    "  }\n",
    "}"
   ]
  },
  {
   "cell_type": "markdown",
   "id": "ca46a0a7",
   "metadata": {},
   "source": [
    "So what is this generic anyway?"
   ]
  },
  {
   "cell_type": "code",
   "execution_count": null,
   "id": "1080e1a3",
   "metadata": {},
   "outputs": [],
   "source": [
    "public class GenericStack<E> {\n",
    "  private java.util.ArrayList<E> list = new java.util.ArrayList<>();\n",
    "\n",
    "  public int getSize() {\n",
    "    return list.size();\n",
    "  }\n",
    "\n",
    "  public E peek() {\n",
    "    return list.get(getSize() - 1);\n",
    "  }\n",
    "\n",
    "  public void push(E o) {\n",
    "    list.add(o);\n",
    "  }\n",
    "\n",
    "  public E pop() {\n",
    "    E o = list.get(getSize() - 1);\n",
    "    list.remove(getSize() - 1);\n",
    "    return o;\n",
    "  }\n",
    "\n",
    "  public boolean isEmpty() {\n",
    "    return list.isEmpty();\n",
    "  }\n",
    "  \n",
    "  @Override\n",
    "  public String toString() {\n",
    "\treturn \"stack: \" + list.toString();\n",
    "  }\n",
    "}"
   ]
  },
  {
   "cell_type": "code",
   "execution_count": null,
   "id": "40506510",
   "metadata": {},
   "outputs": [],
   "source": [
    "GenericStack<Number> = new GenericStack<Number>();\n",
    "GenericStack<String> = new GenericStack<String>();\n",
    "GenericStack<int> = new GenericStack<int>();"
   ]
  },
  {
   "cell_type": "markdown",
   "id": "45447a1c",
   "metadata": {},
   "source": [
    "Neat, can it always be any type?"
   ]
  },
  {
   "cell_type": "code",
   "execution_count": null,
   "id": "098bd9ba",
   "metadata": {},
   "outputs": [],
   "source": [
    "public static double max(GenericStack<Number> stack) {\n",
    "     double max = stack.pop().doubleValue(); // initialize max\n",
    "\n",
    "     while (!stack.isEmpty()) {\n",
    "       double value = stack.pop().doubleValue();\n",
    "       if (value > max)\n",
    "         max = value;\n",
    "     }\n",
    "\n",
    "     return max;\n",
    "  }"
   ]
  },
  {
   "cell_type": "code",
   "execution_count": null,
   "id": "9434a06e",
   "metadata": {},
   "outputs": [],
   "source": [
    "GenericStack<Integer> intStack = new GenericStack<>();\n",
    "     intStack.push(1); // 1 is autoboxed into new Integer(1)\n",
    "     intStack.push(2);\n",
    "     intStack.push(-2);\n",
    "\n",
    "// Error:     System.out.print(\"The max number is \" + max(intStack));\n"
   ]
  },
  {
   "cell_type": "markdown",
   "id": "db414111",
   "metadata": {},
   "source": [
    "So we may need to limit the type"
   ]
  },
  {
   "cell_type": "code",
   "execution_count": null,
   "id": "5f6e2d62",
   "metadata": {},
   "outputs": [],
   "source": [
    "// Any wild card\n",
    "public static void print(GenericStack<?> stack) {\n",
    "    while (!stack.isEmpty()) {\n",
    "      System.out.print(stack.pop() + \" \");\n",
    "    }\n",
    "  }\n",
    "  \n",
    "GenericStack<Integer> intStack = new GenericStack<>();\n",
    "intStack.push(1); // 1 is autoboxed into new Integer(1)\n",
    "intStack.push(2);\n",
    "intStack.push(-2);\n",
    "\n",
    "print(intStack);"
   ]
  },
  {
   "cell_type": "code",
   "execution_count": null,
   "id": "c217e342",
   "metadata": {},
   "outputs": [],
   "source": [
    "// Super wildcard\n",
    "public static <T> void add(GenericStack<T> stack1, GenericStack<? super T> stack2) {\n",
    "    while (!stack1.isEmpty())\n",
    "      stack2.push(stack1.pop());\n",
    "}\n",
    "  \n",
    "GenericStack<String> stack1 = new GenericStack<String>();\n",
    "GenericStack<Object> stack2 = new GenericStack<Object>();\n",
    "stack2.push(\"Java\");\n",
    " stack2.push(2);\n",
    "stack1.push(\"Sun\");\n",
    "add(stack1, stack2);\n",
    "AnyWildCardDemo.print(stack2);"
   ]
  },
  {
   "cell_type": "code",
   "execution_count": null,
   "id": "10b8dbc4",
   "metadata": {},
   "outputs": [],
   "source": [
    " public static <E extends GeometricObject> boolean equalArea(\n",
    "      E object1, E object2) {\n",
    "    return object1.getArea() == object2.getArea();\n",
    "  }"
   ]
  },
  {
   "cell_type": "code",
   "execution_count": null,
   "id": "5743cd37",
   "metadata": {},
   "outputs": [],
   "source": [
    "Rectangle rectangle = new Rectangle(2, 2);\n",
    "Circle circle = new Circle(2);\n",
    "\n",
    "System.out.println(\"Same area? \" + equalArea(rectangle, circle));"
   ]
  },
  {
   "cell_type": "markdown",
   "id": "21f1e76d",
   "metadata": {},
   "source": [
    "Another example..."
   ]
  },
  {
   "cell_type": "code",
   "execution_count": null,
   "id": "a4af5daf",
   "metadata": {},
   "outputs": [],
   "source": [
    "public abstract class GenericMatrix<E extends Number> {\n",
    "  /** Abstract method for adding two elements of the matrices */\n",
    "  protected abstract E add(E o1, E o2);\n",
    "\n",
    "  /** Abstract method for multiplying two elements of the matrices */\n",
    "  protected abstract E multiply(E o1, E o2);\n",
    "\n",
    "  /** Abstract method for defining zero for the matrix element */\n",
    "  protected abstract E zero();\n",
    "\n",
    "  /** Add two matrices */\n",
    "  public E[][] addMatrix(E[][] matrix1, E[][] matrix2) {\n",
    "    // Check bounds of the two matrices\n",
    "    if ((matrix1.length != matrix2.length) ||\n",
    "        (matrix1[0].length != matrix2[0].length)) {\n",
    "      throw new RuntimeException(\n",
    "        \"The matrices do not have the same size\");\n",
    "    }\n",
    "\n",
    "    E[][] result =\n",
    "      (E[][])new Number[matrix1.length][matrix1[0].length];\n",
    "\n",
    "    // Perform addition\n",
    "    for (int i = 0; i < result.length; i++)\n",
    "      for (int j = 0; j < result[i].length; j++) {\n",
    "        result[i][j] = add(matrix1[i][j], matrix2[i][j]);\n",
    "      }\n",
    "\n",
    "    return result;\n",
    "  }\n",
    "\n",
    "  /** Multiply two matrices */\n",
    "  public E[][] multiplyMatrix(E[][] matrix1, E[][] matrix2) {\n",
    "    // Check bounds\n",
    "    if (matrix1[0].length != matrix2.length) {\n",
    "      throw new RuntimeException(\n",
    "        \"The matrices do not have compatible size\");\n",
    "    }\n",
    "\n",
    "    // Create result matrix\n",
    "    E[][] result =\n",
    "      (E[][])new Number[matrix1.length][matrix2[0].length];\n",
    "\n",
    "    // Perform multiplication of two matrices\n",
    "    for (int i = 0; i < result.length; i++) {\n",
    "      for (int j = 0; j < result[0].length; j++) {\n",
    "        result[i][j] = zero();\n",
    "\n",
    "        for (int k = 0; k < matrix1[0].length; k++) {\n",
    "          result[i][j] = add(result[i][j],\n",
    "            multiply(matrix1[i][k], matrix2[k][j]));\n",
    "        }\n",
    "      }\n",
    "    }\n",
    "\n",
    "    return result;\n",
    "  }\n",
    "\n",
    "  /** Print matrices, the operator, and their operation result */\n",
    "  public static void printResult(\n",
    "      Number[][] m1, Number[][] m2, Number[][] m3, char op) {\n",
    "    for (int i = 0; i < m1.length; i++) {\n",
    "      for (int j = 0; j < m1[0].length; j++)\n",
    "        System.out.print(\" \" + m1[i][j]);\n",
    "\n",
    "      if (i == m1.length / 2)\n",
    "        System.out.print(\"  \" + op + \"  \");\n",
    "      else\n",
    "        System.out.print(\"     \");\n",
    "\n",
    "      for (int j = 0; j < m2.length; j++)\n",
    "        System.out.print(\" \" + m2[i][j]);\n",
    "\n",
    "      if (i == m1.length / 2)\n",
    "        System.out.print(\"  =  \");\n",
    "      else\n",
    "        System.out.print(\"     \");\n",
    "\n",
    "      for (int j = 0; j < m3.length; j++)\n",
    "        System.out.print(m3[i][j] + \" \");\n",
    "\n",
    "      System.out.println();\n",
    "    }\n",
    "  }"
   ]
  },
  {
   "cell_type": "markdown",
   "id": "842b3d0e",
   "metadata": {},
   "source": [
    "### Recursion (Chap 18)"
   ]
  },
  {
   "cell_type": "code",
   "execution_count": 1,
   "id": "799dd749",
   "metadata": {},
   "outputs": [],
   "source": [
    "//Return the factorial for a specified number\n",
    "public static long factorial(int n) {s\n",
    "  if (n == 0) { // Base case\n",
    "    return 1;\n",
    "  }\n",
    "  else {\n",
    "    return n * factorial(n - 1); // Recursive call\n",
    "  }\n",
    "}"
   ]
  },
  {
   "cell_type": "code",
   "execution_count": 2,
   "id": "321d8482",
   "metadata": {},
   "outputs": [
    {
     "name": "stdout",
     "output_type": "stream",
     "text": [
      "Enter a non-negative integer: 10\n",
      "Factorial of 10 is 3628800\n"
     ]
    }
   ],
   "source": [
    "import java.util.Scanner; \n",
    "\n",
    "// Create a Scanner\n",
    "Scanner input = new Scanner(System.in);\n",
    "System.out.print(\"Enter a non-negative integer: \");\n",
    "int n = input.nextInt();\n",
    "    \n",
    "// Display factorial\n",
    "System.out.println(\"Factorial of \" + n + \" is \" + factorial(n));"
   ]
  },
  {
   "cell_type": "code",
   "execution_count": 2,
   "id": "6ba70281",
   "metadata": {},
   "outputs": [],
   "source": [
    "public static long fib(long index) {\n",
    "    if (index == 0) // Base case\n",
    "      return 0;\n",
    "    else if (index == 1) // Base case\n",
    "      return 1;\n",
    "    else  // Reduction and recursive calls\n",
    "      return fib(index - 1) + fib(index - 2);\n",
    "  }\n"
   ]
  },
  {
   "cell_type": "code",
   "execution_count": 3,
   "id": "c4bfe423",
   "metadata": {},
   "outputs": [
    {
     "name": "stdout",
     "output_type": "stream",
     "text": [
      "Enter an index for the Fibonacci number: 10\n",
      "Fibonacci number at index 10 is 55\n"
     ]
    }
   ],
   "source": [
    "import java.util.Scanner;\n",
    "\n",
    "Scanner input = new Scanner(System.in);\n",
    "    System.out.print(\"Enter an index for the Fibonacci number: \");\n",
    "    int index = input.nextInt();\n",
    "\n",
    "    // Find and display the Fibonacci number\n",
    "    System.out.println( \n",
    "      \"Fibonacci number at index \" + index + \" is \" + fib(index));"
   ]
  },
  {
   "cell_type": "code",
   "execution_count": 4,
   "id": "225da630",
   "metadata": {},
   "outputs": [],
   "source": [
    "public static boolean isPalindrome(String s) {\n",
    "    return isPalindrome(s, 0, s.length() - 1);\n",
    "  }"
   ]
  },
  {
   "cell_type": "code",
   "execution_count": 5,
   "id": "4c608e47",
   "metadata": {},
   "outputs": [],
   "source": [
    "public static boolean isPalindrome(String s, int low, int high) {\n",
    "    if (high <= low) // Base case\n",
    "      return true;\n",
    "    else if (s.charAt(low) != s.charAt(high)) // Base case\n",
    "      return false;\n",
    "    else\n",
    "      return isPalindrome(s, low + 1, high - 1);\n",
    "  }"
   ]
  },
  {
   "cell_type": "code",
   "execution_count": 6,
   "id": "a6b74f88",
   "metadata": {},
   "outputs": [
    {
     "name": "stdout",
     "output_type": "stream",
     "text": [
      "Is moon a palindrome? false\n",
      "Is noon a palindrome? true\n",
      "Is a a palindrome? true\n",
      "Is aba a palindrome? true\n",
      "Is ab a palindrome? false\n"
     ]
    }
   ],
   "source": [
    "System.out.println(\"Is moon a palindrome? \" \n",
    "      + isPalindrome(\"moon\"));\n",
    "    System.out.println(\"Is noon a palindrome? \" \n",
    "      + isPalindrome(\"noon\"));\n",
    "    System.out.println(\"Is a a palindrome? \" + isPalindrome(\"a\"));\n",
    "    System.out.println(\"Is aba a palindrome? \" + \n",
    "      isPalindrome(\"aba\"));\n",
    "    System.out.println(\"Is ab a palindrome? \" + isPalindrome(\"ab\"));"
   ]
  },
  {
   "cell_type": "code",
   "execution_count": 7,
   "id": "be528ff0",
   "metadata": {},
   "outputs": [],
   "source": [
    "public static long getSize(File file) {\n",
    "    long size = 0; // Store the total size of all files\n",
    "\n",
    "    if (file.isDirectory()) {\n",
    "      File[] files = file.listFiles(); // All files and subdirectories\n",
    "      for (int i = 0; i < files.length; i++) {\n",
    "        size += getSize(files[i]); // Recursive call\n",
    "      }\n",
    "    }\n",
    "    else { // Base case\n",
    "      size += file.length();\n",
    "    }\n",
    "\n",
    "    return size;\n",
    "  }"
   ]
  },
  {
   "cell_type": "code",
   "execution_count": 9,
   "id": "14bf7347",
   "metadata": {},
   "outputs": [
    {
     "name": "stdout",
     "output_type": "stream",
     "text": [
      "Enter a directory or a file: test\n",
      "95798 bytes\n"
     ]
    }
   ],
   "source": [
    "import java.io.File;\n",
    "import java.util.Scanner; \n",
    "\n",
    "// Prompt the user to enter a directory or a file\n",
    "    System.out.print(\"Enter a directory or a file: \");    \n",
    "    Scanner input = new Scanner(System.in);\n",
    "    String directory = input.nextLine();\n",
    "    \n",
    "    // Display the size\n",
    "    System.out.println(getSize(new File(directory)) + \" bytes\");"
   ]
  },
  {
   "cell_type": "code",
   "execution_count": 10,
   "id": "845425cb",
   "metadata": {},
   "outputs": [],
   "source": [
    "/** The method for finding the solution to move n disks\n",
    "      from fromTower to toTower with auxTower */\n",
    "  public static void moveDisks(int n, char fromTower,\n",
    "      char toTower, char auxTower) {\n",
    "    if (n == 1) // Stopping condition\n",
    "      System.out.println(\"Move disk \" + n + \" from \" +\n",
    "        fromTower + \" to \" + toTower);\n",
    "    else {\n",
    "      moveDisks(n - 1, fromTower, auxTower, toTower);\n",
    "      System.out.println(\"Move disk \" + n + \" from \" +\n",
    "        fromTower + \" to \" + toTower);\n",
    "      moveDisks(n - 1, auxTower, toTower, fromTower);\n",
    "    }\n",
    "  }"
   ]
  },
  {
   "cell_type": "code",
   "execution_count": 11,
   "id": "0bfa6b72",
   "metadata": {},
   "outputs": [
    {
     "name": "stdout",
     "output_type": "stream",
     "text": [
      "Enter number of disks: 5\n",
      "The moves are:\n",
      "Move disk 1 from A to B\n",
      "Move disk 2 from A to C\n",
      "Move disk 1 from B to C\n",
      "Move disk 3 from A to B\n",
      "Move disk 1 from C to A\n",
      "Move disk 2 from C to B\n",
      "Move disk 1 from A to B\n",
      "Move disk 4 from A to C\n",
      "Move disk 1 from B to C\n",
      "Move disk 2 from B to A\n",
      "Move disk 1 from C to A\n",
      "Move disk 3 from B to C\n",
      "Move disk 1 from A to B\n",
      "Move disk 2 from A to C\n",
      "Move disk 1 from B to C\n",
      "Move disk 5 from A to B\n",
      "Move disk 1 from C to A\n",
      "Move disk 2 from C to B\n",
      "Move disk 1 from A to B\n",
      "Move disk 3 from C to A\n",
      "Move disk 1 from B to C\n",
      "Move disk 2 from B to A\n",
      "Move disk 1 from C to A\n",
      "Move disk 4 from C to B\n",
      "Move disk 1 from A to B\n",
      "Move disk 2 from A to C\n",
      "Move disk 1 from B to C\n",
      "Move disk 3 from A to B\n",
      "Move disk 1 from C to A\n",
      "Move disk 2 from C to B\n",
      "Move disk 1 from A to B\n"
     ]
    }
   ],
   "source": [
    "import java.util.Scanner; \n",
    "\n",
    "// Create a Scanner\n",
    "    Scanner input = new Scanner(System.in);\n",
    "    System.out.print(\"Enter number of disks: \");\n",
    "    int n = input.nextInt();\n",
    "\n",
    "    // Find the solution recursively\n",
    "    System.out.println(\"The moves are:\");\n",
    "    moveDisks(n, 'A', 'B', 'C');"
   ]
  },
  {
   "cell_type": "code",
   "execution_count": 15,
   "id": "87f9ea5a",
   "metadata": {},
   "outputs": [],
   "source": [
    "/** Auxiliary tail-recursive method for factorial */\n",
    "  private static long factorial(int n, int result) {\n",
    "    if (n == 0) \n",
    "      return result;\n",
    "    else\n",
    "      return factorial(n - 1, n * result); // Recursive call\n",
    "  }"
   ]
  },
  {
   "cell_type": "code",
   "execution_count": 16,
   "id": "a71a0ef9",
   "metadata": {},
   "outputs": [],
   "source": [
    "public static long factorial(int n) {\n",
    "    return factorial(n, 1); // Call auxiliary method\n",
    "  }"
   ]
  },
  {
   "cell_type": "code",
   "execution_count": 17,
   "id": "dfadf67f",
   "metadata": {},
   "outputs": [
    {
     "data": {
      "text/plain": [
       "120"
      ]
     },
     "execution_count": 17,
     "metadata": {},
     "output_type": "execute_result"
    }
   ],
   "source": [
    "factorial(5)"
   ]
  },
  {
   "cell_type": "code",
   "execution_count": 1,
   "id": "67110878",
   "metadata": {},
   "outputs": [],
   "source": [
    "public static void moveDisks(int n, char fromTower,\n",
    "      char toTower, char auxTower) {\n",
    "    if (n == 1) // Stopping condition\n",
    "      System.out.println(\"Move disk \" + n + \" from \" +\n",
    "        fromTower + \" to \" + toTower);\n",
    "    else {\n",
    "      moveDisks(n - 1, fromTower, auxTower, toTower);\n",
    "      System.out.println(\"Move disk \" + n + \" from \" +\n",
    "        fromTower + \" to \" + toTower);\n",
    "      moveDisks(n - 1, auxTower, toTower, fromTower);\n",
    "    }\n",
    "  }"
   ]
  },
  {
   "cell_type": "code",
   "execution_count": 2,
   "id": "6479852e",
   "metadata": {},
   "outputs": [
    {
     "name": "stdout",
     "output_type": "stream",
     "text": [
      "Enter number of disks: 5\n",
      "The moves are:\n",
      "Move disk 1 from A to B\n",
      "Move disk 2 from A to C\n",
      "Move disk 1 from B to C\n",
      "Move disk 3 from A to B\n",
      "Move disk 1 from C to A\n",
      "Move disk 2 from C to B\n",
      "Move disk 1 from A to B\n",
      "Move disk 4 from A to C\n",
      "Move disk 1 from B to C\n",
      "Move disk 2 from B to A\n",
      "Move disk 1 from C to A\n",
      "Move disk 3 from B to C\n",
      "Move disk 1 from A to B\n",
      "Move disk 2 from A to C\n",
      "Move disk 1 from B to C\n",
      "Move disk 5 from A to B\n",
      "Move disk 1 from C to A\n",
      "Move disk 2 from C to B\n",
      "Move disk 1 from A to B\n",
      "Move disk 3 from C to A\n",
      "Move disk 1 from B to C\n",
      "Move disk 2 from B to A\n",
      "Move disk 1 from C to A\n",
      "Move disk 4 from C to B\n",
      "Move disk 1 from A to B\n",
      "Move disk 2 from A to C\n",
      "Move disk 1 from B to C\n",
      "Move disk 3 from A to B\n",
      "Move disk 1 from C to A\n",
      "Move disk 2 from C to B\n",
      "Move disk 1 from A to B\n"
     ]
    }
   ],
   "source": [
    "import java.util.Scanner; \n",
    "\n",
    "Scanner input = new Scanner(System.in);\n",
    "System.out.print(\"Enter number of disks: \");\n",
    "int n = input.nextInt();\n",
    "\n",
    "// Find the solution recursively\n",
    "System.out.println(\"The moves are:\");\n",
    "moveDisks(n, 'A', 'B', 'C');"
   ]
  },
  {
   "cell_type": "code",
   "execution_count": null,
   "id": "34bf2027",
   "metadata": {},
   "outputs": [],
   "source": []
  }
 ],
 "metadata": {
  "kernelspec": {
   "display_name": "Java",
   "language": "java",
   "name": "java"
  },
  "language_info": {
   "codemirror_mode": "java",
   "file_extension": ".jshell",
   "mimetype": "text/x-java-source",
   "name": "Java",
   "pygments_lexer": "java",
   "version": "20+36-2344"
  }
 },
 "nbformat": 4,
 "nbformat_minor": 5
}

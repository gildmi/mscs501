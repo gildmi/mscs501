{
 "cells": [
  {
   "cell_type": "markdown",
   "id": "782b6ce4",
   "metadata": {},
   "source": [
    "# MSCS501 OOP - Lesson 9"
   ]
  },
  {
   "cell_type": "markdown",
   "id": "2a940293",
   "metadata": {},
   "source": [
    "### Generics (Chap 19)"
   ]
  },
  {
   "cell_type": "markdown",
   "id": "f9ff3649",
   "metadata": {},
   "source": [
    "Always...always...pay attention to compiler warnings and informational messages! \n",
    "\n",
    "Like this one..."
   ]
  },
  {
   "cell_type": "code",
   "execution_count": 4,
   "id": "11c70561",
   "metadata": {},
   "outputs": [],
   "source": [
    "public class ShowUncheckedWarning {\n",
    "  public static void main(String[] args) {\n",
    "    java.util.ArrayList list = new java.util.ArrayList();\n",
    "    list.add(\"Java Programming\");\n",
    "  }\n",
    "}"
   ]
  },
  {
   "cell_type": "raw",
   "id": "8ecf4b89",
   "metadata": {},
   "source": [
    "|  Warning:\n",
    "|  unchecked call to add(E) as a member of the raw type java.util.ArrayList\n",
    "|              list.add(\"Java Programming\");\n",
    "|              ^--------------------------^\n",
    "|  created class ShowUncheckedWarning"
   ]
  },
  {
   "cell_type": "markdown",
   "id": "afac7b66",
   "metadata": {},
   "source": [
    "Now how do we make that for away?"
   ]
  },
  {
   "cell_type": "code",
   "execution_count": 5,
   "id": "9f2a56a4",
   "metadata": {},
   "outputs": [],
   "source": [
    "public class ShowUncheckedWarning {\n",
    "  public static void main(String[] args) {\n",
    "    java.util.ArrayList<String> list = new java.util.ArrayList<String>();\n",
    "    list.add(\"Java Programming\");\n",
    "  }\n",
    "}"
   ]
  },
  {
   "cell_type": "raw",
   "id": "ebfd2de2",
   "metadata": {},
   "source": [
    "  modified class ShowUncheckedWarning"
   ]
  },
  {
   "cell_type": "markdown",
   "id": "ca46a0a7",
   "metadata": {},
   "source": [
    "So what is this generic anyway?"
   ]
  },
  {
   "cell_type": "code",
   "execution_count": 6,
   "id": "1080e1a3",
   "metadata": {},
   "outputs": [],
   "source": [
    "public class GenericStack<E> {\n",
    "  private java.util.ArrayList<E> list = new java.util.ArrayList<>();\n",
    "\n",
    "  public int getSize() {\n",
    "    return list.size();\n",
    "  }\n",
    "\n",
    "  public E peek() {\n",
    "    return list.get(getSize() - 1);\n",
    "  }\n",
    "\n",
    "  public void push(E o) {\n",
    "    list.add(o);\n",
    "  }\n",
    "\n",
    "  public E pop() {\n",
    "    E o = list.get(getSize() - 1);\n",
    "    list.remove(getSize() - 1);\n",
    "    return o;\n",
    "  }\n",
    "\n",
    "  public boolean isEmpty() {\n",
    "    return list.isEmpty();\n",
    "  }\n",
    "  \n",
    "  @Override\n",
    "  public String toString() {\n",
    "\treturn \"stack: \" + list.toString();\n",
    "  }\n",
    "}"
   ]
  },
  {
   "cell_type": "code",
   "execution_count": 7,
   "id": "40506510",
   "metadata": {},
   "outputs": [
    {
     "ename": "CompilationException",
     "evalue": "",
     "output_type": "error",
     "traceback": [
      "\u001b[1m\u001b[30m|   \u001b[1m\u001b[30mGenericStack<\u001b[0m\u001b[1m\u001b[30m\u001b[41mint\u001b[0m\u001b[1m\u001b[30m> gs3 = new GenericStack<int>();\u001b[0m",
      "\u001b[1m\u001b[31munexpected type\u001b[0m",
      "\u001b[1m\u001b[31m  required: reference\u001b[0m",
      "\u001b[1m\u001b[31m  found:    int\u001b[0m",
      "",
      "\u001b[1m\u001b[30m|   \u001b[1m\u001b[30mGenericStack<int> gs3 = new GenericStack<\u001b[0m\u001b[1m\u001b[30m\u001b[41mint\u001b[0m\u001b[1m\u001b[30m>();\u001b[0m",
      "\u001b[1m\u001b[31munexpected type\u001b[0m",
      "\u001b[1m\u001b[31m  required: reference\u001b[0m",
      "\u001b[1m\u001b[31m  found:    int\u001b[0m",
      ""
     ]
    }
   ],
   "source": [
    "GenericStack<Number> gs1 = new GenericStack<Number>();\n",
    "GenericStack<String> gs2 = new GenericStack<String>();\n",
    "GenericStack<int> gs3 = new GenericStack<int>();"
   ]
  },
  {
   "cell_type": "markdown",
   "id": "45447a1c",
   "metadata": {},
   "source": [
    "Neat, can it always be any type?"
   ]
  },
  {
   "cell_type": "code",
   "execution_count": 8,
   "id": "098bd9ba",
   "metadata": {},
   "outputs": [],
   "source": [
    "public static double max(GenericStack<Number> stack) {\n",
    "     double max = stack.pop().doubleValue(); // initialize max\n",
    "\n",
    "     while (!stack.isEmpty()) {\n",
    "       double value = stack.pop().doubleValue();\n",
    "       if (value > max)\n",
    "         max = value;\n",
    "     }\n",
    "\n",
    "     return max;\n",
    "  }"
   ]
  },
  {
   "cell_type": "code",
   "execution_count": 9,
   "id": "9434a06e",
   "metadata": {},
   "outputs": [],
   "source": [
    "GenericStack<Integer> intStack = new GenericStack<>();\n",
    "     intStack.push(1); // 1 is autoboxed into new Integer(1)\n",
    "     intStack.push(2);\n",
    "     intStack.push(-2);"
   ]
  },
  {
   "cell_type": "code",
   "execution_count": 10,
   "id": "f401fb0c",
   "metadata": {},
   "outputs": [
    {
     "ename": "CompilationException",
     "evalue": "",
     "output_type": "error",
     "traceback": [
      "\u001b[1m\u001b[30m|   \u001b[1m\u001b[30mSystem.out.print(\"The max number is \" + max(\u001b[0m\u001b[1m\u001b[30m\u001b[41mintStack\u001b[0m\u001b[1m\u001b[30m));\u001b[0m",
      "\u001b[1m\u001b[31mincompatible types: GenericStack<java.lang.Integer> cannot be converted to GenericStack<java.lang.Number>\u001b[0m",
      ""
     ]
    }
   ],
   "source": [
    "System.out.print(\"The max number is \" + max(intStack));"
   ]
  },
  {
   "cell_type": "markdown",
   "id": "db414111",
   "metadata": {},
   "source": [
    "So we may need to limit the type"
   ]
  },
  {
   "cell_type": "code",
   "execution_count": 11,
   "id": "5f6e2d62",
   "metadata": {},
   "outputs": [
    {
     "name": "stdout",
     "output_type": "stream",
     "text": [
      "-2 2 1 "
     ]
    }
   ],
   "source": [
    "// Any wild card\n",
    "public static void print(GenericStack<?> stack) {\n",
    "    while (!stack.isEmpty()) {\n",
    "      System.out.print(stack.pop() + \" \");\n",
    "    }\n",
    "  }\n",
    "  \n",
    "GenericStack<Integer> intStack = new GenericStack<>();\n",
    "intStack.push(1); // 1 is autoboxed into new Integer(1)\n",
    "intStack.push(2);\n",
    "intStack.push(-2);\n",
    "\n",
    "print(intStack);"
   ]
  },
  {
   "cell_type": "code",
   "execution_count": 13,
   "id": "c217e342",
   "metadata": {},
   "outputs": [
    {
     "name": "stdout",
     "output_type": "stream",
     "text": [
      "Sun 2 Java "
     ]
    }
   ],
   "source": [
    "// Super wildcard\n",
    "public static <T> void add(GenericStack<T> stack1, GenericStack<? super T> stack2) {\n",
    "    while (!stack1.isEmpty())\n",
    "      stack2.push(stack1.pop());\n",
    "}\n",
    "  \n",
    "GenericStack<String> stack1 = new GenericStack<String>();\n",
    "GenericStack<Object> stack2 = new GenericStack<Object>();\n",
    "stack2.push(\"Java\");\n",
    " stack2.push(2);\n",
    "stack1.push(\"Sun\");\n",
    "add(stack1, stack2);\n",
    "print(stack2);"
   ]
  },
  {
   "cell_type": "code",
   "execution_count": 15,
   "id": "986e40e8",
   "metadata": {},
   "outputs": [],
   "source": [
    "public abstract class GeometricObject {\n",
    "  private String color = \"white\";\n",
    "  private boolean filled;\n",
    "  private java.util.Date dateCreated;\n",
    "\n",
    "  /** Construct a default geometric object */\n",
    "  protected GeometricObject() {\n",
    "    dateCreated = new java.util.Date();\n",
    "  }\n",
    "\n",
    "  /** Construct a geometric object with color and filled value */\n",
    "  protected GeometricObject(String color, boolean filled) {\n",
    "    dateCreated = new java.util.Date();\n",
    "    this.color = color;\n",
    "    this.filled = filled;\n",
    "  }\n",
    "\n",
    "  /** Return color */\n",
    "  public String getColor() {\n",
    "    return color;\n",
    "  }\n",
    "\n",
    "  /** Set a new color */\n",
    "  public void setColor(String color) {\n",
    "    this.color = color;\n",
    "  }\n",
    "\n",
    "  /** Return filled. Since filled is boolean,\n",
    "   *  the get method is named isFilled */\n",
    "  public boolean isFilled() {\n",
    "    return filled;\n",
    "  }\n",
    "\n",
    "  /** Set a new filled */\n",
    "  public void setFilled(boolean filled) {\n",
    "    this.filled = filled;\n",
    "  }\n",
    "\n",
    "  /** Get dateCreated */\n",
    "  public java.util.Date getDateCreated() {\n",
    "    return dateCreated;\n",
    "  }\n",
    "\n",
    "  /** Return a string representation of this object */\n",
    "  public String toString() {\n",
    "    return \"created on \" + dateCreated + \"\\ncolor: \" + color +\n",
    "      \" and filled: \" + filled;\n",
    "  }\n",
    "\n",
    "  /** Abstract method getArea */\n",
    "  public abstract double getArea();\n",
    "\n",
    "  /** Abstract method getPerimeter */\n",
    "  public abstract double getPerimeter();\n",
    "}\n"
   ]
  },
  {
   "cell_type": "code",
   "execution_count": 18,
   "id": "456180fe",
   "metadata": {},
   "outputs": [],
   "source": [
    "public class Circle extends GeometricObject {\n",
    "  private double radius;\n",
    "\n",
    "  public Circle() {\n",
    "  }\n",
    "\n",
    "  @Override\n",
    "  public int hashCode() {\n",
    "    final int prime = 31;\n",
    "    int result = 1;\n",
    "    long temp;\n",
    "    temp = Double.doubleToLongBits(radius);\n",
    "    result = prime * result + (int) (temp ^ (temp >>> 32));\n",
    "    return result;\n",
    "  }\n",
    "\n",
    "  @Override\n",
    "  public boolean equals(Object obj) {\n",
    "    if (this == obj)\n",
    "      return true;\n",
    "    if (obj == null)\n",
    "      return false;\n",
    "    if (getClass() != obj.getClass())\n",
    "      return false;\n",
    "    Circle other = (Circle) obj;\n",
    "    if (Double.doubleToLongBits(radius) != Double.doubleToLongBits(other.radius))\n",
    "      return false;\n",
    "    return true;\n",
    "  }\n",
    "\n",
    "  public Circle(double radius) {\n",
    "    this.radius = radius;\n",
    "  }\n",
    "\n",
    "  /** Return radius */\n",
    "  public double getRadius() {\n",
    "    return radius;\n",
    "  }\n",
    "\n",
    "  /** Set a new radius */\n",
    "  public void setRadius(double radius) {\n",
    "    this.radius = radius;\n",
    "  }\n",
    "\n",
    "  @Override /** Return area */\n",
    "  public double getArea() {\n",
    "    return radius * radius * Math.PI;\n",
    "  }\n",
    "\n",
    "  /** Return diameter */\n",
    "  public double getDiameter() {\n",
    "    return 2 * radius;\n",
    "  }\n",
    "\n",
    "  @Override /** Return perimeter */\n",
    "  public double getPerimeter() {\n",
    "    return 2 * radius * Math.PI;\n",
    "  }\n",
    "\n",
    "  /* Print the circle info */\n",
    "  public void printCircle() {\n",
    "    System.out.println(\"The circle is created \" + getDateCreated() +\n",
    "      \" and the radius is \" + radius);\n",
    "  }\n",
    "}"
   ]
  },
  {
   "cell_type": "code",
   "execution_count": 20,
   "id": "ca3bb324",
   "metadata": {},
   "outputs": [],
   "source": [
    "public class Rectangle extends GeometricObject {\n",
    "  private double width;\n",
    "  private double height;\n",
    "\n",
    "  public Rectangle() {\n",
    "  }\n",
    "\n",
    "  public Rectangle(double width, double height) {\n",
    "    this.width = width;\n",
    "    this.height = height;\n",
    "  }\n",
    "\n",
    "  /** Return width */\n",
    "  public double getWidth() {\n",
    "    return width;\n",
    "  }\n",
    "\n",
    "  /** Set a new width */\n",
    "  public void setWidth(double width) {\n",
    "    this.width = width;\n",
    "  }\n",
    "\n",
    "  /** Return height */\n",
    "  public double getHeight() {\n",
    "    return height;\n",
    "  }\n",
    "\n",
    "  /** Set a new height */\n",
    "  public void setHeight(double height) {\n",
    "    this.height = height;\n",
    "  }\n",
    "\n",
    "  @Override /** Return area */\n",
    "  public double getArea() {\n",
    "    return width * height;\n",
    "  }\n",
    "\n",
    "  @Override /** Return perimeter */\n",
    "  public double getPerimeter() {\n",
    "    return 2 * (width + height);\n",
    "  }\n",
    "}\n"
   ]
  },
  {
   "cell_type": "code",
   "execution_count": 21,
   "id": "10b8dbc4",
   "metadata": {},
   "outputs": [],
   "source": [
    " public static <E extends GeometricObject> boolean equalArea(\n",
    "      E object1, E object2) {\n",
    "    return object1.getArea() == object2.getArea();\n",
    "  }"
   ]
  },
  {
   "cell_type": "code",
   "execution_count": 22,
   "id": "5743cd37",
   "metadata": {},
   "outputs": [
    {
     "name": "stdout",
     "output_type": "stream",
     "text": [
      "Same area? false\r\n"
     ]
    }
   ],
   "source": [
    "Rectangle rectangle = new Rectangle(2, 2);\n",
    "Circle circle = new Circle(2);\n",
    "\n",
    "System.out.println(\"Same area? \" + equalArea(rectangle, circle));"
   ]
  },
  {
   "cell_type": "markdown",
   "id": "21f1e76d",
   "metadata": {},
   "source": [
    "Another example..."
   ]
  },
  {
   "cell_type": "code",
   "execution_count": 24,
   "id": "a4af5daf",
   "metadata": {},
   "outputs": [],
   "source": [
    "public abstract class GenericMatrix<E extends Number> {\n",
    "  /** Abstract method for adding two elements of the matrices */\n",
    "  protected abstract E add(E o1, E o2);\n",
    "\n",
    "  /** Abstract method for multiplying two elements of the matrices */\n",
    "  protected abstract E multiply(E o1, E o2);\n",
    "\n",
    "  /** Abstract method for defining zero for the matrix element */\n",
    "  protected abstract E zero();\n",
    "\n",
    "  /** Add two matrices */\n",
    "  public E[][] addMatrix(E[][] matrix1, E[][] matrix2) {\n",
    "    // Check bounds of the two matrices\n",
    "    if ((matrix1.length != matrix2.length) ||\n",
    "        (matrix1[0].length != matrix2[0].length)) {\n",
    "      throw new RuntimeException(\n",
    "        \"The matrices do not have the same size\");\n",
    "    }\n",
    "\n",
    "    E[][] result =\n",
    "      (E[][])new Number[matrix1.length][matrix1[0].length];\n",
    "\n",
    "    // Perform addition\n",
    "    for (int i = 0; i < result.length; i++)\n",
    "      for (int j = 0; j < result[i].length; j++) {\n",
    "        result[i][j] = add(matrix1[i][j], matrix2[i][j]);\n",
    "      }\n",
    "\n",
    "    return result;\n",
    "  }\n",
    "\n",
    "  /** Multiply two matrices */\n",
    "  public E[][] multiplyMatrix(E[][] matrix1, E[][] matrix2) {\n",
    "    // Check bounds\n",
    "    if (matrix1[0].length != matrix2.length) {\n",
    "      throw new RuntimeException(\n",
    "        \"The matrices do not have compatible size\");\n",
    "    }\n",
    "\n",
    "    // Create result matrix\n",
    "    E[][] result =\n",
    "      (E[][])new Number[matrix1.length][matrix2[0].length];\n",
    "\n",
    "    // Perform multiplication of two matrices\n",
    "    for (int i = 0; i < result.length; i++) {\n",
    "      for (int j = 0; j < result[0].length; j++) {\n",
    "        result[i][j] = zero();\n",
    "\n",
    "        for (int k = 0; k < matrix1[0].length; k++) {\n",
    "          result[i][j] = add(result[i][j],\n",
    "            multiply(matrix1[i][k], matrix2[k][j]));\n",
    "        }\n",
    "      }\n",
    "    }\n",
    "\n",
    "    return result;\n",
    "  }\n",
    "\n",
    "  /** Print matrices, the operator, and their operation result */\n",
    "  public static void printResult(\n",
    "      Number[][] m1, Number[][] m2, Number[][] m3, char op) {\n",
    "    for (int i = 0; i < m1.length; i++) {\n",
    "      for (int j = 0; j < m1[0].length; j++)\n",
    "        System.out.print(\" \" + m1[i][j]);\n",
    "\n",
    "      if (i == m1.length / 2)\n",
    "        System.out.print(\"  \" + op + \"  \");\n",
    "      else\n",
    "        System.out.print(\"     \");\n",
    "\n",
    "      for (int j = 0; j < m2.length; j++)\n",
    "        System.out.print(\" \" + m2[i][j]);\n",
    "\n",
    "      if (i == m1.length / 2)\n",
    "        System.out.print(\"  =  \");\n",
    "      else\n",
    "        System.out.print(\"     \");\n",
    "\n",
    "      for (int j = 0; j < m3.length; j++)\n",
    "        System.out.print(m3[i][j] + \" \");\n",
    "\n",
    "      System.out.println();\n",
    "    }\n",
    "  }\n",
    "}"
   ]
  },
  {
   "cell_type": "code",
   "execution_count": 25,
   "id": "1c0f7aa3",
   "metadata": {},
   "outputs": [],
   "source": [
    "public class IntegerMatrix extends GenericMatrix<Integer> {\n",
    "  @Override /** Add two integers */\n",
    "  protected Integer add(Integer o1, Integer o2) {\n",
    "    return o1 + o2;\n",
    "  }\n",
    "\n",
    "  @Override /** Multiply two integers */\n",
    "  protected Integer multiply(Integer o1, Integer o2) {\n",
    "    return o1 * o2;\n",
    "  }\n",
    "\n",
    "  @Override /** Specify zero for an integer */\n",
    "  protected Integer zero() {\n",
    "    return 0;\n",
    "  }\n",
    "}"
   ]
  },
  {
   "cell_type": "code",
   "execution_count": 26,
   "id": "eec427a3",
   "metadata": {},
   "outputs": [],
   "source": [
    "public class TestIntegerMatrix {\n",
    "  public static void main(String[] args) {\n",
    "    // Create Integer arrays m1, m2\n",
    "    Integer[][] m1 = new Integer[][]{{1, 2, 3}, {4, 5, 6}, {1, 1, 1}};\n",
    "    Integer[][] m2 = new Integer[][]{{1, 1, 1}, {2, 2, 2}, {0, 0, 0}};\n",
    "\n",
    "    // Create an instance of IntegerMatrix\n",
    "    IntegerMatrix integerMatrix = new IntegerMatrix();\n",
    "\n",
    "    System.out.println(\"\\nm1 + m2 is \");\n",
    "    GenericMatrix.printResult(\n",
    "      m1, m2, integerMatrix.addMatrix(m1, m2), '+');\n",
    "\n",
    "    System.out.println(\"\\nm1 * m2 is \");\n",
    "    GenericMatrix.printResult(\n",
    "      m1, m2, integerMatrix.multiplyMatrix(m1, m2), '*');\n",
    "  }\n",
    "}"
   ]
  },
  {
   "cell_type": "markdown",
   "id": "842b3d0e",
   "metadata": {},
   "source": [
    "### Recursion (Chap 18)"
   ]
  },
  {
   "cell_type": "code",
   "execution_count": 28,
   "id": "799dd749",
   "metadata": {},
   "outputs": [],
   "source": [
    "//Return the factorial for a specified number\n",
    "public static long factorial(int n) {\n",
    "  if (n == 0) { // Base case\n",
    "    return 1;\n",
    "  }\n",
    "  else {\n",
    "    return n * factorial(n - 1); // Recursive call\n",
    "  }\n",
    "}"
   ]
  },
  {
   "cell_type": "code",
   "execution_count": 2,
   "id": "321d8482",
   "metadata": {},
   "outputs": [
    {
     "name": "stdout",
     "output_type": "stream",
     "text": [
      "Enter a non-negative integer: 10\n",
      "Factorial of 10 is 3628800\n"
     ]
    }
   ],
   "source": [
    "import java.util.Scanner; \n",
    "\n",
    "// Create a Scanner\n",
    "Scanner input = new Scanner(System.in);\n",
    "System.out.print(\"Enter a non-negative integer: \");\n",
    "int n = input.nextInt();\n",
    "    \n",
    "// Display factorial\n",
    "System.out.println(\"Factorial of \" + n + \" is \" + factorial(n));"
   ]
  },
  {
   "cell_type": "code",
   "execution_count": 2,
   "id": "6ba70281",
   "metadata": {},
   "outputs": [],
   "source": [
    "public static long fib(long index) {\n",
    "    if (index == 0) // Base case\n",
    "      return 0;\n",
    "    else if (index == 1) // Base case\n",
    "      return 1;\n",
    "    else  // Reduction and recursive calls\n",
    "      return fib(index - 1) + fib(index - 2);\n",
    "  }"
   ]
  },
  {
   "cell_type": "code",
   "execution_count": 3,
   "id": "c4bfe423",
   "metadata": {},
   "outputs": [
    {
     "name": "stdout",
     "output_type": "stream",
     "text": [
      "Enter an index for the Fibonacci number: 10\n",
      "Fibonacci number at index 10 is 55\n"
     ]
    }
   ],
   "source": [
    "import java.util.Scanner;\n",
    "\n",
    "Scanner input = new Scanner(System.in);\n",
    "    System.out.print(\"Enter an index for the Fibonacci number: \");\n",
    "    int index = input.nextInt();\n",
    "\n",
    "    // Find and display the Fibonacci number\n",
    "    System.out.println( \n",
    "      \"Fibonacci number at index \" + index + \" is \" + fib(index));"
   ]
  },
  {
   "cell_type": "code",
   "execution_count": 4,
   "id": "225da630",
   "metadata": {},
   "outputs": [],
   "source": [
    "public static boolean isPalindrome(String s) {\n",
    "    return isPalindrome(s, 0, s.length() - 1);\n",
    "  }"
   ]
  },
  {
   "cell_type": "code",
   "execution_count": 5,
   "id": "4c608e47",
   "metadata": {},
   "outputs": [],
   "source": [
    "public static boolean isPalindrome(String s, int low, int high) {\n",
    "    if (high <= low) // Base case\n",
    "      return true;\n",
    "    else if (s.charAt(low) != s.charAt(high)) // Base case\n",
    "      return false;\n",
    "    else\n",
    "      return isPalindrome(s, low + 1, high - 1);\n",
    "  }"
   ]
  },
  {
   "cell_type": "code",
   "execution_count": 6,
   "id": "a6b74f88",
   "metadata": {},
   "outputs": [
    {
     "name": "stdout",
     "output_type": "stream",
     "text": [
      "Is moon a palindrome? false\n",
      "Is noon a palindrome? true\n",
      "Is a a palindrome? true\n",
      "Is aba a palindrome? true\n",
      "Is ab a palindrome? false\n"
     ]
    }
   ],
   "source": [
    "System.out.println(\"Is moon a palindrome? \" \n",
    "      + isPalindrome(\"moon\"));\n",
    "    System.out.println(\"Is noon a palindrome? \" \n",
    "      + isPalindrome(\"noon\"));\n",
    "    System.out.println(\"Is a a palindrome? \" + isPalindrome(\"a\"));\n",
    "    System.out.println(\"Is aba a palindrome? \" + \n",
    "      isPalindrome(\"aba\"));\n",
    "    System.out.println(\"Is ab a palindrome? \" + isPalindrome(\"ab\"));"
   ]
  },
  {
   "cell_type": "code",
   "execution_count": 7,
   "id": "be528ff0",
   "metadata": {},
   "outputs": [],
   "source": [
    "public static long getSize(File file) {\n",
    "    long size = 0; // Store the total size of all files\n",
    "\n",
    "    if (file.isDirectory()) {\n",
    "      File[] files = file.listFiles(); // All files and subdirectories\n",
    "      for (int i = 0; i < files.length; i++) {\n",
    "        size += getSize(files[i]); // Recursive call\n",
    "      }\n",
    "    }\n",
    "    else { // Base case\n",
    "      size += file.length();\n",
    "    }\n",
    "\n",
    "    return size;\n",
    "  }"
   ]
  },
  {
   "cell_type": "code",
   "execution_count": 9,
   "id": "14bf7347",
   "metadata": {},
   "outputs": [
    {
     "name": "stdout",
     "output_type": "stream",
     "text": [
      "Enter a directory or a file: test\n",
      "95798 bytes\n"
     ]
    }
   ],
   "source": [
    "import java.io.File;\n",
    "import java.util.Scanner; \n",
    "\n",
    "// Prompt the user to enter a directory or a file\n",
    "    System.out.print(\"Enter a directory or a file: \");    \n",
    "    Scanner input = new Scanner(System.in);\n",
    "    String directory = input.nextLine();\n",
    "    \n",
    "    // Display the size\n",
    "    System.out.println(getSize(new File(directory)) + \" bytes\");"
   ]
  },
  {
   "cell_type": "code",
   "execution_count": 10,
   "id": "845425cb",
   "metadata": {},
   "outputs": [],
   "source": [
    "/** The method for finding the solution to move n disks\n",
    "      from fromTower to toTower with auxTower */\n",
    "  public static void moveDisks(int n, char fromTower,\n",
    "      char toTower, char auxTower) {\n",
    "    if (n == 1) // Stopping condition\n",
    "      System.out.println(\"Move disk \" + n + \" from \" +\n",
    "        fromTower + \" to \" + toTower);\n",
    "    else {\n",
    "      moveDisks(n - 1, fromTower, auxTower, toTower);\n",
    "      System.out.println(\"Move disk \" + n + \" from \" +\n",
    "        fromTower + \" to \" + toTower);\n",
    "      moveDisks(n - 1, auxTower, toTower, fromTower);\n",
    "    }\n",
    "  }"
   ]
  },
  {
   "cell_type": "code",
   "execution_count": 11,
   "id": "0bfa6b72",
   "metadata": {},
   "outputs": [
    {
     "name": "stdout",
     "output_type": "stream",
     "text": [
      "Enter number of disks: 5\n",
      "The moves are:\n",
      "Move disk 1 from A to B\n",
      "Move disk 2 from A to C\n",
      "Move disk 1 from B to C\n",
      "Move disk 3 from A to B\n",
      "Move disk 1 from C to A\n",
      "Move disk 2 from C to B\n",
      "Move disk 1 from A to B\n",
      "Move disk 4 from A to C\n",
      "Move disk 1 from B to C\n",
      "Move disk 2 from B to A\n",
      "Move disk 1 from C to A\n",
      "Move disk 3 from B to C\n",
      "Move disk 1 from A to B\n",
      "Move disk 2 from A to C\n",
      "Move disk 1 from B to C\n",
      "Move disk 5 from A to B\n",
      "Move disk 1 from C to A\n",
      "Move disk 2 from C to B\n",
      "Move disk 1 from A to B\n",
      "Move disk 3 from C to A\n",
      "Move disk 1 from B to C\n",
      "Move disk 2 from B to A\n",
      "Move disk 1 from C to A\n",
      "Move disk 4 from C to B\n",
      "Move disk 1 from A to B\n",
      "Move disk 2 from A to C\n",
      "Move disk 1 from B to C\n",
      "Move disk 3 from A to B\n",
      "Move disk 1 from C to A\n",
      "Move disk 2 from C to B\n",
      "Move disk 1 from A to B\n"
     ]
    }
   ],
   "source": [
    "import java.util.Scanner; \n",
    "\n",
    "// Create a Scanner\n",
    "    Scanner input = new Scanner(System.in);\n",
    "    System.out.print(\"Enter number of disks: \");\n",
    "    int n = input.nextInt();\n",
    "\n",
    "    // Find the solution recursively\n",
    "    System.out.println(\"The moves are:\");\n",
    "    moveDisks(n, 'A', 'B', 'C');"
   ]
  },
  {
   "cell_type": "code",
   "execution_count": 15,
   "id": "87f9ea5a",
   "metadata": {},
   "outputs": [],
   "source": [
    "/** Auxiliary tail-recursive method for factorial */\n",
    "  private static long factorial(int n, int result) {\n",
    "    if (n == 0) \n",
    "      return result;\n",
    "    else\n",
    "      return factorial(n - 1, n * result); // Recursive call\n",
    "  }"
   ]
  },
  {
   "cell_type": "code",
   "execution_count": 16,
   "id": "a71a0ef9",
   "metadata": {},
   "outputs": [],
   "source": [
    "public static long factorial(int n) {\n",
    "    return factorial(n, 1); // Call auxiliary method\n",
    "  }"
   ]
  },
  {
   "cell_type": "code",
   "execution_count": 17,
   "id": "dfadf67f",
   "metadata": {},
   "outputs": [
    {
     "data": {
      "text/plain": [
       "120"
      ]
     },
     "execution_count": 17,
     "metadata": {},
     "output_type": "execute_result"
    }
   ],
   "source": [
    "factorial(5)"
   ]
  },
  {
   "cell_type": "code",
   "execution_count": 1,
   "id": "67110878",
   "metadata": {},
   "outputs": [],
   "source": [
    "public static void moveDisks(int n, char fromTower,\n",
    "      char toTower, char auxTower) {\n",
    "    if (n == 1) // Stopping condition\n",
    "      System.out.println(\"Move disk \" + n + \" from \" +\n",
    "        fromTower + \" to \" + toTower);\n",
    "    else {\n",
    "      moveDisks(n - 1, fromTower, auxTower, toTower);\n",
    "      System.out.println(\"Move disk \" + n + \" from \" +\n",
    "        fromTower + \" to \" + toTower);\n",
    "      moveDisks(n - 1, auxTower, toTower, fromTower);\n",
    "    }\n",
    "  }"
   ]
  },
  {
   "cell_type": "code",
   "execution_count": 2,
   "id": "6479852e",
   "metadata": {},
   "outputs": [
    {
     "name": "stdout",
     "output_type": "stream",
     "text": [
      "Enter number of disks: 5\n",
      "The moves are:\n",
      "Move disk 1 from A to B\n",
      "Move disk 2 from A to C\n",
      "Move disk 1 from B to C\n",
      "Move disk 3 from A to B\n",
      "Move disk 1 from C to A\n",
      "Move disk 2 from C to B\n",
      "Move disk 1 from A to B\n",
      "Move disk 4 from A to C\n",
      "Move disk 1 from B to C\n",
      "Move disk 2 from B to A\n",
      "Move disk 1 from C to A\n",
      "Move disk 3 from B to C\n",
      "Move disk 1 from A to B\n",
      "Move disk 2 from A to C\n",
      "Move disk 1 from B to C\n",
      "Move disk 5 from A to B\n",
      "Move disk 1 from C to A\n",
      "Move disk 2 from C to B\n",
      "Move disk 1 from A to B\n",
      "Move disk 3 from C to A\n",
      "Move disk 1 from B to C\n",
      "Move disk 2 from B to A\n",
      "Move disk 1 from C to A\n",
      "Move disk 4 from C to B\n",
      "Move disk 1 from A to B\n",
      "Move disk 2 from A to C\n",
      "Move disk 1 from B to C\n",
      "Move disk 3 from A to B\n",
      "Move disk 1 from C to A\n",
      "Move disk 2 from C to B\n",
      "Move disk 1 from A to B\n"
     ]
    }
   ],
   "source": [
    "import java.util.Scanner; \n",
    "\n",
    "Scanner input = new Scanner(System.in);\n",
    "System.out.print(\"Enter number of disks: \");\n",
    "int n = input.nextInt();\n",
    "\n",
    "// Find the solution recursively\n",
    "System.out.println(\"The moves are:\");\n",
    "moveDisks(n, 'A', 'B', 'C');"
   ]
  }
 ],
 "metadata": {
  "kernelspec": {
   "display_name": "Java",
   "language": "java",
   "name": "java"
  },
  "language_info": {
   "codemirror_mode": "java",
   "file_extension": ".jshell",
   "mimetype": "text/x-java-source",
   "name": "Java",
   "pygments_lexer": "java",
   "version": "20+36-2344"
  }
 },
 "nbformat": 4,
 "nbformat_minor": 5
}

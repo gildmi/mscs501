{
 "cells": [
  {
   "cell_type": "markdown",
   "id": "786e592d-fb17-4ccd-9418-94e36accb30a",
   "metadata": {},
   "source": [
    "# OOP MSCS501 - Lesson 2\n",
    "Code snippets to go over concepts convered in class and look at how Java works in practice!"
   ]
  },
  {
   "cell_type": "code",
   "execution_count": 24,
   "id": "99be4cff-ca4a-48bc-8f8c-c89a5e939d1e",
   "metadata": {},
   "outputs": [
    {
     "name": "stdout",
     "output_type": "stream",
     "text": [
      "Mike was here\n"
     ]
    }
   ],
   "source": [
    "System.out.println(\"Mike was here\");"
   ]
  },
  {
   "cell_type": "code",
   "execution_count": 25,
   "id": "6bb70996-df7d-470a-b8ed-70316a3ec4eb",
   "metadata": {},
   "outputs": [
    {
     "name": "stdout",
     "output_type": "stream",
     "text": [
      "A : 1\n",
      "B : 5\n",
      "C = a + b : 6\n"
     ]
    }
   ],
   "source": [
    "int ar[] = {1, 5, 75, 64};\n",
    "int a=ar[0]; \n",
    "System.out.println(\"A : \" +a);\n",
    "int b=ar[1];\n",
    "System.out.println(\"B : \" +b);\n",
    "int c = a + b;\n",
    "System.out.println(\"C = a + b : \" +c);"
   ]
  },
  {
   "cell_type": "markdown",
   "id": "ae096016-a21c-4ddd-8977-1969b36345c5",
   "metadata": {},
   "source": [
    "# Being Lesson\n",
    "- mike\n",
    "- mike\n"
   ]
  },
  {
   "cell_type": "code",
   "execution_count": 29,
   "id": "0743c45f-9542-475c-89a1-1ec099973930",
   "metadata": {},
   "outputs": [
    {
     "name": "stdout",
     "output_type": "stream",
     "text": [
      "1662510032621\n",
      "Current time is 0:20:32 GMT\n"
     ]
    }
   ],
   "source": [
    "// Obtain the total milliseconds since midnight, Jan 1, 1970\n",
    "long totalMilliseconds = System.currentTimeMillis();\n",
    "System.out.println(totalMilliseconds);\n",
    "// Obtain the total seconds since midnight, Jan 1, 1970\n",
    "long totalSeconds = totalMilliseconds / 1000;\n",
    "\n",
    "// Compute the current second in the minute in the hour\n",
    "long currentSecond = totalSeconds % 60;\n",
    "\n",
    "// Obtain the total minutes\n",
    "long totalMinutes = totalSeconds / 60;\n",
    "\n",
    "// Compute the current minute in the hour\n",
    "long currentMinute = totalMinutes % 60;\n",
    "\n",
    "// Obtain the total hours\n",
    "long totalHours = totalMinutes / 60;\n",
    "\n",
    "// Compute the current hour\n",
    "long currentHour = totalHours % 24;\n",
    "\n",
    "// Display results\n",
    "System.out.println(\"Current time is \" + currentHour + \":\" + currentMinute + \":\" + currentSecond + \" GMT\");"
   ]
  },
  {
   "cell_type": "code",
   "execution_count": 30,
   "id": "26d043a9-bc68-4506-a86f-e8f0619cd356",
   "metadata": {},
   "outputs": [
    {
     "name": "stdout",
     "output_type": "stream",
     "text": [
      "20:20:51.289116100\n"
     ]
    }
   ],
   "source": [
    "import java.time.LocalTime;\n",
    "LocalTime timeObj = LocalTime.now();\n",
    "//String currentTime = timeObj.toString();\n",
    "System.out.println(timeObj.toString());"
   ]
  },
  {
   "cell_type": "code",
   "execution_count": 16,
   "id": "b92a8262-b834-4343-9d10-052c809b0544",
   "metadata": {},
   "outputs": [
    {
     "name": "stdout",
     "output_type": "stream",
     "text": [
      "Enter purchase amount: Sales tax is 1.13\n"
     ]
    }
   ],
   "source": [
    "System.out.print(\"Enter purchase amount: \");\n",
    "double purchaseAmount = 19.00; //input.nextDouble();\n",
    "\n",
    "double tax = purchaseAmount * 0.06;\n",
    "System.out.println(\"Sales tax is \" + (int)(tax * 100) / 100.0);"
   ]
  },
  {
   "cell_type": "code",
   "execution_count": 36,
   "id": "7ce74f97-bfe2-47c5-9c31-a1d0203e7699",
   "metadata": {},
   "outputs": [
    {
     "data": {
      "text/plain": [
       "113.99999999999999"
      ]
     },
     "execution_count": 36,
     "metadata": {},
     "output_type": "execute_result"
    }
   ],
   "source": [
    "19.0*0.06*100"
   ]
  },
  {
   "cell_type": "code",
   "execution_count": 17,
   "id": "d1ecc3b6-5f9f-4f74-8c29-fd4b0d08b8cd",
   "metadata": {},
   "outputs": [
    {
     "data": {
      "text/plain": [
       "1.14"
      ]
     },
     "execution_count": 17,
     "metadata": {},
     "output_type": "execute_result"
    }
   ],
   "source": [
    "tax"
   ]
  },
  {
   "cell_type": "code",
   "execution_count": 33,
   "id": "846b628e-05ea-412a-9cb5-3f67f46da965",
   "metadata": {},
   "outputs": [
    {
     "data": {
      "text/plain": [
       "1.14"
      ]
     },
     "execution_count": 33,
     "metadata": {},
     "output_type": "execute_result"
    }
   ],
   "source": [
    "Math.round(tax * 100) / 100.0"
   ]
  },
  {
   "cell_type": "code",
   "execution_count": 5,
   "id": "2fa5f14d-668f-4f70-8971-9f1477602a9e",
   "metadata": {},
   "outputs": [
    {
     "name": "stdout",
     "output_type": "stream",
     "text": [
      "Your amount 15.32 consists of\n",
      "15 dollars\n",
      "1 quarters \n",
      "0 dimes\n",
      "1 nickels\n",
      "2 pennies\n"
     ]
    }
   ],
   "source": [
    "// Create a Scanner\n",
    "Scanner input = new Scanner(System.in);\n",
    "\n",
    "// Receive the amount \n",
    "//System.out.print(\"Enter an amount in double, for example 11.56: \");\n",
    "double amount = 15.32; //input.nextDouble();\n",
    "\n",
    "int remainingAmount = (int)(amount * 100);\n",
    "\n",
    "// Find the number of one dollars\n",
    "int numberOfOneDollars = remainingAmount / 100;\n",
    "remainingAmount = remainingAmount % 100;\n",
    "\n",
    "// Find the number of quarters in the remaining amount\n",
    "int numberOfQuarters = remainingAmount / 25;\n",
    "remainingAmount = remainingAmount % 25;\n",
    "\n",
    "// Find the number of dimes in the remaining amount\n",
    "int numberOfDimes = remainingAmount / 10;\n",
    "remainingAmount = remainingAmount % 10;\n",
    "\n",
    "// Find the number of nickels in the remaining amount\n",
    "int numberOfNickels = remainingAmount / 5;\n",
    "remainingAmount = remainingAmount % 5;\n",
    "\n",
    "// Find the number of pennies in the remaining amount\n",
    "int numberOfPennies = remainingAmount;\n",
    "\n",
    "// Display results\n",
    "System.out.println(\"Your amount \" + amount + \" consists of\"); \n",
    "System.out.println(\"\" + numberOfOneDollars + \" dollars\");\n",
    "System.out.println(\"\" + numberOfQuarters + \" quarters \");\n",
    "System.out.println(\"\" + numberOfDimes + \" dimes\"); \n",
    "System.out.println(\"\" + numberOfNickels + \" nickels\");\n",
    "System.out.println(\"\" + numberOfPennies + \" pennies\");"
   ]
  },
  {
   "cell_type": "markdown",
   "id": "207fef5c-b14c-4584-b05d-b9843930acb3",
   "metadata": {},
   "source": [
    "## Chap 4"
   ]
  },
  {
   "cell_type": "code",
   "execution_count": 40,
   "id": "6c87c935-81f9-451f-b288-ab17b4b10021",
   "metadata": {},
   "outputs": [
    {
     "data": {
      "text/plain": [
       "0.44227441027615844"
      ]
     },
     "execution_count": 40,
     "metadata": {},
     "output_type": "execute_result"
    }
   ],
   "source": [
    "Math.random();"
   ]
  },
  {
   "cell_type": "code",
   "execution_count": 43,
   "id": "2143f575-efc7-44d6-a6ab-1f3cfcf8e05f",
   "metadata": {},
   "outputs": [
    {
     "data": {
      "text/plain": [
       "7.3789737770533"
      ]
     },
     "execution_count": 43,
     "metadata": {},
     "output_type": "execute_result"
    }
   ],
   "source": [
    "Math.random()*10"
   ]
  },
  {
   "cell_type": "code",
   "execution_count": 50,
   "id": "105c56e7-9449-4e92-affc-017d3bb88ef5",
   "metadata": {},
   "outputs": [
    {
     "data": {
      "text/plain": [
       "0"
      ]
     },
     "execution_count": 50,
     "metadata": {},
     "output_type": "execute_result"
    }
   ],
   "source": [
    "(int)Math.random()*10"
   ]
  },
  {
   "cell_type": "code",
   "execution_count": 24,
   "id": "96952fba-4294-4dab-b227-838ffa6ceff8",
   "metadata": {},
   "outputs": [
    {
     "data": {
      "text/plain": [
       "7"
      ]
     },
     "execution_count": 24,
     "metadata": {},
     "output_type": "execute_result"
    }
   ],
   "source": [
    "(int)(Math.random()*10)"
   ]
  },
  {
   "cell_type": "code",
   "execution_count": 51,
   "id": "d059f757-b332-410a-98aa-102b52812b0d",
   "metadata": {},
   "outputs": [
    {
     "data": {
      "text/plain": [
       "80.0"
      ]
     },
     "execution_count": 51,
     "metadata": {},
     "output_type": "execute_result"
    }
   ],
   "source": [
    "Math.floor(Math.random() * 100);"
   ]
  },
  {
   "cell_type": "code",
   "execution_count": 63,
   "id": "2d16b1dc-fca2-44ab-92a8-13f7e02d45a1",
   "metadata": {},
   "outputs": [
    {
     "data": {
      "text/plain": [
       "3.0"
      ]
     },
     "execution_count": 63,
     "metadata": {},
     "output_type": "execute_result"
    }
   ],
   "source": [
    "Math.floor(Math.random() * 100) % 9;"
   ]
  },
  {
   "cell_type": "code",
   "execution_count": 64,
   "id": "7ee076cd-47af-4904-8ac1-2022eb25806e",
   "metadata": {},
   "outputs": [
    {
     "name": "stdout",
     "output_type": "stream",
     "text": [
      "Hello, Mike!\n"
     ]
    }
   ],
   "source": [
    "String mike = \"Hello, Mike!\";\n",
    "System.out.println(mike);"
   ]
  },
  {
   "cell_type": "code",
   "execution_count": 44,
   "id": "d25f0b2d-41f7-4dff-9350-35ed2d975e8b",
   "metadata": {},
   "outputs": [
    {
     "ename": "CompilationException",
     "evalue": "",
     "output_type": "error",
     "traceback": [
      "\u001b[1m\u001b[30m|   \u001b[1m\u001b[30mmike = \u001b[0m\u001b[1m\u001b[30m\u001b[41m5\u001b[0m\u001b[1m\u001b[30m;\u001b[0m",
      "\u001b[1m\u001b[31mincompatible types: int cannot be converted to java.lang.String\u001b[0m",
      ""
     ]
    }
   ],
   "source": [
    "mike = 5;"
   ]
  },
  {
   "cell_type": "code",
   "execution_count": 50,
   "id": "326256ff-5341-42da-b5e5-684d3bdb0630",
   "metadata": {},
   "outputs": [
    {
     "ename": "CompilationException",
     "evalue": "",
     "output_type": "error",
     "traceback": [
      "\u001b[1m\u001b[30m|   \u001b[1m\u001b[30mmike = (String)\u001b[0m\u001b[1m\u001b[30m\u001b[41m10\u001b[0m\u001b[1m\u001b[30m;\u001b[0m",
      "\u001b[1m\u001b[31mincompatible types: int cannot be converted to java.lang.String\u001b[0m",
      ""
     ]
    }
   ],
   "source": [
    "mike = (String)10;"
   ]
  },
  {
   "cell_type": "code",
   "execution_count": 51,
   "id": "e1d6d55b-1406-4de1-a5b0-ea9b93e06a7f",
   "metadata": {},
   "outputs": [
    {
     "data": {
      "text/plain": [
       "5"
      ]
     },
     "execution_count": 51,
     "metadata": {},
     "output_type": "execute_result"
    }
   ],
   "source": [
    "mike = Integer.toString(5);\n",
    "mike"
   ]
  },
  {
   "cell_type": "code",
   "execution_count": 59,
   "id": "9b111b3f-a72c-4044-9bd2-e2b285248092",
   "metadata": {},
   "outputs": [
    {
     "name": "stdout",
     "output_type": "stream",
     "text": [
      "Degrees   Radians   Sine      Cosine    Tangent   \n",
      "30        0.5236    0.5000    0.8660    0.5774    \n",
      "179       3.1241    0.0175    -0.9998   -0.0175   \n",
      "10        0.1745    0.1736    0.9848    0.1763    \n",
      "5         0.0873    0.0872    0.9962    0.0875    \n",
      "60        1.0472    0.8660    0.5000    1.7321    \n"
     ]
    }
   ],
   "source": [
    "// Display the header of the table \n",
    "System.out.printf(\"%-10s%-10s%-10s%-10s%-10s\\n\", \"Degrees\", \"Radians\", \"Sine\", \"Cosine\", \"Tangent\");\n",
    "\n",
    "int intArray[] = {30, 179, 10, 5, 60};\n",
    "\n",
    "// Display values for degrees\n",
    "for (int degrees : intArray) {\n",
    "    double radians = Math.toRadians(degrees);\n",
    "    System.out.printf(\"%-10d%-10.4f%-10.4f%-10.4f%-10.4f\\n\", degrees, \n",
    "      radians, Math.sin(radians), Math.cos(radians),\n",
    "      Math.tan(radians));\n",
    "}"
   ]
  },
  {
   "cell_type": "code",
   "execution_count": 81,
   "id": "18f41d06-0bac-4b62-a5e4-a46b95bd98d1",
   "metadata": {},
   "outputs": [
    {
     "name": "stdout",
     "output_type": "stream",
     "text": [
      "10"
     ]
    }
   ],
   "source": [
    "int mike = Character.getNumericValue('A');\n",
    "System.out.print(mike);"
   ]
  },
  {
   "cell_type": "code",
   "execution_count": 82,
   "id": "bdc91d5a-6336-48e6-b6ed-fff258539b9a",
   "metadata": {},
   "outputs": [
    {
     "name": "stdout",
     "output_type": "stream",
     "text": [
      "\u0000\n",
      "\u0001\n",
      "\u0002\n",
      "\u0003\n",
      "\u0004\n",
      "\u0005\n",
      "\u0006\n",
      "\u0007\n",
      "\b\n",
      "\t\n",
      "\n",
      "\n",
      "\u000b",
      "\n",
      "\f",
      "\n",
      "\n",
      "\u000e\n",
      "\u000f\n",
      "\u0010\n",
      "\u0011\n",
      "\u0012\n",
      "\u0013\n",
      "\u0014\n",
      "\u0015\n",
      "\u0016\n",
      "\u0017\n",
      "\u0018\n",
      "\u0019\n",
      "\u001a\n",
      "\u001b\n",
      "\u001c",
      "\n",
      "\u001d",
      "\n",
      "\u001e",
      "\n",
      "\u001f\n",
      " \n",
      "!\n",
      "\"\n",
      "#\n",
      "$\n",
      "%\n",
      "&\n",
      "'\n",
      "(\n",
      ")\n",
      "*\n",
      "+\n",
      ",\n",
      "-\n",
      ".\n",
      "/\n",
      "0\n",
      "1\n",
      "2\n",
      "3\n",
      "4\n",
      "5\n",
      "6\n",
      "7\n",
      "8\n",
      "9\n",
      ":\n",
      ";\n",
      "<\n",
      "=\n",
      ">\n",
      "?\n",
      "@\n",
      "A\n",
      "B\n",
      "C\n",
      "D\n",
      "E\n",
      "F\n",
      "G\n",
      "H\n",
      "I\n",
      "J\n",
      "K\n",
      "L\n",
      "M\n",
      "N\n",
      "O\n",
      "P\n",
      "Q\n",
      "R\n",
      "S\n",
      "T\n",
      "U\n",
      "V\n",
      "W\n",
      "X\n",
      "Y\n",
      "Z\n",
      "[\n",
      "\\\n",
      "]\n",
      "^\n",
      "_\n",
      "`\n",
      "a\n",
      "b\n",
      "c\n",
      "d\n",
      "e\n",
      "f\n",
      "g\n",
      "h\n",
      "i\n",
      "j\n",
      "k\n",
      "l\n",
      "m\n",
      "n\n",
      "o\n",
      "p\n",
      "q\n",
      "r\n",
      "s\n",
      "t\n",
      "u\n",
      "v\n",
      "w\n",
      "x\n",
      "y\n",
      "z\n",
      "{\n",
      "|\n",
      "}\n",
      "~\n",
      "\n",
      "\n",
      "\n",
      "\n",
      "\n",
      "\n",
      "",
      "\n",
      "\n",
      "\n",
      "\n",
      "\n",
      "\n",
      "\n",
      "\n",
      "\n",
      "\n",
      "\n",
      "\n",
      "\n",
      "\n",
      "\n",
      "\n",
      "\n",
      "\n",
      "\n",
      "\n",
      "\n",
      "\n",
      "\n",
      "\n",
      "\n",
      "\n",
      "\n",
      " \n",
      "¡\n",
      "¢\n",
      "£\n",
      "¤\n",
      "¥\n",
      "¦\n",
      "§\n",
      "¨\n",
      "©\n",
      "ª\n",
      "«\n",
      "¬\n",
      "­\n",
      "®\n",
      "¯\n",
      "°\n",
      "±\n",
      "²\n",
      "³\n",
      "´\n",
      "µ\n",
      "¶\n",
      "·\n",
      "¸\n",
      "¹\n",
      "º\n",
      "»\n",
      "¼\n",
      "½\n",
      "¾\n",
      "¿\n",
      "À\n",
      "Á\n",
      "Â\n",
      "Ã\n",
      "Ä\n",
      "Å\n",
      "Æ\n",
      "Ç\n",
      "È\n",
      "É\n",
      "Ê\n",
      "Ë\n",
      "Ì\n",
      "Í\n",
      "Î\n",
      "Ï\n",
      "Ð\n",
      "Ñ\n",
      "Ò\n",
      "Ó\n",
      "Ô\n",
      "Õ\n",
      "Ö\n",
      "×\n",
      "Ø\n",
      "Ù\n",
      "Ú\n",
      "Û\n",
      "Ü\n",
      "Ý\n",
      "Þ\n",
      "ß\n",
      "à\n",
      "á\n",
      "â\n",
      "ã\n",
      "ä\n",
      "å\n",
      "æ\n",
      "ç\n",
      "è\n",
      "é\n",
      "ê\n",
      "ë\n",
      "ì\n",
      "í\n",
      "î\n",
      "ï\n",
      "ð\n",
      "ñ\n",
      "ò\n",
      "ó\n",
      "ô\n",
      "õ\n",
      "ö\n",
      "÷\n",
      "ø\n",
      "ù\n",
      "ú\n",
      "û\n",
      "ü\n",
      "ý\n",
      "þ\n",
      "ÿ\n"
     ]
    }
   ],
   "source": [
    "for (int i = 0; i < 256; i++) {\n",
    "    System.out.println(Character.toChars(i));\n",
    "}"
   ]
  },
  {
   "cell_type": "code",
   "execution_count": 62,
   "id": "0d5f7838-9d16-4c0b-a84a-2b64dcfdaa72",
   "metadata": {},
   "outputs": [
    {
     "name": "stdout",
     "output_type": "stream",
     "text": [
      "The decimal value for hex digit F is 15\n"
     ]
    }
   ],
   "source": [
    "String hexString = \"F\";\n",
    "    \n",
    "    // Check if the hex string has exactly one character\n",
    "    if (hexString.length() != 1) {\n",
    "      System.out.println(\"You must enter exactly one character\");\n",
    "    }\n",
    "    \n",
    "    // Display decimal value for the hex digit\n",
    "    char ch = Character.toUpperCase(hexString.charAt(0));    \n",
    "    if (ch <= 'F' && ch >= 'A') {\n",
    "      int value = ch - 'A' + 10;\n",
    "      System.out.println(\"The decimal value for hex digit \" \n",
    "        + ch + \" is \" + value);\n",
    "    }\n",
    "    else if (Character.isDigit(ch)) {\n",
    "      System.out.println(\"The decimal value for hex digit \" \n",
    "        + ch + \" is \" + ch);\n",
    "    }\n",
    "    else {\n",
    "      System.out.println(ch + \" is an invalid input\");\n",
    "    }"
   ]
  },
  {
   "cell_type": "markdown",
   "id": "12f63e1c-aff1-4c27-9e92-12f53d32e4a8",
   "metadata": {},
   "source": [
    "## Chap 5"
   ]
  },
  {
   "cell_type": "code",
   "execution_count": 83,
   "id": "c1c1ee42-4e93-469c-9db4-f5f08217efe2",
   "metadata": {},
   "outputs": [
    {
     "name": "stdout",
     "output_type": "stream",
     "text": [
      "The number is 14\n",
      "The sum is 105\n"
     ]
    }
   ],
   "source": [
    "    int sum = 0;\n",
    "    int number = 0;\n",
    "\n",
    "    while (number < 20) {\n",
    "      number++;\n",
    "      sum += number;\n",
    "      if (sum >= 100) break;\n",
    "    }\n",
    "\n",
    "    System.out.println(\"The number is \" + number);\n",
    "    System.out.println(\"The sum is \" + sum);"
   ]
  },
  {
   "cell_type": "code",
   "execution_count": 84,
   "id": "f09d8fe6-0aa2-429f-bee8-eb875d1f904a",
   "metadata": {},
   "outputs": [
    {
     "name": "stdout",
     "output_type": "stream",
     "text": [
      "The sum is 50.499985\n"
     ]
    }
   ],
   "source": [
    "// Initialize sum\n",
    "    float sum = 0;\n",
    "\n",
    "    // Add 0.01, 0.02, ..., 0.99, 1 to sum\n",
    "    for (float i = 0.01f; i <= 1.0f; i = i + 0.01f)\n",
    "      sum += i;\n",
    "\n",
    "    // Display result\n",
    "    System.out.println(\"The sum is \" + sum);"
   ]
  },
  {
   "cell_type": "code",
   "execution_count": 86,
   "id": "fb042457-7c42-4242-bd19-070040b31eff",
   "metadata": {},
   "outputs": [
    {
     "name": "stdout",
     "output_type": "stream",
     "text": [
      "The sum is 189\n"
     ]
    }
   ],
   "source": [
    "int sum = 0;\n",
    "int number = 0;\n",
    "\n",
    "while (number < 20) {\n",
    "  number++;\n",
    "  if (number == 10 || number == 11) continue;\n",
    "  sum += number;\n",
    "}\n",
    "\n",
    "    System.out.println(\"The sum is \" + sum);"
   ]
  },
  {
   "cell_type": "code",
   "execution_count": 87,
   "id": "5080907e-d5de-4a10-90ae-77029a9cac31",
   "metadata": {},
   "outputs": [
    {
     "name": "stdout",
     "output_type": "stream",
     "text": [
      "The sum is 45\n"
     ]
    }
   ],
   "source": [
    "int sum = 0;\n",
    "int number = 0;\n",
    "\n",
    "while (number < 20) {\n",
    "  number++;\n",
    "  if (number == 10 || number == 11) break;\n",
    "  sum += number;\n",
    "}\n",
    "\n",
    "    System.out.println(\"The sum is \" + sum);"
   ]
  },
  {
   "cell_type": "code",
   "execution_count": 88,
   "id": "f83c1d40-8d04-4591-bb54-c46454fc227a",
   "metadata": {},
   "outputs": [
    {
     "name": "stdout",
     "output_type": "stream",
     "text": [
      "           Multiplication Table\n",
      "       1   2   3   4   5   6   7   8   9\n",
      "-----------------------------------------\n",
      "1 |    1   2   3   4   5   6   7   8   9\n",
      "2 |    2   4   6   8  10  12  14  16  18\n",
      "3 |    3   6   9  12  15  18  21  24  27\n",
      "4 |    4   8  12  16  20  24  28  32  36\n",
      "5 |    5  10  15  20  25  30  35  40  45\n",
      "6 |    6  12  18  24  30  36  42  48  54\n",
      "7 |    7  14  21  28  35  42  49  56  63\n",
      "8 |    8  16  24  32  40  48  56  64  72\n",
      "9 |    9  18  27  36  45  54  63  72  81\n"
     ]
    }
   ],
   "source": [
    "    System.out.println(\"           Multiplication Table\");\n",
    "\n",
    "    // Display the number title\n",
    "    System.out.print(\"    \");\n",
    "    for (int j = 1; j <= 9; j++)\n",
    "      System.out.print(\"   \" + j);\n",
    "\n",
    "    System.out.println(\"\\n-----------------------------------------\");\n",
    "\n",
    "    // Print table body\n",
    "    for (int i = 1; i <= 9; i++) {\n",
    "      System.out.print(i + \" | \");\n",
    "      for (int j = 1; j <= 9; j++) {\n",
    "        // Display the product and align properly\n",
    "        System.out.printf(\"%4d\", i * j);\n",
    "      }\n",
    "      System.out.println();\n",
    "    }"
   ]
  },
  {
   "cell_type": "code",
   "execution_count": 91,
   "id": "9a1854f9-2f26-4f1b-92ad-406c9316557e",
   "metadata": {},
   "outputs": [
    {
     "name": "stdout",
     "output_type": "stream",
     "text": [
      "mike is not a palindrome\n"
     ]
    }
   ],
   "source": [
    "String s = \"mike\";\n",
    "\n",
    "// The index of the first character in the string\n",
    "    int low = 0;\n",
    "\n",
    "    // The index of the last character in the string\n",
    "    int high = s.length() - 1;\n",
    "\n",
    "    boolean isPalindrome = true;\n",
    "    while (low < high) {\n",
    "      if (s.charAt(low) != s.charAt(high)) {\n",
    "        isPalindrome = false;\n",
    "        break;\n",
    "      }\n",
    "\n",
    "      low++;\n",
    "      high--;\n",
    "    }\n",
    "\n",
    "    if (isPalindrome)\n",
    "      System.out.println(s + \" is a palindrome\");\n",
    "    else\n",
    "      System.out.println(s + \" is not a palindrome\");\n",
    "  "
   ]
  },
  {
   "cell_type": "markdown",
   "id": "a09f06a3-ba48-48f8-8a66-8b3c8faa3029",
   "metadata": {},
   "source": [
    "## Chap 6"
   ]
  },
  {
   "cell_type": "code",
   "execution_count": 1,
   "id": "8e5845e5-694c-4fbd-841f-6595c097403e",
   "metadata": {},
   "outputs": [],
   "source": [
    "public static void increment(int n) {\n",
    "    n++;\n",
    "    System.out.println(\"n inside the method is \" + n);\n",
    "  }"
   ]
  },
  {
   "cell_type": "code",
   "execution_count": 2,
   "id": "b7447bb0-ccf3-49bf-89c2-b89340739f92",
   "metadata": {},
   "outputs": [
    {
     "name": "stdout",
     "output_type": "stream",
     "text": [
      "Before the call, x is 1\n",
      "n inside the method is 2\n",
      "after the call, x is 1\n"
     ]
    }
   ],
   "source": [
    "  int x = 1;\n",
    "    System.out.println(\"Before the call, x is \" + x);\n",
    "    increment(x);\n",
    "    System.out.println(\"after the call, x is \" + x);"
   ]
  },
  {
   "cell_type": "code",
   "execution_count": 4,
   "id": "8fc398b6-45a6-4a26-90a0-a5cf782d4556",
   "metadata": {},
   "outputs": [],
   "source": [
    "  public static void printGrade(double score) {\n",
    "    if (score >= 90.0) {\n",
    "      System.out.println('A');\n",
    "    } \n",
    "    else if (score >= 80.0) {\n",
    "      System.out.println('B');\n",
    "    } \n",
    "    else if (score >= 70.0) {\n",
    "      System.out.println('C');\n",
    "    } \n",
    "    else if (score >= 60.0) {\n",
    "      System.out.println('D');\n",
    "    } \n",
    "    else {\n",
    "      System.out.println('F');\n",
    "    }\n",
    "  }"
   ]
  },
  {
   "cell_type": "code",
   "execution_count": 5,
   "id": "2be5571d-620a-43e8-9bcc-4af562aad347",
   "metadata": {},
   "outputs": [],
   "source": [
    "public static void main(String[] args) {\n",
    "    System.out.print(\"The grade is \");\n",
    "    printGrade(78.5);\n",
    "\n",
    "    System.out.print(\"The grade is \");\n",
    "    printGrade(59.5);\n",
    "  }"
   ]
  },
  {
   "cell_type": "code",
   "execution_count": 6,
   "id": "dcba00fc-873f-4537-b8d2-59cc0d3ca807",
   "metadata": {},
   "outputs": [],
   "source": [
    "  /** Generate a random character between ch1 and ch2 */\n",
    "  public static char getRandomCharacter(char ch1, char ch2) {\n",
    "    return (char)(ch1 + Math.random() * (ch2 - ch1 + 1));\n",
    "  }\n",
    "\n",
    "  /** Generate a random lowercase letter */\n",
    "  public static char getRandomLowerCaseLetter() {\n",
    "    return getRandomCharacter('a', 'z');\n",
    "  }\n",
    "\n",
    "  /** Generate a random uppercase letter */\n",
    "  public static char getRandomUpperCaseLetter() {\n",
    "    return getRandomCharacter('A', 'Z');\n",
    "  }\n",
    "\n",
    "  /** Generate a random digit character */\n",
    "  public static char getRandomDigitCharacter() {\n",
    "    return getRandomCharacter('0', '9');\n",
    "  }\n",
    "\n",
    "  /** Generate a random character */\n",
    "  public static char getRandomCharacter() {\n",
    "    return getRandomCharacter('\\u0000', '\\uFFFF');\n",
    "  }"
   ]
  },
  {
   "cell_type": "code",
   "execution_count": 7,
   "id": "fd736bcc-eb2b-4b95-ae2f-82ccc0a5bddd",
   "metadata": {},
   "outputs": [],
   "source": [
    " public static void swap(int n1, int n2) {\n",
    "    System.out.println(\"\\tInside the swap method\");\n",
    "    System.out.println(\"\\t\\tBefore swapping n1 is \" + n1\n",
    "      + \" n2 is \" + n2);\n",
    "\n",
    "    // Swap n1 with n2\n",
    "    int temp = n1;\n",
    "    n1 = n2;\n",
    "    n2 = temp;\n",
    "\n",
    "    System.out.println(\"\\t\\tAfter swapping n1 is \" + n1\n",
    "      + \" n2 is \" + n2);\n",
    "  }"
   ]
  },
  {
   "cell_type": "code",
   "execution_count": 8,
   "id": "258988be-b889-40bf-9be5-83048e0c0281",
   "metadata": {},
   "outputs": [
    {
     "name": "stdout",
     "output_type": "stream",
     "text": [
      "Before invoking the swap method, num1 is 1 and num2 is 2\n",
      "\tInside the swap method\n",
      "\t\tBefore swapping n1 is 1 n2 is 2\n",
      "\t\tAfter swapping n1 is 2 n2 is 1\n",
      "After invoking the swap method, num1 is 1 and num2 is 2\n"
     ]
    }
   ],
   "source": [
    "// Declare and initialize variables\n",
    "    int num1 = 1;\n",
    "    int num2 = 2;\n",
    "\n",
    "    System.out.println(\"Before invoking the swap method, num1 is \" +\n",
    "      num1 + \" and num2 is \" + num2);\n",
    "\n",
    "    // Invoke the swap method to attempt to swap two variables\n",
    "    swap(num1, num2);\n",
    "\n",
    "    System.out.println(\"After invoking the swap method, num1 is \" +\n",
    "      num1 + \" and num2 is \" + num2);"
   ]
  },
  {
   "cell_type": "code",
   "execution_count": 14,
   "id": "e9a3edb3-10bf-4c53-b6cb-e7886085ff09",
   "metadata": {},
   "outputs": [],
   "source": [
    "/** Return the max between two int values */\n",
    "  public static int max(int num1, int num2) {\n",
    "    if (num1 > num2)\n",
    "      return num1;\n",
    "    else\n",
    "      return num2;\n",
    "  }\n",
    "\n",
    "  /** Find the max between two double values */\n",
    "  public static double max(double num1, double num2) {\n",
    "    if (num1 > num2)\n",
    "      return num1;\n",
    "    else\n",
    "      return num2;\n",
    "  }\n",
    "\n",
    "  /** Return the max among three double values */\n",
    "  public static double max(double num1, double num2, double num3) {\n",
    "    return max(max(num1, num2), num3);\n",
    "  }"
   ]
  },
  {
   "cell_type": "code",
   "execution_count": 16,
   "id": "2e4989cb-7895-44f6-8aab-7e8054478eb9",
   "metadata": {},
   "outputs": [
    {
     "name": "stdout",
     "output_type": "stream",
     "text": [
      "The maximum between 3 and 4 is 4\n",
      "The maximum between 3.0 and 5.4 is 5.4\n"
     ]
    }
   ],
   "source": [
    "// Invoke the max method with int parameters\n",
    "    System.out.println(\"The maximum between 3 and 4 is \"\n",
    "      + max(3, 4));\n",
    "\n",
    "    // Invoke the max method with the double parameters\n",
    "    System.out.println(\"The maximum between 3.0 and 5.4 is \"\n",
    "      + max(3.0, 5.4));"
   ]
  },
  {
   "cell_type": "markdown",
   "id": "009ee98d-cebd-4c70-9ce7-d5ef83891668",
   "metadata": {},
   "source": [
    "## Chap 7"
   ]
  },
  {
   "cell_type": "code",
   "execution_count": 17,
   "id": "2e251c53-0312-4383-b3f9-a481a7c34d86",
   "metadata": {},
   "outputs": [],
   "source": [
    "public static void printMax(double... numbers) {\n",
    "    if (numbers.length == 0) {\n",
    "      System.out.println(\"No argument passed\");\n",
    "      return;\n",
    "    }\n",
    "\n",
    "    double result = numbers[0];\n",
    "\n",
    "    for (int i = 1; i < numbers.length; i++)\n",
    "      if (numbers[i] > result)\n",
    "        result = numbers[i];\n",
    "\n",
    "    System.out.println(\"The max value is \" + result);\n",
    "  }"
   ]
  },
  {
   "cell_type": "code",
   "execution_count": 18,
   "id": "3126e720-04aa-48db-b4c6-5cc09994a532",
   "metadata": {},
   "outputs": [
    {
     "name": "stdout",
     "output_type": "stream",
     "text": [
      "The max value is 56.5\n",
      "The max value is 3.0\n"
     ]
    }
   ],
   "source": [
    "    printMax(34, 3, 3, 2, 56.5);\n",
    "    printMax(new double[]{1, 2, 3});"
   ]
  },
  {
   "cell_type": "code",
   "execution_count": 1,
   "id": "0c330796-db6f-4e62-847f-04ab26898544",
   "metadata": {},
   "outputs": [
    {
     "name": "stdout",
     "output_type": "stream",
     "text": [
      "Writing Calulator.java\n"
     ]
    }
   ],
   "source": [
    "%%writefile Calculator.java\n",
    "//writefile only works with python kernel\n",
    "public class Calculator {\n",
    "  /** Main method */\n",
    "  public static void main(String[] args) {\n",
    "    // Check number of strings passed\n",
    "    if (args.length != 3) {\n",
    "      System.out.println(\n",
    "        \"Usage: java Calculator operand1 operator operand2\");\n",
    "      System.exit(0);\n",
    "    }\n",
    "\n",
    "    // The result of the operation\n",
    "    int result = 0;\n",
    "\n",
    "    // Determine the operator\n",
    "    switch (args[1].charAt(0)) { \n",
    "      case '+': result = Integer.parseInt(args[0]) + \n",
    "                         Integer.parseInt(args[2]);\n",
    "                break;\n",
    "      case '-': result = Integer.parseInt(args[0]) -\n",
    "                         Integer.parseInt(args[2]);\n",
    "                break;\n",
    "      case '.': result = Integer.parseInt(args[0]) *\n",
    "                         Integer.parseInt(args[2]);\n",
    "                break;\n",
    "      case '/': result = Integer.parseInt(args[0]) /\n",
    "                         Integer.parseInt(args[2]);\n",
    "    }\n",
    "\n",
    "    // Display result\n",
    "    System.out.println(args[0] + ' ' + args[1] + ' ' + args[2]\n",
    "      + \" = \" + result);\n",
    "  }\n",
    "}"
   ]
  },
  {
   "cell_type": "code",
   "execution_count": 1,
   "id": "860b44c1-4b56-40b9-b2bd-c28318c6a92f",
   "metadata": {},
   "outputs": [
    {
     "name": "stdout",
     "output_type": "stream",
     "text": [
      "1 + 2 = 3\n"
     ]
    }
   ],
   "source": [
    "!java Calculator.java 1 + 2"
   ]
  },
  {
   "cell_type": "code",
   "execution_count": null,
   "id": "f56a98fc-1bad-4484-adbd-0c9137e015a8",
   "metadata": {},
   "outputs": [],
   "source": []
  }
 ],
 "metadata": {
  "kernelspec": {
   "display_name": "Java",
   "language": "java",
   "name": "java"
  },
  "language_info": {
   "codemirror_mode": "java",
   "file_extension": ".jshell",
   "mimetype": "text/x-java-source",
   "name": "Java",
   "pygments_lexer": "java",
   "version": "17.0.2+8-LTS-86"
  }
 },
 "nbformat": 4,
 "nbformat_minor": 5
}

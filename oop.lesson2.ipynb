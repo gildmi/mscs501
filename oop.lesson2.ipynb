{
 "cells": [
  {
   "cell_type": "markdown",
   "id": "786e592d-fb17-4ccd-9418-94e36accb30a",
   "metadata": {},
   "source": [
    "# OOP MSCS501 - Lesson 2\n",
    "Code snippets to go over concepts convered in class and look at how Java works in practice!"
   ]
  },
  {
   "cell_type": "code",
   "execution_count": 1,
   "id": "99be4cff-ca4a-48bc-8f8c-c89a5e939d1e",
   "metadata": {},
   "outputs": [
    {
     "name": "stdout",
     "output_type": "stream",
     "text": [
      "Mike was here\n"
     ]
    }
   ],
   "source": [
    "System.out.println(\"Mike was here\");"
   ]
  },
  {
   "cell_type": "code",
   "execution_count": 25,
   "id": "6bb70996-df7d-470a-b8ed-70316a3ec4eb",
   "metadata": {},
   "outputs": [
    {
     "name": "stdout",
     "output_type": "stream",
     "text": [
      "A : 1\n",
      "B : 5\n",
      "C = a + b : 6\n"
     ]
    }
   ],
   "source": [
    "int ar[] = {1, 5, 75, 64};\n",
    "int a=ar[0]; \n",
    "System.out.println(\"A : \" +a);\n",
    "int b=ar[1];\n",
    "System.out.println(\"B : \" +b);\n",
    "int c = a + b;\n",
    "System.out.println(\"C = a + b : \" +c);"
   ]
  },
  {
   "cell_type": "code",
   "execution_count": 29,
   "id": "0743c45f-9542-475c-89a1-1ec099973930",
   "metadata": {},
   "outputs": [
    {
     "name": "stdout",
     "output_type": "stream",
     "text": [
      "1662510032621\n",
      "Current time is 0:20:32 GMT\n"
     ]
    }
   ],
   "source": [
    "// Obtain the total milliseconds since midnight, Jan 1, 1970\n",
    "long totalMilliseconds = System.currentTimeMillis();\n",
    "System.out.println(totalMilliseconds);\n",
    "// Obtain the total seconds since midnight, Jan 1, 1970\n",
    "long totalSeconds = totalMilliseconds / 1000;\n",
    "\n",
    "// Compute the current second in the minute in the hour\n",
    "long currentSecond = totalSeconds % 60;\n",
    "\n",
    "// Obtain the total minutes\n",
    "long totalMinutes = totalSeconds / 60;\n",
    "\n",
    "// Compute the current minute in the hour\n",
    "long currentMinute = totalMinutes % 60;\n",
    "\n",
    "// Obtain the total hours\n",
    "long totalHours = totalMinutes / 60;\n",
    "\n",
    "// Compute the current hour\n",
    "long currentHour = totalHours % 24;\n",
    "\n",
    "// Display results\n",
    "System.out.println(\"Current time is \" + currentHour + \":\" + currentMinute + \":\" + currentSecond + \" GMT\");"
   ]
  },
  {
   "cell_type": "code",
   "execution_count": 4,
   "id": "6b9cb6a6",
   "metadata": {},
   "outputs": [
    {
     "name": "stdout",
     "output_type": "stream",
     "text": [
      "Enter an int value (the program exits if the input is 0): 5\n",
      "Enter an int value (the program exits if the input is 0): 5\n",
      "Enter an int value (the program exits if the input is 0): 4\n",
      "Enter an int value (the program exits if the input is 0): 0\n",
      "The sum is 14\n"
     ]
    }
   ],
   "source": [
    "Scanner input = new Scanner(System.in);\n",
    "\n",
    "    // Read an initial data\n",
    "    System.out.print(\n",
    "      \"Enter an int value (the program exits if the input is 0): \");\n",
    "    int data = input.nextInt();\n",
    "\n",
    "    // Keep reading data until the input is 0\n",
    "    int sum = 0;\n",
    "    while (data != 0) {\n",
    "      sum += data;\n",
    "\n",
    "      // Read the next data\n",
    "      System.out.print(\n",
    "        \"Enter an int value (the program exits if the input is 0): \");\n",
    "      data = input.nextInt();\n",
    "    }\n",
    "\n",
    "    System.out.println(\"The sum is \" + sum);"
   ]
  },
  {
   "cell_type": "code",
   "execution_count": 30,
   "id": "26d043a9-bc68-4506-a86f-e8f0619cd356",
   "metadata": {},
   "outputs": [
    {
     "name": "stdout",
     "output_type": "stream",
     "text": [
      "20:20:51.289116100\n"
     ]
    }
   ],
   "source": [
    "import java.time.LocalTime;\n",
    "LocalTime timeObj = LocalTime.now();\n",
    "//String currentTime = timeObj.toString();\n",
    "System.out.println(timeObj.toString());"
   ]
  },
  {
   "cell_type": "code",
   "execution_count": 16,
   "id": "b92a8262-b834-4343-9d10-052c809b0544",
   "metadata": {},
   "outputs": [
    {
     "name": "stdout",
     "output_type": "stream",
     "text": [
      "Enter purchase amount: Sales tax is 1.13\n"
     ]
    }
   ],
   "source": [
    "System.out.print(\"Enter purchase amount: \");\n",
    "double purchaseAmount = 19.00; //input.nextDouble();\n",
    "\n",
    "double tax = purchaseAmount * 0.06;\n",
    "System.out.println(\"Sales tax is \" + (int)(tax * 100) / 100.0);"
   ]
  },
  {
   "cell_type": "code",
   "execution_count": 36,
   "id": "7ce74f97-bfe2-47c5-9c31-a1d0203e7699",
   "metadata": {},
   "outputs": [
    {
     "data": {
      "text/plain": [
       "113.99999999999999"
      ]
     },
     "execution_count": 36,
     "metadata": {},
     "output_type": "execute_result"
    }
   ],
   "source": [
    "19.0*0.06*100"
   ]
  },
  {
   "cell_type": "code",
   "execution_count": 17,
   "id": "d1ecc3b6-5f9f-4f74-8c29-fd4b0d08b8cd",
   "metadata": {},
   "outputs": [
    {
     "data": {
      "text/plain": [
       "1.14"
      ]
     },
     "execution_count": 17,
     "metadata": {},
     "output_type": "execute_result"
    }
   ],
   "source": [
    "tax"
   ]
  },
  {
   "cell_type": "code",
   "execution_count": 33,
   "id": "846b628e-05ea-412a-9cb5-3f67f46da965",
   "metadata": {},
   "outputs": [
    {
     "data": {
      "text/plain": [
       "1.14"
      ]
     },
     "execution_count": 33,
     "metadata": {},
     "output_type": "execute_result"
    }
   ],
   "source": [
    "Math.round(tax * 100) / 100.0"
   ]
  },
  {
   "cell_type": "code",
   "execution_count": 5,
   "id": "2fa5f14d-668f-4f70-8971-9f1477602a9e",
   "metadata": {},
   "outputs": [
    {
     "name": "stdout",
     "output_type": "stream",
     "text": [
      "Your amount 15.32 consists of\n",
      "15 dollars\n",
      "1 quarters \n",
      "0 dimes\n",
      "1 nickels\n",
      "2 pennies\n"
     ]
    }
   ],
   "source": [
    "// Create a Scanner\n",
    "Scanner input = new Scanner(System.in);\n",
    "\n",
    "// Receive the amount \n",
    "//System.out.print(\"Enter an amount in double, for example 11.56: \");\n",
    "double amount = 15.32; //input.nextDouble();\n",
    "\n",
    "int remainingAmount = (int)(amount * 100);\n",
    "\n",
    "// Find the number of one dollars\n",
    "int numberOfOneDollars = remainingAmount / 100;\n",
    "remainingAmount = remainingAmount % 100;\n",
    "\n",
    "// Find the number of quarters in the remaining amount\n",
    "int numberOfQuarters = remainingAmount / 25;\n",
    "remainingAmount = remainingAmount % 25;\n",
    "\n",
    "// Find the number of dimes in the remaining amount\n",
    "int numberOfDimes = remainingAmount / 10;\n",
    "remainingAmount = remainingAmount % 10;\n",
    "\n",
    "// Find the number of nickels in the remaining amount\n",
    "int numberOfNickels = remainingAmount / 5;\n",
    "remainingAmount = remainingAmount % 5;\n",
    "\n",
    "// Find the number of pennies in the remaining amount\n",
    "int numberOfPennies = remainingAmount;\n",
    "\n",
    "// Display results\n",
    "System.out.println(\"Your amount \" + amount + \" consists of\"); \n",
    "System.out.println(\"\" + numberOfOneDollars + \" dollars\");\n",
    "System.out.println(\"\" + numberOfQuarters + \" quarters \");\n",
    "System.out.println(\"\" + numberOfDimes + \" dimes\"); \n",
    "System.out.println(\"\" + numberOfNickels + \" nickels\");\n",
    "System.out.println(\"\" + numberOfPennies + \" pennies\");"
   ]
  },
  {
   "cell_type": "markdown",
   "id": "207fef5c-b14c-4584-b05d-b9843930acb3",
   "metadata": {},
   "source": [
    "## Chap 4"
   ]
  },
  {
   "cell_type": "code",
   "execution_count": 40,
   "id": "6c87c935-81f9-451f-b288-ab17b4b10021",
   "metadata": {},
   "outputs": [
    {
     "data": {
      "text/plain": [
       "0.44227441027615844"
      ]
     },
     "execution_count": 40,
     "metadata": {},
     "output_type": "execute_result"
    }
   ],
   "source": [
    "Math.random();"
   ]
  },
  {
   "cell_type": "code",
   "execution_count": 43,
   "id": "2143f575-efc7-44d6-a6ab-1f3cfcf8e05f",
   "metadata": {},
   "outputs": [
    {
     "data": {
      "text/plain": [
       "7.3789737770533"
      ]
     },
     "execution_count": 43,
     "metadata": {},
     "output_type": "execute_result"
    }
   ],
   "source": [
    "Math.random()*10"
   ]
  },
  {
   "cell_type": "code",
   "execution_count": 50,
   "id": "105c56e7-9449-4e92-affc-017d3bb88ef5",
   "metadata": {},
   "outputs": [
    {
     "data": {
      "text/plain": [
       "0"
      ]
     },
     "execution_count": 50,
     "metadata": {},
     "output_type": "execute_result"
    }
   ],
   "source": [
    "(int)Math.random()*10"
   ]
  },
  {
   "cell_type": "code",
   "execution_count": 24,
   "id": "96952fba-4294-4dab-b227-838ffa6ceff8",
   "metadata": {},
   "outputs": [
    {
     "data": {
      "text/plain": [
       "7"
      ]
     },
     "execution_count": 24,
     "metadata": {},
     "output_type": "execute_result"
    }
   ],
   "source": [
    "(int)(Math.random()*10)"
   ]
  },
  {
   "cell_type": "code",
   "execution_count": 51,
   "id": "d059f757-b332-410a-98aa-102b52812b0d",
   "metadata": {},
   "outputs": [
    {
     "data": {
      "text/plain": [
       "80.0"
      ]
     },
     "execution_count": 51,
     "metadata": {},
     "output_type": "execute_result"
    }
   ],
   "source": [
    "Math.floor(Math.random() * 100);"
   ]
  },
  {
   "cell_type": "code",
   "execution_count": 63,
   "id": "2d16b1dc-fca2-44ab-92a8-13f7e02d45a1",
   "metadata": {},
   "outputs": [
    {
     "data": {
      "text/plain": [
       "3.0"
      ]
     },
     "execution_count": 63,
     "metadata": {},
     "output_type": "execute_result"
    }
   ],
   "source": [
    "Math.floor(Math.random() * 100) % 9;"
   ]
  },
  {
   "cell_type": "code",
   "execution_count": 64,
   "id": "7ee076cd-47af-4904-8ac1-2022eb25806e",
   "metadata": {},
   "outputs": [
    {
     "name": "stdout",
     "output_type": "stream",
     "text": [
      "Hello, Mike!\n"
     ]
    }
   ],
   "source": [
    "String mike = \"Hello, Mike!\";\n",
    "System.out.println(mike);"
   ]
  },
  {
   "cell_type": "code",
   "execution_count": 44,
   "id": "d25f0b2d-41f7-4dff-9350-35ed2d975e8b",
   "metadata": {},
   "outputs": [
    {
     "ename": "CompilationException",
     "evalue": "",
     "output_type": "error",
     "traceback": [
      "\u001b[1m\u001b[30m|   \u001b[1m\u001b[30mmike = \u001b[0m\u001b[1m\u001b[30m\u001b[41m5\u001b[0m\u001b[1m\u001b[30m;\u001b[0m",
      "\u001b[1m\u001b[31mincompatible types: int cannot be converted to java.lang.String\u001b[0m",
      ""
     ]
    }
   ],
   "source": [
    "mike = 5;"
   ]
  },
  {
   "cell_type": "code",
   "execution_count": 50,
   "id": "326256ff-5341-42da-b5e5-684d3bdb0630",
   "metadata": {},
   "outputs": [
    {
     "ename": "CompilationException",
     "evalue": "",
     "output_type": "error",
     "traceback": [
      "\u001b[1m\u001b[30m|   \u001b[1m\u001b[30mmike = (String)\u001b[0m\u001b[1m\u001b[30m\u001b[41m10\u001b[0m\u001b[1m\u001b[30m;\u001b[0m",
      "\u001b[1m\u001b[31mincompatible types: int cannot be converted to java.lang.String\u001b[0m",
      ""
     ]
    }
   ],
   "source": [
    "mike = (String)10;"
   ]
  },
  {
   "cell_type": "code",
   "execution_count": 51,
   "id": "e1d6d55b-1406-4de1-a5b0-ea9b93e06a7f",
   "metadata": {},
   "outputs": [
    {
     "data": {
      "text/plain": [
       "5"
      ]
     },
     "execution_count": 51,
     "metadata": {},
     "output_type": "execute_result"
    }
   ],
   "source": [
    "mike = Integer.toString(5);\n",
    "mike"
   ]
  },
  {
   "cell_type": "code",
   "execution_count": 59,
   "id": "9b111b3f-a72c-4044-9bd2-e2b285248092",
   "metadata": {},
   "outputs": [
    {
     "name": "stdout",
     "output_type": "stream",
     "text": [
      "Degrees   Radians   Sine      Cosine    Tangent   \n",
      "30        0.5236    0.5000    0.8660    0.5774    \n",
      "179       3.1241    0.0175    -0.9998   -0.0175   \n",
      "10        0.1745    0.1736    0.9848    0.1763    \n",
      "5         0.0873    0.0872    0.9962    0.0875    \n",
      "60        1.0472    0.8660    0.5000    1.7321    \n"
     ]
    }
   ],
   "source": [
    "// Display the header of the table \n",
    "System.out.printf(\"%-10s%-10s%-10s%-10s%-10s\\n\", \"Degrees\", \"Radians\", \"Sine\", \"Cosine\", \"Tangent\");\n",
    "\n",
    "int intArray[] = {30, 179, 10, 5, 60};\n",
    "\n",
    "// Display values for degrees\n",
    "for (int degrees : intArray) {\n",
    "    double radians = Math.toRadians(degrees);\n",
    "    System.out.printf(\"%-10d%-10.4f%-10.4f%-10.4f%-10.4f\\n\", degrees, \n",
    "      radians, Math.sin(radians), Math.cos(radians),\n",
    "      Math.tan(radians));\n",
    "}"
   ]
  },
  {
   "cell_type": "code",
   "execution_count": 81,
   "id": "18f41d06-0bac-4b62-a5e4-a46b95bd98d1",
   "metadata": {},
   "outputs": [
    {
     "name": "stdout",
     "output_type": "stream",
     "text": [
      "10"
     ]
    }
   ],
   "source": [
    "int mike = Character.getNumericValue('A');\n",
    "System.out.print(mike);"
   ]
  },
  {
   "cell_type": "code",
   "execution_count": 82,
   "id": "bdc91d5a-6336-48e6-b6ed-fff258539b9a",
   "metadata": {},
   "outputs": [
    {
     "name": "stdout",
     "output_type": "stream",
     "text": [
      "\u0000\n",
      "\u0001\n",
      "\u0002\n",
      "\u0003\n",
      "\u0004\n",
      "\u0005\n",
      "\u0006\n",
      "\u0007\n",
      "\b\n",
      "\t\n",
      "\n",
      "\n",
      "\u000b",
      "\n",
      "\f",
      "\n",
      "\n",
      "\u000e\n",
      "\u000f\n",
      "\u0010\n",
      "\u0011\n",
      "\u0012\n",
      "\u0013\n",
      "\u0014\n",
      "\u0015\n",
      "\u0016\n",
      "\u0017\n",
      "\u0018\n",
      "\u0019\n",
      "\u001a\n",
      "\u001b\n",
      "\u001c",
      "\n",
      "\u001d",
      "\n",
      "\u001e",
      "\n",
      "\u001f\n",
      " \n",
      "!\n",
      "\"\n",
      "#\n",
      "$\n",
      "%\n",
      "&\n",
      "'\n",
      "(\n",
      ")\n",
      "*\n",
      "+\n",
      ",\n",
      "-\n",
      ".\n",
      "/\n",
      "0\n",
      "1\n",
      "2\n",
      "3\n",
      "4\n",
      "5\n",
      "6\n",
      "7\n",
      "8\n",
      "9\n",
      ":\n",
      ";\n",
      "<\n",
      "=\n",
      ">\n",
      "?\n",
      "@\n",
      "A\n",
      "B\n",
      "C\n",
      "D\n",
      "E\n",
      "F\n",
      "G\n",
      "H\n",
      "I\n",
      "J\n",
      "K\n",
      "L\n",
      "M\n",
      "N\n",
      "O\n",
      "P\n",
      "Q\n",
      "R\n",
      "S\n",
      "T\n",
      "U\n",
      "V\n",
      "W\n",
      "X\n",
      "Y\n",
      "Z\n",
      "[\n",
      "\\\n",
      "]\n",
      "^\n",
      "_\n",
      "`\n",
      "a\n",
      "b\n",
      "c\n",
      "d\n",
      "e\n",
      "f\n",
      "g\n",
      "h\n",
      "i\n",
      "j\n",
      "k\n",
      "l\n",
      "m\n",
      "n\n",
      "o\n",
      "p\n",
      "q\n",
      "r\n",
      "s\n",
      "t\n",
      "u\n",
      "v\n",
      "w\n",
      "x\n",
      "y\n",
      "z\n",
      "{\n",
      "|\n",
      "}\n",
      "~\n",
      "\n",
      "\n",
      "\n",
      "\n",
      "\n",
      "\n",
      "",
      "\n",
      "\n",
      "\n",
      "\n",
      "\n",
      "\n",
      "\n",
      "\n",
      "\n",
      "\n",
      "\n",
      "\n",
      "\n",
      "\n",
      "\n",
      "\n",
      "\n",
      "\n",
      "\n",
      "\n",
      "\n",
      "\n",
      "\n",
      "\n",
      "\n",
      "\n",
      "\n",
      " \n",
      "¡\n",
      "¢\n",
      "£\n",
      "¤\n",
      "¥\n",
      "¦\n",
      "§\n",
      "¨\n",
      "©\n",
      "ª\n",
      "«\n",
      "¬\n",
      "­\n",
      "®\n",
      "¯\n",
      "°\n",
      "±\n",
      "²\n",
      "³\n",
      "´\n",
      "µ\n",
      "¶\n",
      "·\n",
      "¸\n",
      "¹\n",
      "º\n",
      "»\n",
      "¼\n",
      "½\n",
      "¾\n",
      "¿\n",
      "À\n",
      "Á\n",
      "Â\n",
      "Ã\n",
      "Ä\n",
      "Å\n",
      "Æ\n",
      "Ç\n",
      "È\n",
      "É\n",
      "Ê\n",
      "Ë\n",
      "Ì\n",
      "Í\n",
      "Î\n",
      "Ï\n",
      "Ð\n",
      "Ñ\n",
      "Ò\n",
      "Ó\n",
      "Ô\n",
      "Õ\n",
      "Ö\n",
      "×\n",
      "Ø\n",
      "Ù\n",
      "Ú\n",
      "Û\n",
      "Ü\n",
      "Ý\n",
      "Þ\n",
      "ß\n",
      "à\n",
      "á\n",
      "â\n",
      "ã\n",
      "ä\n",
      "å\n",
      "æ\n",
      "ç\n",
      "è\n",
      "é\n",
      "ê\n",
      "ë\n",
      "ì\n",
      "í\n",
      "î\n",
      "ï\n",
      "ð\n",
      "ñ\n",
      "ò\n",
      "ó\n",
      "ô\n",
      "õ\n",
      "ö\n",
      "÷\n",
      "ø\n",
      "ù\n",
      "ú\n",
      "û\n",
      "ü\n",
      "ý\n",
      "þ\n",
      "ÿ\n"
     ]
    }
   ],
   "source": [
    "for (int i = 0; i < 256; i++) {\n",
    "    System.out.println(Character.toChars(i));\n",
    "}"
   ]
  },
  {
   "cell_type": "code",
   "execution_count": 62,
   "id": "0d5f7838-9d16-4c0b-a84a-2b64dcfdaa72",
   "metadata": {},
   "outputs": [
    {
     "name": "stdout",
     "output_type": "stream",
     "text": [
      "The decimal value for hex digit F is 15\n"
     ]
    }
   ],
   "source": [
    "String hexString = \"F\";\n",
    "    \n",
    "    // Check if the hex string has exactly one character\n",
    "    if (hexString.length() != 1) {\n",
    "      System.out.println(\"You must enter exactly one character\");\n",
    "    }\n",
    "    \n",
    "    // Display decimal value for the hex digit\n",
    "    char ch = Character.toUpperCase(hexString.charAt(0));    \n",
    "    if (ch <= 'F' && ch >= 'A') {\n",
    "      int value = ch - 'A' + 10;\n",
    "      System.out.println(\"The decimal value for hex digit \" \n",
    "        + ch + \" is \" + value);\n",
    "    }\n",
    "    else if (Character.isDigit(ch)) {\n",
    "      System.out.println(\"The decimal value for hex digit \" \n",
    "        + ch + \" is \" + ch);\n",
    "    }\n",
    "    else {\n",
    "      System.out.println(ch + \" is an invalid input\");\n",
    "    }"
   ]
  },
  {
   "cell_type": "code",
   "execution_count": 1,
   "id": "cc36775a",
   "metadata": {},
   "outputs": [
    {
     "name": "stdout",
     "output_type": "stream",
     "text": [
      "Enter the first city: wappingers falls\n",
      "Enter the second city: poughkeepsie\n",
      "The cities in alphabetical order are poughkeepsie wappingers falls\n"
     ]
    }
   ],
   "source": [
    "import java.util.Scanner;\n",
    "\n",
    "Scanner input = new Scanner(System.in);\n",
    "    \n",
    "    // Prompt the user to enter two cities\n",
    "    System.out.print(\"Enter the first city: \");\n",
    "    String city1 = input.nextLine();\n",
    "    System.out.print(\"Enter the second city: \");\n",
    "    String city2 = input.nextLine();\n",
    "    \n",
    "    if (city1.compareTo(city2) < 0)\n",
    "      System.out.println(\"The cities in alphabetical order are \" +\n",
    "         city1 + \" \" + city2);\n",
    "    else\n",
    "      System.out.println(\"The cities in alphabetical order are \" +\n",
    "          city2 + \" \" + city1);"
   ]
  },
  {
   "cell_type": "code",
   "execution_count": 3,
   "id": "73569a65",
   "metadata": {},
   "outputs": [
    {
     "name": "stdout",
     "output_type": "stream",
     "text": [
      "Enter the first city: albecerqe\n",
      "Enter the second city: Ranchero\n",
      "The cities in alphabetical order are Ranchero albecerqe\n"
     ]
    }
   ],
   "source": [
    "import java.util.Scanner;\n",
    "\n",
    "Scanner input = new Scanner(System.in);\n",
    "    \n",
    "    // Prompt the user to enter two cities\n",
    "    System.out.print(\"Enter the first city: \");\n",
    "    String city1 = input.nextLine();\n",
    "    System.out.print(\"Enter the second city: \");\n",
    "    String city2 = input.nextLine();\n",
    "    \n",
    "    if (city1.compareTo(city2) < 0)\n",
    "      System.out.println(\"The cities in alphabetical order are \" +\n",
    "         city1 + \" \" + city2);\n",
    "    else\n",
    "      System.out.println(\"The cities in alphabetical order are \" +\n",
    "          city2 + \" \" + city1);"
   ]
  },
  {
   "cell_type": "markdown",
   "id": "12f63e1c-aff1-4c27-9e92-12f53d32e4a8",
   "metadata": {},
   "source": [
    "## Chap 5"
   ]
  },
  {
   "cell_type": "code",
   "execution_count": 83,
   "id": "c1c1ee42-4e93-469c-9db4-f5f08217efe2",
   "metadata": {},
   "outputs": [
    {
     "name": "stdout",
     "output_type": "stream",
     "text": [
      "The number is 14\n",
      "The sum is 105\n"
     ]
    }
   ],
   "source": [
    "    int sum = 0;\n",
    "    int number = 0;\n",
    "\n",
    "    while (number < 20) {\n",
    "      number++;\n",
    "      sum += number;\n",
    "      if (sum >= 100) break;\n",
    "    }\n",
    "\n",
    "    System.out.println(\"The number is \" + number);\n",
    "    System.out.println(\"The sum is \" + sum);"
   ]
  },
  {
   "cell_type": "code",
   "execution_count": 84,
   "id": "f09d8fe6-0aa2-429f-bee8-eb875d1f904a",
   "metadata": {},
   "outputs": [
    {
     "name": "stdout",
     "output_type": "stream",
     "text": [
      "The sum is 50.499985\n"
     ]
    }
   ],
   "source": [
    "// Initialize sum\n",
    "    float sum = 0;\n",
    "\n",
    "    // Add 0.01, 0.02, ..., 0.99, 1 to sum\n",
    "    for (float i = 0.01f; i <= 1.0f; i = i + 0.01f)\n",
    "      sum += i;\n",
    "\n",
    "    // Display result\n",
    "    System.out.println(\"The sum is \" + sum);"
   ]
  },
  {
   "cell_type": "code",
   "execution_count": 86,
   "id": "fb042457-7c42-4242-bd19-070040b31eff",
   "metadata": {},
   "outputs": [
    {
     "name": "stdout",
     "output_type": "stream",
     "text": [
      "The sum is 189\n"
     ]
    }
   ],
   "source": [
    "int sum = 0;\n",
    "int number = 0;\n",
    "\n",
    "while (number < 20) {\n",
    "  number++;\n",
    "  if (number == 10 || number == 11) continue;\n",
    "  sum += number;\n",
    "}\n",
    "\n",
    "    System.out.println(\"The sum is \" + sum);"
   ]
  },
  {
   "cell_type": "code",
   "execution_count": 87,
   "id": "5080907e-d5de-4a10-90ae-77029a9cac31",
   "metadata": {},
   "outputs": [
    {
     "name": "stdout",
     "output_type": "stream",
     "text": [
      "The sum is 45\n"
     ]
    }
   ],
   "source": [
    "int sum = 0;\n",
    "int number = 0;\n",
    "\n",
    "while (number < 20) {\n",
    "  if (number == 10 || number == 11) break;\n",
    "  sum += number;\n",
    "}\n",
    "\n",
    "    System.out.println(\"The sum is \" + sum);"
   ]
  },
  {
   "cell_type": "code",
   "execution_count": 88,
   "id": "f83c1d40-8d04-4591-bb54-c46454fc227a",
   "metadata": {},
   "outputs": [
    {
     "name": "stdout",
     "output_type": "stream",
     "text": [
      "           Multiplication Table\n",
      "       1   2   3   4   5   6   7   8   9\n",
      "-----------------------------------------\n",
      "1 |    1   2   3   4   5   6   7   8   9\n",
      "2 |    2   4   6   8  10  12  14  16  18\n",
      "3 |    3   6   9  12  15  18  21  24  27\n",
      "4 |    4   8  12  16  20  24  28  32  36\n",
      "5 |    5  10  15  20  25  30  35  40  45\n",
      "6 |    6  12  18  24  30  36  42  48  54\n",
      "7 |    7  14  21  28  35  42  49  56  63\n",
      "8 |    8  16  24  32  40  48  56  64  72\n",
      "9 |    9  18  27  36  45  54  63  72  81\n"
     ]
    }
   ],
   "source": [
    "    System.out.println(\"           Multiplication Table\");\n",
    "\n",
    "    // Display the number title\n",
    "    System.out.print(\"    \");\n",
    "    for (int j = 1; j <= 9; j++)\n",
    "      System.out.print(\"   \" + j);\n",
    "\n",
    "    System.out.println(\"\\n-----------------------------------------\");\n",
    "\n",
    "    // Print table body\n",
    "    for (int i = 1; i <= 9; i++) {\n",
    "      System.out.print(i + \" | \");\n",
    "      for (int j = 1; j <= 9; j++) {\n",
    "        // Display the product and align properly\n",
    "        System.out.printf(\"%4d\", i * j);\n",
    "      }\n",
    "      System.out.println();\n",
    "    }"
   ]
  },
  {
   "cell_type": "code",
   "execution_count": 91,
   "id": "9a1854f9-2f26-4f1b-92ad-406c9316557e",
   "metadata": {},
   "outputs": [
    {
     "name": "stdout",
     "output_type": "stream",
     "text": [
      "mike is not a palindrome\n"
     ]
    }
   ],
   "source": [
    "String s = \"mike\";\n",
    "\n",
    "// The index of the first character in the string\n",
    "    int low = 0;\n",
    "\n",
    "    // The index of the last character in the string\n",
    "    int high = s.length() - 1;\n",
    "\n",
    "    boolean isPalindrome = true;\n",
    "    while (low < high) {\n",
    "      if (s.charAt(low) != s.charAt(high)) {\n",
    "        isPalindrome = false;\n",
    "        break;\n",
    "      }\n",
    "\n",
    "      low++;\n",
    "      high--;\n",
    "    }\n",
    "\n",
    "    if (isPalindrome)\n",
    "      System.out.println(s + \" is a palindrome\");\n",
    "    else\n",
    "      System.out.println(s + \" is not a palindrome\");\n",
    "  "
   ]
  }
 ],
 "metadata": {
  "kernelspec": {
   "display_name": "Java",
   "language": "java",
   "name": "java"
  },
  "language_info": {
   "codemirror_mode": "java",
   "file_extension": ".jshell",
   "mimetype": "text/x-java-source",
   "name": "Java",
   "pygments_lexer": "java",
   "version": "19.0.1+10-Ubuntu-1ubuntu122.04"
  }
 },
 "nbformat": 4,
 "nbformat_minor": 5
}

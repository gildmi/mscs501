{
 "cells": [
  {
   "cell_type": "markdown",
   "id": "782b6ce4",
   "metadata": {},
   "source": [
    "# MSCS501 OOP\n",
    "## Lesson 10\n",
    "### Recursion (Chap 18)"
   ]
  },
  {
   "cell_type": "code",
   "execution_count": 1,
   "id": "799dd749",
   "metadata": {},
   "outputs": [],
   "source": [
    "//Return the factorial for a specified number\n",
    "public static long factorial(int n) {\n",
    "  if (n == 0) { // Base case\n",
    "    return 1;\n",
    "  }\n",
    "  else {\n",
    "    return n * factorial(n - 1); // Recursive call\n",
    "  }\n",
    "}"
   ]
  },
  {
   "cell_type": "code",
   "execution_count": 2,
   "id": "321d8482",
   "metadata": {},
   "outputs": [
    {
     "name": "stdout",
     "output_type": "stream",
     "text": [
      "Enter a non-negative integer: 10\n",
      "Factorial of 10 is 3628800\n"
     ]
    }
   ],
   "source": [
    "import java.util.Scanner; \n",
    "\n",
    "// Create a Scanner\n",
    "Scanner input = new Scanner(System.in);\n",
    "System.out.print(\"Enter a non-negative integer: \");\n",
    "int n = input.nextInt();\n",
    "    \n",
    "// Display factorial\n",
    "System.out.println(\"Factorial of \" + n + \" is \" + factorial(n));"
   ]
  },
  {
   "cell_type": "code",
   "execution_count": 2,
   "id": "6ba70281",
   "metadata": {},
   "outputs": [],
   "source": [
    "public static long fib(long index) {\n",
    "    if (index == 0) // Base case\n",
    "      return 0;\n",
    "    else if (index == 1) // Base case\n",
    "      return 1;\n",
    "    else  // Reduction and recursive calls\n",
    "      return fib(index - 1) + fib(index - 2);\n",
    "  }\n"
   ]
  },
  {
   "cell_type": "code",
   "execution_count": 3,
   "id": "c4bfe423",
   "metadata": {},
   "outputs": [
    {
     "name": "stdout",
     "output_type": "stream",
     "text": [
      "Enter an index for the Fibonacci number: 10\n",
      "Fibonacci number at index 10 is 55\n"
     ]
    }
   ],
   "source": [
    "import java.util.Scanner;\n",
    "\n",
    "Scanner input = new Scanner(System.in);\n",
    "    System.out.print(\"Enter an index for the Fibonacci number: \");\n",
    "    int index = input.nextInt();\n",
    "\n",
    "    // Find and display the Fibonacci number\n",
    "    System.out.println( \n",
    "      \"Fibonacci number at index \" + index + \" is \" + fib(index));"
   ]
  },
  {
   "cell_type": "code",
   "execution_count": 4,
   "id": "225da630",
   "metadata": {},
   "outputs": [],
   "source": [
    "public static boolean isPalindrome(String s) {\n",
    "    return isPalindrome(s, 0, s.length() - 1);\n",
    "  }"
   ]
  },
  {
   "cell_type": "code",
   "execution_count": 5,
   "id": "4c608e47",
   "metadata": {},
   "outputs": [],
   "source": [
    "public static boolean isPalindrome(String s, int low, int high) {\n",
    "    if (high <= low) // Base case\n",
    "      return true;\n",
    "    else if (s.charAt(low) != s.charAt(high)) // Base case\n",
    "      return false;\n",
    "    else\n",
    "      return isPalindrome(s, low + 1, high - 1);\n",
    "  }"
   ]
  },
  {
   "cell_type": "code",
   "execution_count": 6,
   "id": "a6b74f88",
   "metadata": {},
   "outputs": [
    {
     "name": "stdout",
     "output_type": "stream",
     "text": [
      "Is moon a palindrome? false\n",
      "Is noon a palindrome? true\n",
      "Is a a palindrome? true\n",
      "Is aba a palindrome? true\n",
      "Is ab a palindrome? false\n"
     ]
    }
   ],
   "source": [
    "System.out.println(\"Is moon a palindrome? \" \n",
    "      + isPalindrome(\"moon\"));\n",
    "    System.out.println(\"Is noon a palindrome? \" \n",
    "      + isPalindrome(\"noon\"));\n",
    "    System.out.println(\"Is a a palindrome? \" + isPalindrome(\"a\"));\n",
    "    System.out.println(\"Is aba a palindrome? \" + \n",
    "      isPalindrome(\"aba\"));\n",
    "    System.out.println(\"Is ab a palindrome? \" + isPalindrome(\"ab\"));"
   ]
  },
  {
   "cell_type": "code",
   "execution_count": 7,
   "id": "be528ff0",
   "metadata": {},
   "outputs": [],
   "source": [
    "public static long getSize(File file) {\n",
    "    long size = 0; // Store the total size of all files\n",
    "\n",
    "    if (file.isDirectory()) {\n",
    "      File[] files = file.listFiles(); // All files and subdirectories\n",
    "      for (int i = 0; i < files.length; i++) {\n",
    "        size += getSize(files[i]); // Recursive call\n",
    "      }\n",
    "    }\n",
    "    else { // Base case\n",
    "      size += file.length();\n",
    "    }\n",
    "\n",
    "    return size;\n",
    "  }"
   ]
  },
  {
   "cell_type": "code",
   "execution_count": 9,
   "id": "14bf7347",
   "metadata": {},
   "outputs": [
    {
     "name": "stdout",
     "output_type": "stream",
     "text": [
      "Enter a directory or a file: test\n",
      "95798 bytes\n"
     ]
    }
   ],
   "source": [
    "import java.io.File;\n",
    "import java.util.Scanner; \n",
    "\n",
    "// Prompt the user to enter a directory or a file\n",
    "    System.out.print(\"Enter a directory or a file: \");    \n",
    "    Scanner input = new Scanner(System.in);\n",
    "    String directory = input.nextLine();\n",
    "    \n",
    "    // Display the size\n",
    "    System.out.println(getSize(new File(directory)) + \" bytes\");"
   ]
  },
  {
   "cell_type": "code",
   "execution_count": 10,
   "id": "845425cb",
   "metadata": {},
   "outputs": [],
   "source": [
    "/** The method for finding the solution to move n disks\n",
    "      from fromTower to toTower with auxTower */\n",
    "  public static void moveDisks(int n, char fromTower,\n",
    "      char toTower, char auxTower) {\n",
    "    if (n == 1) // Stopping condition\n",
    "      System.out.println(\"Move disk \" + n + \" from \" +\n",
    "        fromTower + \" to \" + toTower);\n",
    "    else {\n",
    "      moveDisks(n - 1, fromTower, auxTower, toTower);\n",
    "      System.out.println(\"Move disk \" + n + \" from \" +\n",
    "        fromTower + \" to \" + toTower);\n",
    "      moveDisks(n - 1, auxTower, toTower, fromTower);\n",
    "    }\n",
    "  }"
   ]
  },
  {
   "cell_type": "code",
   "execution_count": 11,
   "id": "0bfa6b72",
   "metadata": {},
   "outputs": [
    {
     "name": "stdout",
     "output_type": "stream",
     "text": [
      "Enter number of disks: 5\n",
      "The moves are:\n",
      "Move disk 1 from A to B\n",
      "Move disk 2 from A to C\n",
      "Move disk 1 from B to C\n",
      "Move disk 3 from A to B\n",
      "Move disk 1 from C to A\n",
      "Move disk 2 from C to B\n",
      "Move disk 1 from A to B\n",
      "Move disk 4 from A to C\n",
      "Move disk 1 from B to C\n",
      "Move disk 2 from B to A\n",
      "Move disk 1 from C to A\n",
      "Move disk 3 from B to C\n",
      "Move disk 1 from A to B\n",
      "Move disk 2 from A to C\n",
      "Move disk 1 from B to C\n",
      "Move disk 5 from A to B\n",
      "Move disk 1 from C to A\n",
      "Move disk 2 from C to B\n",
      "Move disk 1 from A to B\n",
      "Move disk 3 from C to A\n",
      "Move disk 1 from B to C\n",
      "Move disk 2 from B to A\n",
      "Move disk 1 from C to A\n",
      "Move disk 4 from C to B\n",
      "Move disk 1 from A to B\n",
      "Move disk 2 from A to C\n",
      "Move disk 1 from B to C\n",
      "Move disk 3 from A to B\n",
      "Move disk 1 from C to A\n",
      "Move disk 2 from C to B\n",
      "Move disk 1 from A to B\n"
     ]
    }
   ],
   "source": [
    "import java.util.Scanner; \n",
    "\n",
    "// Create a Scanner\n",
    "    Scanner input = new Scanner(System.in);\n",
    "    System.out.print(\"Enter number of disks: \");\n",
    "    int n = input.nextInt();\n",
    "\n",
    "    // Find the solution recursively\n",
    "    System.out.println(\"The moves are:\");\n",
    "    moveDisks(n, 'A', 'B', 'C');"
   ]
  },
  {
   "cell_type": "code",
   "execution_count": 15,
   "id": "87f9ea5a",
   "metadata": {},
   "outputs": [],
   "source": [
    "/** Auxiliary tail-recursive method for factorial */\n",
    "  private static long factorial(int n, int result) {\n",
    "    if (n == 0) \n",
    "      return result;\n",
    "    else\n",
    "      return factorial(n - 1, n * result); // Recursive call\n",
    "  }"
   ]
  },
  {
   "cell_type": "code",
   "execution_count": 16,
   "id": "a71a0ef9",
   "metadata": {},
   "outputs": [],
   "source": [
    "public static long factorial(int n) {\n",
    "    return factorial(n, 1); // Call auxiliary method\n",
    "  }"
   ]
  },
  {
   "cell_type": "code",
   "execution_count": 17,
   "id": "dfadf67f",
   "metadata": {},
   "outputs": [
    {
     "data": {
      "text/plain": [
       "120"
      ]
     },
     "execution_count": 17,
     "metadata": {},
     "output_type": "execute_result"
    }
   ],
   "source": [
    "factorial(5)"
   ]
  },
  {
   "cell_type": "code",
   "execution_count": 1,
   "id": "67110878",
   "metadata": {},
   "outputs": [],
   "source": [
    "public static void moveDisks(int n, char fromTower,\n",
    "      char toTower, char auxTower) {\n",
    "    if (n == 1) // Stopping condition\n",
    "      System.out.println(\"Move disk \" + n + \" from \" +\n",
    "        fromTower + \" to \" + toTower);\n",
    "    else {\n",
    "      moveDisks(n - 1, fromTower, auxTower, toTower);\n",
    "      System.out.println(\"Move disk \" + n + \" from \" +\n",
    "        fromTower + \" to \" + toTower);\n",
    "      moveDisks(n - 1, auxTower, toTower, fromTower);\n",
    "    }\n",
    "  }"
   ]
  },
  {
   "cell_type": "code",
   "execution_count": 2,
   "id": "6479852e",
   "metadata": {},
   "outputs": [
    {
     "name": "stdout",
     "output_type": "stream",
     "text": [
      "Enter number of disks: 5\n",
      "The moves are:\n",
      "Move disk 1 from A to B\n",
      "Move disk 2 from A to C\n",
      "Move disk 1 from B to C\n",
      "Move disk 3 from A to B\n",
      "Move disk 1 from C to A\n",
      "Move disk 2 from C to B\n",
      "Move disk 1 from A to B\n",
      "Move disk 4 from A to C\n",
      "Move disk 1 from B to C\n",
      "Move disk 2 from B to A\n",
      "Move disk 1 from C to A\n",
      "Move disk 3 from B to C\n",
      "Move disk 1 from A to B\n",
      "Move disk 2 from A to C\n",
      "Move disk 1 from B to C\n",
      "Move disk 5 from A to B\n",
      "Move disk 1 from C to A\n",
      "Move disk 2 from C to B\n",
      "Move disk 1 from A to B\n",
      "Move disk 3 from C to A\n",
      "Move disk 1 from B to C\n",
      "Move disk 2 from B to A\n",
      "Move disk 1 from C to A\n",
      "Move disk 4 from C to B\n",
      "Move disk 1 from A to B\n",
      "Move disk 2 from A to C\n",
      "Move disk 1 from B to C\n",
      "Move disk 3 from A to B\n",
      "Move disk 1 from C to A\n",
      "Move disk 2 from C to B\n",
      "Move disk 1 from A to B\n"
     ]
    }
   ],
   "source": [
    "import java.util.Scanner; \n",
    "\n",
    "Scanner input = new Scanner(System.in);\n",
    "System.out.print(\"Enter number of disks: \");\n",
    "int n = input.nextInt();\n",
    "\n",
    "// Find the solution recursively\n",
    "System.out.println(\"The moves are:\");\n",
    "moveDisks(n, 'A', 'B', 'C');"
   ]
  },
  {
   "cell_type": "markdown",
   "id": "3f637298",
   "metadata": {},
   "source": [
    "### Sets & Maps (Chap 21)"
   ]
  },
  {
   "cell_type": "code",
   "execution_count": 3,
   "id": "0e65b190",
   "metadata": {},
   "outputs": [
    {
     "name": "stdout",
     "output_type": "stream",
     "text": [
      "[San Francisco, Beijing, New York, London, Paris]\n",
      "SAN FRANCISCO BEIJING NEW YORK LONDON PARIS \n",
      "san francisco beijing new york london paris "
     ]
    }
   ],
   "source": [
    "import java.util.*;\n",
    "Set<String> set = new HashSet<>();\n",
    "\n",
    "    // Add strings to the set\n",
    "    set.add(\"London\");\n",
    "    set.add(\"Paris\");\n",
    "    set.add(\"New York\");\n",
    "    set.add(\"San Francisco\");\n",
    "    set.add(\"Beijing\");\n",
    "    set.add(\"New York\");\n",
    "\n",
    "    System.out.println(set);\n",
    "\n",
    "    // Display the elements in the hash set\n",
    "    for (String s: set) {\n",
    "      System.out.print(s.toUpperCase() + \" \");\n",
    "    }\n",
    "    \n",
    "    // Process the elements using a forEach method\n",
    "    System.out.println();\n",
    "    set.forEach(e -> System.out.print(e.toLowerCase() + \" \"));"
   ]
  },
  {
   "cell_type": "code",
   "execution_count": 5,
   "id": "83e71b3f",
   "metadata": {},
   "outputs": [
    {
     "name": "stdout",
     "output_type": "stream",
     "text": [
      "[London, Paris, New York, San Francisco, Beijing]\n",
      "london paris new york san francisco beijing "
     ]
    }
   ],
   "source": [
    "// Create a hash set\n",
    "    Set<String> set = new LinkedHashSet<>();\n",
    "    \n",
    "    // Add strings to the set\n",
    "    set.add(\"London\");\n",
    "    set.add(\"Paris\");\n",
    "    set.add(\"New York\");\n",
    "    set.add(\"San Francisco\");\n",
    "    set.add(\"Beijing\");\n",
    "    set.add(\"New York\");\n",
    "\n",
    "    System.out.println(set);\n",
    "\n",
    "    // Display the elements in the hash set\n",
    "    for (String element: set)\n",
    "      System.out.print(element.toLowerCase() + \" \");\n"
   ]
  },
  {
   "cell_type": "code",
   "execution_count": 7,
   "id": "1b70bfe7",
   "metadata": {},
   "outputs": [
    {
     "name": "stdout",
     "output_type": "stream",
     "text": [
      "Sorted tree set: [Beijing, London, New York, Paris, San Francisco]\n",
      "first(): Beijing\n",
      "last(): San Francisco\n",
      "headSet(\"New York\"): [Beijing, London]\n",
      "tailSet(\"New York\"): [New York, Paris, San Francisco]\n",
      "lower(\"P\"): New York\n",
      "higher(\"P\"): Paris\n",
      "floor(\"P\"): New York\n",
      "ceiling(\"P\"): Paris\n",
      "pollFirst(): Beijing\n",
      "pollLast(): San Francisco\n",
      "New tree set: [London, New York, Paris]\n"
     ]
    }
   ],
   "source": [
    "Set<String> set = new HashSet<>();\n",
    "\n",
    "    // Add strings to the set\n",
    "    set.add(\"London\");\n",
    "    set.add(\"Paris\");\n",
    "    set.add(\"New York\");\n",
    "    set.add(\"San Francisco\");\n",
    "    set.add(\"Beijing\");\n",
    "    set.add(\"New York\");\n",
    "\n",
    "    TreeSet<String> treeSet = new TreeSet<>(set);\n",
    "    System.out.println(\"Sorted tree set: \" + treeSet);\n",
    "\n",
    "    // Use the methods in SortedSet interface\n",
    "    System.out.println(\"first(): \" + treeSet.first());\n",
    "    System.out.println(\"last(): \" + treeSet.last());\n",
    "    System.out.println(\"headSet(\\\"New York\\\"): \" + \n",
    "      treeSet.headSet(\"New York\"));\n",
    "    System.out.println(\"tailSet(\\\"New York\\\"): \" + \n",
    "      treeSet.tailSet(\"New York\"));\n",
    "\n",
    "    // Use the methods in NavigableSet interface\n",
    "    System.out.println(\"lower(\\\"P\\\"): \" + treeSet.lower(\"P\"));\n",
    "    System.out.println(\"higher(\\\"P\\\"): \" + treeSet.higher(\"P\"));\n",
    "    System.out.println(\"floor(\\\"P\\\"): \" + treeSet.floor(\"P\"));\n",
    "    System.out.println(\"ceiling(\\\"P\\\"): \" + treeSet.ceiling(\"P\"));\n",
    "    System.out.println(\"pollFirst(): \" + treeSet.pollFirst());\n",
    "    System.out.println(\"pollLast(): \" + treeSet.pollLast());\n",
    "    System.out.println(\"New tree set: \" + treeSet);"
   ]
  },
  {
   "cell_type": "code",
   "execution_count": null,
   "id": "46b52d2d",
   "metadata": {},
   "outputs": [],
   "source": [
    "Set<GeometricObject> set =\n",
    "      new TreeSet<>(new GeometricObjectComparator());\n",
    "    set.add(new Rectangle(4, 5));\n",
    "    set.add(new Circle(40));\n",
    "    set.add(new Circle(40));\n",
    "    set.add(new Rectangle(4, 1));\n",
    "\n",
    "    // Display geometric objects in the tree set\n",
    "    System.out.println(\"A sorted set of geometric objects\");\n",
    "    for (GeometricObject element: set)\n",
    "      System.out.println(\"area = \" + element.getArea());\n",
    "  }"
   ]
  },
  {
   "cell_type": "code",
   "execution_count": 1,
   "id": "996b7580",
   "metadata": {},
   "outputs": [],
   "source": [
    "public static int countKeywords(File file) throws Exception {  \n",
    "    // Array of all Java keywords + true, false and null\n",
    "    String[] keywordString = {\"abstract\", \"assert\", \"boolean\", \n",
    "        \"break\", \"byte\", \"case\", \"catch\", \"char\", \"class\", \"const\",\n",
    "        \"continue\", \"default\", \"do\", \"double\", \"else\", \"enum\",\n",
    "        \"extends\", \"for\", \"final\", \"finally\", \"float\", \"goto\",\n",
    "        \"if\", \"implements\", \"import\", \"instanceof\", \"int\", \n",
    "        \"interface\", \"long\", \"native\", \"new\", \"package\", \"private\",\n",
    "        \"protected\", \"public\", \"return\", \"short\", \"static\", \n",
    "        \"strictfp\", \"super\", \"switch\", \"synchronized\", \"this\",\n",
    "        \"throw\", \"throws\", \"transient\", \"try\", \"void\", \"volatile\",\n",
    "        \"while\", \"true\", \"false\", \"null\"};\n",
    "\n",
    "    Set<String> keywordSet = \n",
    "      new HashSet<>(Arrays.asList(keywordString));\n",
    "    int count = 0;    \n",
    "\n",
    "    Scanner input = new Scanner(file);\n",
    "\n",
    "    while (input.hasNext()) {\n",
    "      String word = input.next();\n",
    "      if (keywordSet.contains(word)) \n",
    "        count++;\n",
    "    }\n",
    "\n",
    "    return count;\n",
    "  }"
   ]
  },
  {
   "cell_type": "code",
   "execution_count": 2,
   "id": "87f72131",
   "metadata": {},
   "outputs": [
    {
     "name": "stdout",
     "output_type": "stream",
     "text": [
      "Enter a Java source file: Untitled.ipynb\n",
      "The number of keywords in Untitled.ipynb is 96\n"
     ]
    }
   ],
   "source": [
    "Scanner input = new Scanner(System.in);\n",
    "    System.out.print(\"Enter a Java source file: \");\n",
    "    String filename = input.nextLine();\n",
    "\n",
    "    File file = new File(filename);\n",
    "    if (file.exists()) {\n",
    "      System.out.println(\"The number of keywords in \" + filename \n",
    "        + \" is \" + countKeywords(file));\n",
    "    }\n",
    "    else {\n",
    "      System.out.println(\"File \" + filename + \" does not exist\");\n",
    "    }    "
   ]
  },
  {
   "cell_type": "code",
   "execution_count": 4,
   "id": "a145fecb",
   "metadata": {},
   "outputs": [
    {
     "name": "stdout",
     "output_type": "stream",
     "text": [
      "Display entries in HashMap\n",
      "{Lewis=29, Smith=30, Cook=29, Anderson=31}\n",
      "\n",
      "Display entries in ascending order of key\n",
      "{Anderson=31, Cook=29, Lewis=29, Smith=30}\n",
      "\n",
      "The age for Lewis is 29\n",
      "Display entries in LinkedHashMap\n",
      "{Smith=30, Anderson=31, Cook=29, Lewis=29}\n",
      "\n",
      "Names and ages are Anderson: 31 Cook: 29 Lewis: 29 Smith: 30 "
     ]
    }
   ],
   "source": [
    " // Create a HashMap\n",
    "    Map<String, Integer> hashMap = new HashMap<>();\n",
    "    hashMap.put(\"Smith\", 30);\n",
    "    hashMap.put(\"Anderson\", 31);\n",
    "    hashMap.put(\"Lewis\", 29);\n",
    "    hashMap.put(\"Cook\", 29);\n",
    "\n",
    "    System.out.println(\"Display entries in HashMap\");\n",
    "    System.out.println(hashMap + \"\\n\");\n",
    "\n",
    "    // Create a TreeMap from the preceding HashMap\n",
    "    Map<String, Integer> treeMap = new TreeMap<>(hashMap);\n",
    "    System.out.println(\"Display entries in ascending order of key\");\n",
    "    System.out.println(treeMap);\n",
    "\n",
    "    // Create a LinkedHashMap\n",
    "    Map<String, Integer> linkedHashMap =\n",
    "      new LinkedHashMap<>(16, 0.75f, true);\n",
    "    linkedHashMap.put(\"Smith\", 30);\n",
    "    linkedHashMap.put(\"Anderson\", 31);\n",
    "    linkedHashMap.put(\"Lewis\", 29);\n",
    "    linkedHashMap.put(\"Cook\", 29);\n",
    "\n",
    "    // Display the age for Lewis\n",
    "    System.out.println(\"\\nThe age for \" + \"Lewis is \" +\n",
    "      linkedHashMap.get(\"Lewis\"));\n",
    "\n",
    "    System.out.println(\"Display entries in LinkedHashMap\");\n",
    "    System.out.println(linkedHashMap);\n",
    "    \n",
    "    // Display each entry with name and age\n",
    "    System.out.print(\"\\nNames and ages are \");\n",
    "    treeMap.forEach(\n",
    "      (name, age) -> System.out.print(name + \": \" + age + \" \"));"
   ]
  },
  {
   "cell_type": "code",
   "execution_count": 5,
   "id": "0bb382f2",
   "metadata": {},
   "outputs": [
    {
     "name": "stdout",
     "output_type": "stream",
     "text": [
      "a\t2\n",
      "class\t1\n",
      "fun\t1\n",
      "good\t3\n",
      "have\t3\n",
      "morning\t1\n",
      "visit\t1\n"
     ]
    }
   ],
   "source": [
    "// Set text in a string\n",
    "    String text = \"Good morning. Have a good class. \" +\n",
    "      \"Have a good visit. Have fun!\";\n",
    "\n",
    "    // Create a TreeMap to hold words as key and count as value\n",
    "    Map<String, Integer> map = new TreeMap<>();\n",
    "\n",
    "    String[] words = text.split(\"[\\\\s+\\\\p{P}]\");\n",
    "    for (int i = 0; i < words.length; i++) {\n",
    "      String key = words[i].toLowerCase();\n",
    "      \n",
    "      if (key.length() > 0) {\n",
    "        if (!map.containsKey(key)) {\n",
    "          map.put(key, 1);\n",
    "        }\n",
    "        else {\n",
    "          int value = map.get(key);\n",
    "          value++;\n",
    "          map.put(key, value);\n",
    "        }\n",
    "      }\n",
    "    }\n",
    "\n",
    "    // Display key and value for each entry\n",
    "    map.forEach((k, v) -> System.out.println(k + \"\\t\" + v));"
   ]
  },
  {
   "cell_type": "code",
   "execution_count": null,
   "id": "7b683657",
   "metadata": {},
   "outputs": [],
   "source": []
  }
 ],
 "metadata": {
  "kernelspec": {
   "display_name": "Java",
   "language": "java",
   "name": "java"
  },
  "language_info": {
   "codemirror_mode": "java",
   "file_extension": ".jshell",
   "mimetype": "text/x-java-source",
   "name": "Java",
   "pygments_lexer": "java",
   "version": "17.0.2+8-LTS-86"
  }
 },
 "nbformat": 4,
 "nbformat_minor": 5
}

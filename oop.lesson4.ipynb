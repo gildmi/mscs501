{
 "cells": [
  {
   "cell_type": "markdown",
   "id": "29fa3176",
   "metadata": {},
   "source": [
    "# MSCS501 Object Oriented Programming (OOP) \n",
    "## Lesson 4"
   ]
  },
  {
   "cell_type": "markdown",
   "id": "d89cd4d9",
   "metadata": {},
   "source": [
    "## Chap. 9\n",
    "Simple class with overloaded constructor"
   ]
  },
  {
   "cell_type": "code",
   "execution_count": 10,
   "id": "0c875c80",
   "metadata": {},
   "outputs": [],
   "source": [
    "class SimpleCircle {\n",
    "  double radius;\n",
    "\n",
    "  /** Construct a circle with radius 1 */\n",
    "  SimpleCircle() {\n",
    "    radius = 1;\n",
    "  }\n",
    "\n",
    "  /** Construct a circle with a specified radius */\n",
    "  SimpleCircle(double newRadius) {\n",
    "    radius = newRadius;\n",
    "  }\n",
    "\n",
    "  /** Return the area of this circle */\n",
    "  double getArea() {\n",
    "    return radius * radius * Math.PI;\n",
    "  }\n",
    "\n",
    "  /** Return the perimeter of this circle */\n",
    "  double getPerimeter() {\n",
    "    return 2 * radius * Math.PI;\n",
    "  }\n",
    "\n",
    "  /** Set a new radius for this circle */\n",
    "  void setRadius(double newRadius) {\n",
    "    radius = newRadius;\n",
    "  }\n",
    "}"
   ]
  },
  {
   "cell_type": "markdown",
   "id": "dee3e2f2",
   "metadata": {},
   "source": [
    "Lets create a few simpleCircle objects using both constructors"
   ]
  },
  {
   "cell_type": "code",
   "execution_count": 12,
   "id": "2835e272",
   "metadata": {},
   "outputs": [
    {
     "name": "stdout",
     "output_type": "stream",
     "text": [
      "The area of the circle of radius 1.0 is 3.141592653589793\n",
      "The area of the circle of radius 25.0 is 1963.4954084936207\n",
      "The area of the circle of radius 125.0 is 49087.385212340516\n",
      "The area of the circle of radius 100.0 is 31415.926535897932\n"
     ]
    }
   ],
   "source": [
    "    // Create a circle with radius 1\n",
    "    SimpleCircle circle1 = new SimpleCircle();\n",
    "    System.out.println(\"The area of the circle of radius \"\n",
    "      + circle1.radius + \" is \" + circle1.getArea());\n",
    "\n",
    "    // Create a circle with radius 25\n",
    "    SimpleCircle circle2 = new SimpleCircle(25);\n",
    "    System.out.println(\"The area of the circle of radius \"\n",
    "      + circle2.radius + \" is \" + circle2.getArea());\n",
    "\n",
    "    // Create a circle with radius 125\n",
    "    SimpleCircle circle3 = new SimpleCircle(125);\n",
    "    System.out.println(\"The area of the circle of radius \"\n",
    "      + circle3.radius + \" is \" + circle3.getArea());\n",
    "\n",
    "    // Modify circle radius\n",
    "    circle2.radius = 100; // or circle2.setRadius(100)\n",
    "    System.out.println(\"The area of the circle of radius \"\n",
    "      + circle2.radius + \" is \" + circle2.getArea());"
   ]
  },
  {
   "cell_type": "markdown",
   "id": "d676f1c1",
   "metadata": {},
   "source": [
    "## How would be model a TV with an object?"
   ]
  },
  {
   "cell_type": "code",
   "execution_count": 15,
   "id": "909270c1",
   "metadata": {},
   "outputs": [],
   "source": [
    "public class TV {\n",
    "  int channel = 1; // Default channel is 1\n",
    "  int volumeLevel = 1; // Default volume level is 1\n",
    "  boolean on = false; // By default TV is off\n",
    "  \n",
    "  public TV() {\n",
    "  }\n",
    "  \n",
    "  public void turnOn() {\n",
    "    on = true;\n",
    "  }\n",
    "  \n",
    "  public void turnOff() {\n",
    "    on = false;\n",
    "  }\n",
    "  \n",
    "  public void setChannel(int newChannel) {\n",
    "    if (on && newChannel >= 1 && newChannel <= 120)\n",
    "      channel = newChannel;\n",
    "  }\n",
    "  \n",
    "  public void setVolume(int newVolumeLevel) {\n",
    "    if (on && newVolumeLevel >= 1 && newVolumeLevel <= 7)\n",
    "      volumeLevel = newVolumeLevel;\n",
    "  }\n",
    "  \n",
    "  public void channelUp() {\n",
    "    if (on && channel < 120)\n",
    "      channel++;\n",
    "  }\n",
    "  \n",
    "  public void channelDown() {\n",
    "    if (on && channel > 1)\n",
    "      channel--;\n",
    "  }\n",
    "  \n",
    "  public void volumeUp() {\n",
    "    if (on && volumeLevel < 7)\n",
    "      volumeLevel++;\n",
    "  }\n",
    "  \n",
    "  public void volumeDown() {\n",
    "    if (on && volumeLevel > 1)\n",
    "      volumeLevel--;\n",
    "  }\n",
    "  }"
   ]
  },
  {
   "cell_type": "markdown",
   "id": "e82baaab",
   "metadata": {},
   "source": [
    "Let's create a TV object and call some methods"
   ]
  },
  {
   "cell_type": "code",
   "execution_count": 16,
   "id": "e0a865e0",
   "metadata": {},
   "outputs": [
    {
     "name": "stdout",
     "output_type": "stream",
     "text": [
      "tv1's channel is 30 and volume level is 3\n",
      "tv2's channel is 3 and volume level is 2\n"
     ]
    }
   ],
   "source": [
    "    TV tv1 = new TV();\n",
    "    tv1.turnOn();\n",
    "    tv1.setChannel(30);\n",
    "    tv1.setVolume(3);\n",
    "    \n",
    "    TV tv2 = new TV();\n",
    "    tv2.turnOn();\n",
    "    tv2.channelUp();\n",
    "    tv2.channelUp();\n",
    "    tv2.volumeUp();\n",
    "    \n",
    "    System.out.println(\"tv1's channel is \" + tv1.channel \n",
    "      + \" and volume level is \" + tv1.volumeLevel);\n",
    "    System.out.println(\"tv2's channel is \" + tv2.channel \n",
    "      + \" and volume level is \" + tv2.volumeLevel);"
   ]
  },
  {
   "cell_type": "markdown",
   "id": "f3c47a48",
   "metadata": {},
   "source": [
    "Ok, now whats this accessor visibility stuff?"
   ]
  },
  {
   "cell_type": "code",
   "execution_count": 4,
   "id": "c6b1f409",
   "metadata": {},
   "outputs": [],
   "source": [
    "public class CircleWithPrivateDataFields {\n",
    "  /** The radius of the circle */\n",
    "  private double radius = 1;\n",
    "\n",
    "  /** The number of the objects created */\n",
    "  private static int numberOfObjects = 0;\n",
    "\n",
    "  /** Construct a circle with radius 1 */\n",
    "  public CircleWithPrivateDataFields() {\n",
    "    numberOfObjects++;\n",
    "  }\n",
    "\n",
    "  /** Construct a circle with a specified radius */\n",
    "  public CircleWithPrivateDataFields(double newRadius) {\n",
    "    radius = newRadius;\n",
    "    numberOfObjects++;\n",
    "  }\n",
    "\n",
    "  /** Return radius */\n",
    "  public double getRadius() {\n",
    "    return radius;\n",
    "  }\n",
    "\n",
    "  /** Set a new radius */\n",
    "  public void setRadius(double newRadius) {\n",
    "    radius = (newRadius >= 0) ? newRadius : 0;\n",
    "  }\n",
    "\n",
    "  /** Return numberOfObjects */\n",
    "  public static int getNumberOfObjects() {\n",
    "    return numberOfObjects;\n",
    "  }\n",
    "\n",
    "  /** Return the area of this circle */\n",
    "  public double getArea() {\n",
    "    return radius * radius * Math.PI;\n",
    "  }\n",
    "}"
   ]
  },
  {
   "cell_type": "code",
   "execution_count": 22,
   "id": "d31151fd",
   "metadata": {},
   "outputs": [
    {
     "data": {
      "text/plain": [
       "1.0"
      ]
     },
     "execution_count": 22,
     "metadata": {},
     "output_type": "execute_result"
    }
   ],
   "source": [
    "CircleWithPrivateDataFields circle = new CircleWithPrivateDataFields();\n",
    "circle.getRadius();"
   ]
  },
  {
   "cell_type": "code",
   "execution_count": 23,
   "id": "23e627b7",
   "metadata": {},
   "outputs": [
    {
     "ename": "CompilationException",
     "evalue": "",
     "output_type": "error",
     "traceback": [
      "\u001b[1m\u001b[30m|   \u001b[1m\u001b[30mSystem.out.println(\u001b[0m\u001b[1m\u001b[30m\u001b[41mcircle.radius\u001b[0m\u001b[1m\u001b[30m);\u001b[0m",
      "\u001b[1m\u001b[31mradius has private access in CircleWithPrivateDataFields\u001b[0m",
      ""
     ]
    }
   ],
   "source": [
    "System.out.println(circle.radius);"
   ]
  },
  {
   "cell_type": "markdown",
   "id": "61a1887e",
   "metadata": {},
   "source": [
    "Ohh use my data accessor methods..."
   ]
  },
  {
   "cell_type": "code",
   "execution_count": 24,
   "id": "849d6efe",
   "metadata": {},
   "outputs": [
    {
     "name": "stdout",
     "output_type": "stream",
     "text": [
      "The area of the circle of radius 5.0 is 78.53981633974483\n",
      "The area of the circle of radius 5.5 is 95.03317777109125\n"
     ]
    }
   ],
   "source": [
    "    // Create a Circle with radius 5.0\n",
    "    CircleWithPrivateDataFields myCircle = \n",
    "      new CircleWithPrivateDataFields(5.0);\n",
    "    System.out.println(\"The area of the circle of radius \"\n",
    "      + myCircle.getRadius() + \" is \" + myCircle.getArea());\n",
    "\n",
    "    // Increase myCircle's radius by 10%\n",
    "    myCircle.setRadius(myCircle.getRadius() * 1.1);\n",
    "    System.out.println(\"The area of the circle of radius \"\n",
    "      + myCircle.getRadius() + \" is \" + myCircle.getArea());"
   ]
  },
  {
   "cell_type": "markdown",
   "id": "d5d372bc",
   "metadata": {},
   "source": [
    "Let's make a little method to help process multiple objects."
   ]
  },
  {
   "cell_type": "code",
   "execution_count": 17,
   "id": "2c782b95",
   "metadata": {},
   "outputs": [],
   "source": [
    "  /** Print a table of areas for radius */\n",
    "  public static void printAreas(\n",
    "      CircleWithPrivateDataFields c, int times) {\n",
    "    System.out.println(\"Radius \\t\\tArea\");\n",
    "    while (times >= 1) {\n",
    "      System.out.println(c.getRadius() + \"\\t\\t\" + c.getArea());\n",
    "      c.setRadius(c.getRadius() + 1);\n",
    "      times--;\n",
    "    }\n",
    "  }"
   ]
  },
  {
   "cell_type": "code",
   "execution_count": 18,
   "id": "fc8483cf",
   "metadata": {},
   "outputs": [
    {
     "name": "stdout",
     "output_type": "stream",
     "text": [
      "Radius \t\tArea\n",
      "1.0\t\t3.141592653589793\n",
      "2.0\t\t12.566370614359172\n",
      "3.0\t\t28.274333882308138\n",
      "4.0\t\t50.26548245743669\n",
      "5.0\t\t78.53981633974483\n",
      "\n",
      "Radius is 6.0\n",
      "n is 5\n"
     ]
    }
   ],
   "source": [
    "    // Create a Circle object with radius 1\n",
    "    CircleWithPrivateDataFields myCircle = \n",
    "      new CircleWithPrivateDataFields(1);\n",
    "\n",
    "    // Print areas for radius 1, 2, 3, 4, and 5.\n",
    "    int n = 5;\n",
    "    printAreas(myCircle, n);\n",
    "\n",
    "    // See myCircle.radius and times\n",
    "    System.out.println(\"\\n\" + \"Radius is \" + myCircle.getRadius());\n",
    "    System.out.println(\"n is \" + n);"
   ]
  },
  {
   "cell_type": "markdown",
   "id": "37e18c52",
   "metadata": {},
   "source": [
    "Static data is shared across all objects!"
   ]
  },
  {
   "cell_type": "code",
   "execution_count": 19,
   "id": "183c64c8",
   "metadata": {},
   "outputs": [],
   "source": [
    "public class CircleWithStaticMembers {\n",
    "  /** The radius of the circle */\n",
    "  double radius;\n",
    "\n",
    "  /** The number of the objects created */\n",
    "  static int numberOfObjects = 0;\n",
    "\n",
    "  /** Construct a circle with radius 1 */\n",
    "  CircleWithStaticMembers() {\n",
    "    radius = 1.0;\n",
    "    numberOfObjects++;\n",
    "  }\n",
    "\n",
    "  /** Construct a circle with a specified radius */\n",
    "  CircleWithStaticMembers(double newRadius) {\n",
    "    radius = newRadius;\n",
    "    numberOfObjects++;\n",
    "  }\n",
    "\n",
    "  /** Return numberOfObjects */\n",
    "  static int getNumberOfObjects() {\n",
    "    return numberOfObjects;\n",
    "  }\n",
    "\n",
    "  /** Return the area of this circle */\n",
    "  double getArea() {\n",
    "    return radius * radius * Math.PI;\n",
    "  }\n",
    "}"
   ]
  },
  {
   "cell_type": "code",
   "execution_count": 25,
   "id": "d9ddba42",
   "metadata": {},
   "outputs": [
    {
     "name": "stdout",
     "output_type": "stream",
     "text": [
      "Before creating objects\n",
      "The number of Circle objects is 2\n",
      "\n",
      "After creating c1\n",
      "c1: radius (1.0) and number of Circle objects (3)\n",
      "\n",
      "After creating c2 and modifying c1\n",
      "c1: radius (9.0) and number of Circle objects (4)\n",
      "c2: radius (5.0) and number of Circle objects (4)\n"
     ]
    }
   ],
   "source": [
    "System.out.println(\"Before creating objects\");\n",
    "    System.out.println(\"The number of Circle objects is \" +\n",
    "      CircleWithStaticMembers.numberOfObjects);\n",
    "\n",
    "    // Create c1\n",
    "    CircleWithStaticMembers c1 = new CircleWithStaticMembers();\n",
    "\n",
    "    // Display c1 BEFORE c2 is created\n",
    "    System.out.println(\"\\nAfter creating c1\");\n",
    "    System.out.println(\"c1: radius (\" + c1.radius +\n",
    "      \") and number of Circle objects (\" +\n",
    "      c1.numberOfObjects + \")\");\n",
    "\n",
    "    // Create c2\n",
    "    CircleWithStaticMembers c2 = new CircleWithStaticMembers(5);\n",
    "\n",
    "    // Modify c1\n",
    "    c1.radius = 9;\n",
    "\n",
    "    // Display c1 and c2 AFTER c2 was created\n",
    "    System.out.println(\"\\nAfter creating c2 and modifying c1\");\n",
    "    System.out.println(\"c1: radius (\" + c1.radius +\n",
    "      \") and number of Circle objects (\" +\n",
    "      c1.numberOfObjects + \")\");\n",
    "    System.out.println(\"c2: radius (\" + c2.radius +\n",
    "      \") and number of Circle objects (\" +\n",
    "      c2.numberOfObjects + \")\");"
   ]
  },
  {
   "cell_type": "markdown",
   "id": "c456ecdb",
   "metadata": {},
   "source": [
    "## Chap. 10"
   ]
  },
  {
   "cell_type": "markdown",
   "id": "10080fcb",
   "metadata": {},
   "source": [
    "BMI...the old way"
   ]
  },
  {
   "cell_type": "code",
   "execution_count": 3,
   "id": "b674805d",
   "metadata": {},
   "outputs": [
    {
     "name": "stdout",
     "output_type": "stream",
     "text": [
      "Enter weight in pounds: 200\n",
      "Enter height in inches: 72\n",
      "BMI is 27.124597979905836\n",
      "Overweight\n"
     ]
    }
   ],
   "source": [
    "import java.util.Scanner;\n",
    "Scanner input = new Scanner(System.in);\n",
    "    \n",
    "// Prompt the user to enter weight in pounds\n",
    "    System.out.print(\"Enter weight in pounds: \");\n",
    "    double weight = input.nextDouble();\n",
    "    \n",
    "    // Prompt the user to enter height in inches\n",
    "    System.out.print(\"Enter height in inches: \");\n",
    "    double height = input.nextDouble();\n",
    "    \n",
    "    final double KILOGRAMS_PER_POUND = 0.45359237; // Constant\n",
    "    final double METERS_PER_INCH = 0.0254; // Constant \n",
    "    \n",
    "    // Compute BMI\n",
    "    double weightInKilograms = weight * KILOGRAMS_PER_POUND; \n",
    "    double heightInMeters = height * METERS_PER_INCH; \n",
    "    double bmi = weightInKilograms / \n",
    "      (heightInMeters * heightInMeters);\n",
    "\n",
    "    // Display result\n",
    "    System.out.println(\"BMI is \" + bmi);\n",
    "    if (bmi < 18.5)\n",
    "      System.out.println(\"Underweight\");\n",
    "    else if (bmi < 25)\n",
    "      System.out.println(\"Normal\");\n",
    "    else if (bmi < 30)\n",
    "      System.out.println(\"Overweight\");\n",
    "    else\n",
    "      System.out.println(\"Obese\");"
   ]
  },
  {
   "cell_type": "markdown",
   "id": "5060b962",
   "metadata": {},
   "source": [
    "How can we do it with objects?"
   ]
  },
  {
   "cell_type": "code",
   "execution_count": 4,
   "id": "b7433fcd",
   "metadata": {},
   "outputs": [],
   "source": [
    "public class BMI {\n",
    "  private String name;\n",
    "  private int age;\n",
    "  private double weight; // in pounds\n",
    "  private double height; // in inches\n",
    "  public static final double KILOGRAMS_PER_POUND = 0.45359237; \n",
    "  public static final double METERS_PER_INCH = 0.0254;  \n",
    "  \n",
    "  public BMI(String name, int age, double weight, double height) {\n",
    "    this.name = name;\n",
    "    this.age = age;\n",
    "    this.weight = weight;\n",
    "    this.height = height;\n",
    "  }\n",
    "  \n",
    "  public BMI(String name, double weight, double height) {\n",
    "    this(name, 20, weight, height);\n",
    "  }\n",
    "  \n",
    "  public double getBMI() {\n",
    "    double bmi = weight * KILOGRAMS_PER_POUND / \n",
    "      ((height * METERS_PER_INCH) * (height * METERS_PER_INCH));\n",
    "    return Math.round(bmi * 100) / 100.0;\n",
    "  }\n",
    "  \n",
    "  public String getStatus() {\n",
    "    double bmi = getBMI();\n",
    "    if (bmi < 18.5)\n",
    "      return \"Underweight\";\n",
    "    else if (bmi < 25)\n",
    "      return \"Normal\";\n",
    "    else if (bmi < 30)\n",
    "      return \"Overweight\";\n",
    "    else\n",
    "      return \"Obese\";\n",
    "  }\n",
    "  \n",
    "  public String getName() {\n",
    "    return name;\n",
    "  }\n",
    "  \n",
    "  public int getAge() {\n",
    "    return age;\n",
    "  }\n",
    "  \n",
    "  public double getWeight() {\n",
    "    return weight;\n",
    "  }\n",
    "  \n",
    "  public double getHeight() {\n",
    "    return height;\n",
    "  }\n",
    "}"
   ]
  },
  {
   "cell_type": "code",
   "execution_count": 5,
   "id": "7ebf27ae",
   "metadata": {},
   "outputs": [
    {
     "name": "stdout",
     "output_type": "stream",
     "text": [
      "Enter weight in pounds: 200\n",
      "Enter height in inches: 72\n",
      "BMI is 27.12\n",
      "Overweight\n"
     ]
    }
   ],
   "source": [
    "import java.util.Scanner;\n",
    "Scanner input = new Scanner(System.in);\n",
    "\n",
    "// Prompt the user to enter weight in pounds\n",
    "System.out.print(\"Enter weight in pounds: \");\n",
    "double weight = input.nextDouble();\n",
    "    \n",
    "// Prompt the user to enter height in inches\n",
    "System.out.print(\"Enter height in inches: \");\n",
    "double height = input.nextDouble();\n",
    "\n",
    "BMI bmi = new BMI(\"\", weight, height);\n",
    "System.out.println(\"BMI is \" + bmi.getBMI());\n",
    "System.out.println(bmi.getStatus());"
   ]
  },
  {
   "cell_type": "markdown",
   "id": "129baff4",
   "metadata": {},
   "source": [
    "Shift to Course class"
   ]
  },
  {
   "cell_type": "code",
   "execution_count": 6,
   "id": "0473424a",
   "metadata": {},
   "outputs": [],
   "source": [
    "public class Course {\n",
    "  private String courseName;\n",
    "  private String[] students = new String[100];\n",
    "  private int numberOfStudents;\n",
    "    \n",
    "  public Course(String courseName) {\n",
    "    this.courseName = courseName;\n",
    "  }\n",
    "  \n",
    "  public void addStudent(String student) {\n",
    "    students[numberOfStudents] = student;\n",
    "    numberOfStudents++;\n",
    "  }\n",
    "  \n",
    "  public String[] getStudents() {\n",
    "    return students;\n",
    "  }\n",
    "\n",
    "  public int getNumberOfStudents() {\n",
    "    return numberOfStudents;\n",
    "  }  \n",
    "\n",
    "  public String getCourseName() {\n",
    "    return courseName;\n",
    "  }  \n",
    "  \n",
    "  public void dropStudent(String student) {\n",
    "    // Left as an exercise in Exercise 9.9\n",
    "  }\n",
    "}"
   ]
  },
  {
   "cell_type": "code",
   "execution_count": 7,
   "id": "7e418ef7",
   "metadata": {},
   "outputs": [
    {
     "name": "stdout",
     "output_type": "stream",
     "text": [
      "Number of students in course1: 3\n",
      "Peter Jones, Brian Smith, Anne Kennedy, \n",
      "Number of students in course2: 2"
     ]
    }
   ],
   "source": [
    "Course course1 = new Course(\"Data Structures\");\n",
    "    Course course2 = new Course(\"Database Systems\");\n",
    "\n",
    "    course1.addStudent(\"Peter Jones\");\n",
    "    course1.addStudent(\"Brian Smith\");\n",
    "    course1.addStudent(\"Anne Kennedy\");\n",
    "\n",
    "    course2.addStudent(\"Peter Jones\");\n",
    "    course2.addStudent(\"Steve Smith\");\n",
    "\n",
    "    System.out.println(\"Number of students in course1: \"\n",
    "      + course1.getNumberOfStudents());\n",
    "    String[] students = course1.getStudents();\n",
    "    for (int i = 0; i < course1.getNumberOfStudents(); i++)\n",
    "      System.out.print(students[i] + \", \");\n",
    "    \n",
    "    System.out.println();\n",
    "    System.out.print(\"Number of students in course2: \"\n",
    "      + course2.getNumberOfStudents());"
   ]
  },
  {
   "cell_type": "code",
   "execution_count": 8,
   "id": "57612e99",
   "metadata": {},
   "outputs": [],
   "source": [
    "public class Loan {\n",
    "  private double annualInterestRate;\n",
    "  private int numberOfYears;\n",
    "  private double loanAmount;\n",
    "  private java.util.Date loanDate;\n",
    "\n",
    "  /** Default constructor */\n",
    "  public Loan() {\n",
    "    this(2.5, 1, 1000);\n",
    "  }\n",
    "\n",
    "  /** Construct a loan with specified annual interest rate,\n",
    "      number of years and loan amount \n",
    "    */\n",
    "  public Loan(double annualInterestRate, int numberOfYears,\n",
    "      double loanAmount) {\n",
    "    this.annualInterestRate = annualInterestRate;\n",
    "    this.numberOfYears = numberOfYears;\n",
    "    this.loanAmount = loanAmount;\n",
    "    loanDate = new java.util.Date();\n",
    "  }\n",
    "\n",
    "  /** Return annualInterestRate */\n",
    "  public double getAnnualInterestRate() {\n",
    "    return annualInterestRate;\n",
    "  }\n",
    "\n",
    "  /** Set a new annualInterestRate */\n",
    "  public void setAnnualInterestRate(double annualInterestRate) {\n",
    "    this.annualInterestRate = annualInterestRate;\n",
    "  }\n",
    "\n",
    "  /** Return numberOfYears */\n",
    "  public int getNumberOfYears() {\n",
    "    return numberOfYears;\n",
    "  }\n",
    "\n",
    "  /** Set a new numberOfYears */\n",
    "  public void setNumberOfYears(int numberOfYears) {\n",
    "    this.numberOfYears = numberOfYears;\n",
    "  }\n",
    "\n",
    "  /** Return loanAmount */\n",
    "  public double getLoanAmount() {\n",
    "    return loanAmount;\n",
    "  }\n",
    "\n",
    "  /** Set a newloanAmount */\n",
    "  public void setLoanAmount(double loanAmount) {\n",
    "    this.loanAmount = loanAmount;\n",
    "  }\n",
    "\n",
    "  /** Find monthly payment */\n",
    "  public double getMonthlyPayment() {\n",
    "    double monthlyInterestRate = annualInterestRate / 1200;\n",
    "    double monthlyPayment = loanAmount * monthlyInterestRate / (1 -\n",
    "      (Math.pow(1 / (1 + monthlyInterestRate), numberOfYears * 12)));\n",
    "    return monthlyPayment;    \n",
    "  }\n",
    "\n",
    "  /** Find total payment */\n",
    "  public double getTotalPayment() {\n",
    "    double totalPayment = getMonthlyPayment() * numberOfYears * 12;\n",
    "    return totalPayment;    \n",
    "  }\n",
    "\n",
    "  /** Return loan date */\n",
    "  public java.util.Date getLoanDate() {\n",
    "    return loanDate;\n",
    "  }\n",
    "}\n"
   ]
  },
  {
   "cell_type": "code",
   "execution_count": 9,
   "id": "420207ad",
   "metadata": {},
   "outputs": [
    {
     "name": "stdout",
     "output_type": "stream",
     "text": [
      "Enter yearly interest rate, for example, 8.25: 6.5\n",
      "Enter number of years as an integer: 5\n",
      "Enter loan amount, for example, 120000.95: 1000\n",
      "The loan was created on Mon Sep 19 21:31:22 EDT 2022\n",
      "The monthly payment is 19.57\n",
      "The total payment is 1173.97\n"
     ]
    },
    {
     "data": {
      "text/plain": [
       "java.io.PrintStream@3ce258b0"
      ]
     },
     "execution_count": 9,
     "metadata": {},
     "output_type": "execute_result"
    }
   ],
   "source": [
    "// Create a Scanner\n",
    "    Scanner input = new Scanner(System.in);\n",
    "\n",
    "    // Enter yearly interest rate\n",
    "    System.out.print(\n",
    "      \"Enter yearly interest rate, for example, 8.25: \");\n",
    "    double annualInterestRate = input.nextDouble();\n",
    "\n",
    "    // Enter number of years\n",
    "    System.out.print(\"Enter number of years as an integer: \");\n",
    "    int numberOfYears = input.nextInt();\n",
    "\n",
    "    // Enter loan amount\n",
    "    System.out.print(\"Enter loan amount, for example, 120000.95: \");\n",
    "    double loanAmount =  input.nextDouble();\n",
    "\n",
    "    // Create Loan object\n",
    "    Loan loan =\n",
    "      new Loan(annualInterestRate, numberOfYears, loanAmount);\n",
    "\n",
    "    // Display loan date, monthly payment, and total payment\n",
    "    System.out.printf(\"The loan was created on %s\\n\" +\n",
    "      \"The monthly payment is %.2f\\nThe total payment is %.2f\\n\",\n",
    "      loan.getLoanDate().toString(), loan.getMonthlyPayment(), \n",
    "      loan.getTotalPayment());"
   ]
  },
  {
   "cell_type": "markdown",
   "id": "49d4807d",
   "metadata": {},
   "source": [
    "## Chapter 11"
   ]
  },
  {
   "cell_type": "code",
   "execution_count": 18,
   "id": "bba48e63",
   "metadata": {},
   "outputs": [],
   "source": [
    "public class SimpleGeometricObject {\n",
    "  private String color = \"white\";\n",
    "  private boolean filled;\n",
    "  private java.util.Date dateCreated;\n",
    "  \n",
    "  /** Construct a default geometric object */\n",
    "  public SimpleGeometricObject() {\n",
    "    dateCreated = new java.util.Date();\n",
    "  }\n",
    "\n",
    "  /** Construct a geometric object with the specified color \n",
    "    *  and filled value */\n",
    "  public SimpleGeometricObject(String color, boolean filled) {\n",
    "    dateCreated = new java.util.Date();\n",
    "    this.color = color;\n",
    "    this.filled = filled;\n",
    "  }\n",
    "\n",
    "  /** Return color */\n",
    "  public String getColor() {\n",
    "    return color;\n",
    "  }\n",
    "\n",
    "  /** Set a new color */\n",
    "  public void setColor(String color) {\n",
    "    this.color = color;\n",
    "  }\n",
    "\n",
    "  /** Return filled. Since filled is boolean, \n",
    "     its get method is named isFilled */\n",
    "  public boolean isFilled() {\n",
    "    return filled;\n",
    "  }\n",
    "\n",
    "  /** Set a new filled */\n",
    "  public void setFilled(boolean filled) {\n",
    "    this.filled = filled;\n",
    "  }\n",
    "  \n",
    "  /** Get dateCreated */\n",
    "  public java.util.Date getDateCreated() {\n",
    "    return dateCreated;\n",
    "  }\n",
    "  \n",
    "  /** Return a string representation of this object */\n",
    "  public String toString() {\n",
    "    return \"created on \" + dateCreated + \"\\ncolor: \" + color + \n",
    "      \" and filled: \" + filled;\n",
    "  }\n",
    "}\n"
   ]
  },
  {
   "cell_type": "code",
   "execution_count": 19,
   "id": "d5fcac79",
   "metadata": {},
   "outputs": [],
   "source": [
    "public class CircleFromSimpleGeometricObject \n",
    "    extends SimpleGeometricObject {\n",
    "  private double radius;\n",
    "\n",
    "  public CircleFromSimpleGeometricObject() {\n",
    "  }\n",
    "\n",
    "  public CircleFromSimpleGeometricObject(double radius) {\n",
    "    this.radius = radius;\n",
    "  }\n",
    "\n",
    "  public CircleFromSimpleGeometricObject(double radius, \n",
    "      String color, boolean filled) {\n",
    "    this.radius = radius;\n",
    "    setColor(color);\n",
    "    setFilled(filled);\n",
    "  }\n",
    "\n",
    "  /** Return radius */\n",
    "  public double getRadius() {\n",
    "    return radius;\n",
    "  }\n",
    "\n",
    "  /** Set a new radius */\n",
    "  public void setRadius(double radius) {\n",
    "    this.radius = radius;\n",
    "  }\n",
    "\n",
    "  /** Return area */\n",
    "  public double getArea() {\n",
    "    return radius * radius * Math.PI;\n",
    "  }\n",
    "  \n",
    "  /** Return diameter */\n",
    "  public double getDiameter() {\n",
    "    return 2 * radius;\n",
    "  }\n",
    "  \n",
    "  /** Return perimeter */\n",
    "  public double getPerimeter() {\n",
    "    return 2 * radius * Math.PI;\n",
    "  }\n",
    "\n",
    "  /* Print the circle info */\n",
    "  public void printCircle() {\n",
    "    System.out.println(\"The circle is created \" + getDateCreated() +\n",
    "      \" and the radius is \" + radius);\n",
    "  }\n",
    "}\n"
   ]
  },
  {
   "cell_type": "code",
   "execution_count": 20,
   "id": "7569c517",
   "metadata": {},
   "outputs": [],
   "source": [
    "public class RectangleFromSimpleGeometricObject \n",
    "    extends SimpleGeometricObject {\n",
    "  private double width;\n",
    "  private double height;\n",
    "\n",
    "  public RectangleFromSimpleGeometricObject() {\n",
    "  }\n",
    "\n",
    "  public RectangleFromSimpleGeometricObject(\n",
    "      double width, double height) {\n",
    "    this.width = width;\n",
    "    this.height = height;\n",
    "  }\n",
    "\n",
    "  public RectangleFromSimpleGeometricObject(\n",
    "      double width, double height, String color, boolean filled) {\n",
    "    this.width = width;\n",
    "    this.height = height;\n",
    "    setColor(color);\n",
    "    setFilled(filled);\n",
    "  }\n",
    "\n",
    "  /** Return width */\n",
    "  public double getWidth() {\n",
    "    return width;\n",
    "  }\n",
    "\n",
    "  /** Set a new width */\n",
    "  public void setWidth(double width) {\n",
    "    this.width = width;\n",
    "  }\n",
    "\n",
    "  /** Return height */\n",
    "  public double getHeight() {\n",
    "    return height;\n",
    "  }\n",
    "\n",
    "  /** Set a new height */\n",
    "  public void setHeight(double height) {\n",
    "    this.height = height;\n",
    "  }\n",
    "\n",
    "  /** Return area */\n",
    "  public double getArea() {\n",
    "    return width * height;\n",
    "  }\n",
    "\n",
    "  /** Return perimeter */\n",
    "  public double getPerimeter() {\n",
    "    return 2 * (width + height);\n",
    "  }\n",
    "}\n"
   ]
  },
  {
   "cell_type": "code",
   "execution_count": 21,
   "id": "1d07b104",
   "metadata": {},
   "outputs": [
    {
     "name": "stdout",
     "output_type": "stream",
     "text": [
      "A circle created on Mon Sep 19 21:34:20 EDT 2022\n",
      "color: white and filled: false\n",
      "The color is white\n",
      "The radius is 1.0\n",
      "The area is 3.141592653589793\n",
      "The diameter is 2.0\n",
      "\n",
      "A rectangle created on Mon Sep 19 21:34:20 EDT 2022\n",
      "color: white and filled: false\n",
      "The area is 8.0\n",
      "The perimeter is 12.0\n"
     ]
    }
   ],
   "source": [
    "CircleFromSimpleGeometricObject circle = new CircleFromSimpleGeometricObject(1);\n",
    "System.out.println(\"A circle \" + circle.toString());\n",
    "System.out.println(\"The color is \" + circle.getColor());\n",
    "System.out.println(\"The radius is \" + circle.getRadius());\n",
    "System.out.println(\"The area is \" + circle.getArea());\n",
    "System.out.println(\"The diameter is \" + circle.getDiameter());\n",
    "    \n",
    "RectangleFromSimpleGeometricObject rectangle = new RectangleFromSimpleGeometricObject(2, 4);\n",
    "System.out.println(\"\\nA rectangle \" + rectangle.toString());\n",
    "System.out.println(\"The area is \" + rectangle.getArea());\n",
    "System.out.println(\"The perimeter is \" + rectangle.getPerimeter());"
   ]
  },
  {
   "cell_type": "markdown",
   "id": "778d827a",
   "metadata": {},
   "source": [
    "### A superclass gotcha"
   ]
  },
  {
   "cell_type": "code",
   "execution_count": 15,
   "id": "b7e2f180",
   "metadata": {},
   "outputs": [
    {
     "ename": "CompilationException",
     "evalue": "",
     "output_type": "error",
     "traceback": [
      "\u001b[1m\u001b[31mconstructor Fruit in class Fruit cannot be applied to given types;\u001b[0m",
      "\u001b[1m\u001b[31m  required: java.lang.String\u001b[0m",
      "\u001b[1m\u001b[31m  found:    no arguments\u001b[0m",
      "\u001b[1m\u001b[31m  reason: actual and formal argument lists differ in length\u001b[0m",
      ""
     ]
    }
   ],
   "source": [
    "class Fruit {\n",
    "  public Fruit(String name) {\n",
    "    System.out.println(\"Fruit's constructor is invoked\");\n",
    "  }\n",
    "}\n",
    "\n",
    "public class Apple extends Fruit {\n",
    "}"
   ]
  },
  {
   "cell_type": "code",
   "execution_count": 16,
   "id": "55d41432",
   "metadata": {},
   "outputs": [],
   "source": [
    "class Fruit {\n",
    "    public Fruit() {\n",
    "\n",
    "    }\n",
    "    \n",
    "  public Fruit(String name) {\n",
    "    System.out.println(\"Fruit's constructor is invoked\");\n",
    "  }\n",
    "}\n",
    "\n",
    "public class Apple extends Fruit {\n",
    "}"
   ]
  },
  {
   "cell_type": "markdown",
   "id": "ab2d77c6",
   "metadata": {},
   "source": [
    "### Polymorphism FTW!"
   ]
  },
  {
   "cell_type": "code",
   "execution_count": 22,
   "id": "5ffdc61d",
   "metadata": {},
   "outputs": [],
   "source": [
    "/** Display geometric object properties */\n",
    "public static void displayObject(SimpleGeometricObject object) {\n",
    "    System.out.println(\"Created on \" + object.getDateCreated() + \". Color is \" + object.getColor());\n",
    "}"
   ]
  },
  {
   "cell_type": "code",
   "execution_count": 23,
   "id": "0129e798",
   "metadata": {},
   "outputs": [
    {
     "name": "stdout",
     "output_type": "stream",
     "text": [
      "Created on Mon Sep 19 21:40:35 EDT 2022. Color is red\n",
      "Created on Mon Sep 19 21:40:35 EDT 2022. Color is black\n"
     ]
    }
   ],
   "source": [
    "// Display circle and rectangle properties\n",
    "displayObject(new CircleFromSimpleGeometricObject(1, \"red\", false));\n",
    "displayObject(new RectangleFromSimpleGeometricObject(1, 1, \"black\", true));"
   ]
  },
  {
   "cell_type": "markdown",
   "id": "8cf47f2f",
   "metadata": {},
   "source": [
    "Sometimes, order matters!"
   ]
  },
  {
   "cell_type": "code",
   "execution_count": 25,
   "id": "c0b946e9",
   "metadata": {},
   "outputs": [
    {
     "ename": "CompilationException",
     "evalue": "",
     "output_type": "error",
     "traceback": [
      "\u001b[1m\u001b[30m|   \u001b[1m\u001b[30mclass GraduateStudent extends Student {\u001b[0m",
      "\u001b[1m\u001b[30m|   \u001b[1m\u001b[30m}\u001b[0m",
      "\u001b[1m\u001b[31mUnresolved dependencies:\u001b[0m",
      "\u001b[1m\u001b[31m   - class Student\u001b[0m"
     ]
    }
   ],
   "source": [
    "class GraduateStudent extends Student {\n",
    "}\n",
    " \n",
    "class Student extends Person {\n",
    "  public String toString() {\n",
    "    return \"Student\";\n",
    "  }\n",
    "}\n",
    " \n",
    "class Person extends Object {\n",
    "  public String toString() {\n",
    "    return \"Person\";\n",
    "  }\n",
    "}"
   ]
  },
  {
   "cell_type": "code",
   "execution_count": 27,
   "id": "35e0eb2c",
   "metadata": {},
   "outputs": [],
   "source": [
    "class Person extends Object {\n",
    "  public String toString() {\n",
    "    return \"Person\";\n",
    "  }\n",
    "}\n",
    "\n",
    "class Student extends Person {\n",
    "  public String toString() {\n",
    "    return \"Student\";\n",
    "  }\n",
    "}\n",
    "\n",
    "class GraduateStudent extends Student {\n",
    "}"
   ]
  },
  {
   "cell_type": "code",
   "execution_count": 29,
   "id": "47e4fe00",
   "metadata": {},
   "outputs": [],
   "source": [
    "public static void m(Object x) {\n",
    "    System.out.println(x.toString());\n",
    "}"
   ]
  },
  {
   "cell_type": "code",
   "execution_count": 30,
   "id": "d149a328",
   "metadata": {},
   "outputs": [
    {
     "name": "stdout",
     "output_type": "stream",
     "text": [
      "Student\n",
      "Student\n",
      "Person\n",
      "java.lang.Object@6ee63b09\n"
     ]
    }
   ],
   "source": [
    "m(new GraduateStudent());\n",
    "m(new Student());\n",
    "m(new Person());\n",
    "m(new Object());"
   ]
  },
  {
   "cell_type": "markdown",
   "id": "937f7c0a",
   "metadata": {},
   "source": [
    "### Dynamic Binding"
   ]
  },
  {
   "cell_type": "code",
   "execution_count": 34,
   "id": "1bf143f2",
   "metadata": {},
   "outputs": [],
   "source": [
    "class GraduateStudent extends Student {\n",
    "}\n",
    "\n",
    "class Student extends Person {\n",
    "  public String toString() {\n",
    "    return \"Student\";\n",
    "  }\n",
    "}\n",
    "\n",
    "class Person extends Object {\n",
    "  public String toString() {\n",
    "    return \"Person\";\n",
    "  }\n",
    "}"
   ]
  },
  {
   "cell_type": "code",
   "execution_count": 39,
   "id": "86d7b22c",
   "metadata": {},
   "outputs": [
    {
     "name": "stdout",
     "output_type": "stream",
     "text": [
      "Student\n",
      "Student\n",
      "Person\n",
      "java.lang.Object@2fdfe441\n"
     ]
    }
   ],
   "source": [
    "public static void m(Object x) {\n",
    "    System.out.println(x.toString());\n",
    "  }\n",
    "\n",
    "Object o = new GraduateStudent(); // implicit casting\n",
    "\n",
    "Object o1 = new Object();\n",
    "\n",
    "if (o1 instanceof GraduateStudent) {\n",
    "  System.out.println(\"Never got here\");\n",
    "  GraduateStudent gs = (GraduateStudent)o1; // explicit casting\n",
    "}\n",
    "\n",
    "m(o);\n",
    "m(new Student());\n",
    "m(new Person());\n",
    "m(new Object());  "
   ]
  },
  {
   "cell_type": "markdown",
   "id": "d8f520b2",
   "metadata": {},
   "source": [
    "### Casting"
   ]
  },
  {
   "cell_type": "code",
   "execution_count": 40,
   "id": "8f0cfe13",
   "metadata": {},
   "outputs": [],
   "source": [
    "  /** A method for displaying an object */\n",
    "  public static void displayObject(Object object) {\n",
    "    if (object instanceof CircleFromSimpleGeometricObject) {\n",
    "      System.out.println(\"The circle area is \" +\n",
    "        ((CircleFromSimpleGeometricObject)object).getArea());\n",
    "      System.out.println(\"The circle diameter is \" +\n",
    "        ((CircleFromSimpleGeometricObject)object).getDiameter());\n",
    "    }\n",
    "    else if (object instanceof \n",
    "                  RectangleFromSimpleGeometricObject) {\n",
    "      System.out.println(\"The rectangle area is \" +\n",
    "        ((RectangleFromSimpleGeometricObject)object).getArea());\n",
    "    }\n",
    "  }"
   ]
  },
  {
   "cell_type": "code",
   "execution_count": 32,
   "id": "91f7c11c",
   "metadata": {},
   "outputs": [
    {
     "name": "stdout",
     "output_type": "stream",
     "text": [
      "The circle area is 3.141592653589793\n",
      "The circle diameter is 2.0\n",
      "The rectangle area is 1.0\n"
     ]
    }
   ],
   "source": [
    "    // Create and initialize two objects\n",
    "    Object object1 = new CircleFromSimpleGeometricObject(1);\n",
    "    Object object2 = new RectangleFromSimpleGeometricObject(1, 1);\n",
    "\n",
    "    // Display circle and rectangle\n",
    "    displayObject(object1);\n",
    "    displayObject(object2);"
   ]
  },
  {
   "cell_type": "code",
   "execution_count": null,
   "id": "50f17de2",
   "metadata": {},
   "outputs": [],
   "source": []
  }
 ],
 "metadata": {
  "kernelspec": {
   "display_name": "Java",
   "language": "java",
   "name": "java"
  },
  "language_info": {
   "codemirror_mode": "java",
   "file_extension": ".jshell",
   "mimetype": "text/x-java-source",
   "name": "Java",
   "pygments_lexer": "java",
   "version": "17.0.2+8-LTS-86"
  }
 },
 "nbformat": 4,
 "nbformat_minor": 5
}

{
 "cells": [
  {
   "cell_type": "markdown",
   "id": "49dea594",
   "metadata": {},
   "source": [
    "# Lesson 8"
   ]
  },
  {
   "cell_type": "markdown",
   "id": "598406cc",
   "metadata": {},
   "source": [
    "## Abstract Classes - Liang Chap. 13"
   ]
  },
  {
   "cell_type": "code",
   "execution_count": 4,
   "id": "8383fe80",
   "metadata": {},
   "outputs": [],
   "source": [
    "public abstract class GeometricObject {\n",
    "  private String color = \"white\";\n",
    "  private boolean filled;\n",
    "  private java.util.Date dateCreated;\n",
    "\n",
    "  /** Construct a default geometric object */\n",
    "  protected GeometricObject() {\n",
    "    dateCreated = new java.util.Date();\n",
    "  }\n",
    "\n",
    "  /** Construct a geometric object with color and filled value */\n",
    "  protected GeometricObject(String color, boolean filled) {\n",
    "    dateCreated = new java.util.Date();\n",
    "    this.color = color;\n",
    "    this.filled = filled;\n",
    "  }\n",
    "\n",
    "  /** Return color */\n",
    "  public String getColor() {\n",
    "    return color;\n",
    "  }\n",
    "\n",
    "  /** Set a new color */\n",
    "  public void setColor(String color) {\n",
    "    this.color = color;\n",
    "  }\n",
    "\n",
    "  /** Return filled. Since filled is boolean,\n",
    "   *  the get method is named isFilled */\n",
    "  public boolean isFilled() {\n",
    "    return filled;\n",
    "  }\n",
    "\n",
    "  /** Set a new filled */\n",
    "  public void setFilled(boolean filled) {\n",
    "    this.filled = filled;\n",
    "  }\n",
    "\n",
    "  /** Get dateCreated */\n",
    "  public java.util.Date getDateCreated() {\n",
    "    return dateCreated;\n",
    "  }\n",
    "\n",
    "  /** Return a string representation of this object */\n",
    "  public String toString() {\n",
    "    return \"created on \" + dateCreated + \"\\ncolor: \" + color +\n",
    "      \" and filled: \" + filled;\n",
    "  }\n",
    "\n",
    "  /** Abstract method getArea */\n",
    "  public abstract double getArea();\n",
    "\n",
    "  /** Abstract method getPerimeter */\n",
    "  public abstract double getPerimeter();\n",
    "}"
   ]
  },
  {
   "cell_type": "code",
   "execution_count": 5,
   "id": "0d8df77c",
   "metadata": {},
   "outputs": [
    {
     "ename": "CompilationException",
     "evalue": "",
     "output_type": "error",
     "traceback": [
      "\u001b[1m\u001b[30m|   \u001b[1m\u001b[30mGeometricObject go = \u001b[0m\u001b[1m\u001b[30m\u001b[41mnew GeometricObject()\u001b[0m\u001b[1m\u001b[30m;\u001b[0m",
      "\u001b[1m\u001b[31mGeometricObject is abstract; cannot be instantiated\u001b[0m",
      ""
     ]
    }
   ],
   "source": [
    "GeometricObject go = new GeometricObject();"
   ]
  },
  {
   "cell_type": "markdown",
   "id": "8edad98b",
   "metadata": {},
   "source": [
    "..OHHH abstract class can't be made an object but what about a subclass?"
   ]
  },
  {
   "cell_type": "code",
   "execution_count": 13,
   "id": "1975bdcc",
   "metadata": {},
   "outputs": [
    {
     "ename": "CompilationException",
     "evalue": "",
     "output_type": "error",
     "traceback": [
      "\u001b[1m\u001b[30m|   \u001b[1m\u001b[30m\u001b[0m\u001b[1m\u001b[30m\u001b[41mpublic class Circle extends GeometricObject {\u001b[0m",
      "\u001b[1m\u001b[30m|   \u001b[1m\u001b[30m\u001b[41m  private double radius;\u001b[0m",
      "\u001b[1m\u001b[30m|   \u001b[1m\u001b[30m\u001b[41m\u001b[0m",
      "\u001b[1m\u001b[30m|   \u001b[1m\u001b[30m\u001b[41m  public Circle() {\u001b[0m",
      "\u001b[1m\u001b[30m|   \u001b[1m\u001b[30m\u001b[41m  }\u001b[0m",
      "\u001b[1m\u001b[30m|   \u001b[1m\u001b[30m\u001b[41m\u001b[0m",
      "\u001b[1m\u001b[30m|   \u001b[1m\u001b[30m\u001b[41m\u001b[0m",
      "\u001b[1m\u001b[30m|   \u001b[1m\u001b[30m\u001b[41m  public Circle(double radius) {\u001b[0m",
      "\u001b[1m\u001b[30m|   \u001b[1m\u001b[30m\u001b[41m    this.radius = radius;\u001b[0m",
      "\u001b[1m\u001b[30m|   \u001b[1m\u001b[30m\u001b[41m  }\u001b[0m",
      "\u001b[1m\u001b[30m|   \u001b[1m\u001b[30m\u001b[41m\u001b[0m",
      "\u001b[1m\u001b[30m|   \u001b[1m\u001b[30m\u001b[41m  /** Return radius */\u001b[0m",
      "\u001b[1m\u001b[30m|   \u001b[1m\u001b[30m\u001b[41m  public double getRadius() {\u001b[0m",
      "\u001b[1m\u001b[30m|   \u001b[1m\u001b[30m\u001b[41m    return radius;\u001b[0m",
      "\u001b[1m\u001b[30m|   \u001b[1m\u001b[30m\u001b[41m  }\u001b[0m",
      "\u001b[1m\u001b[30m|   \u001b[1m\u001b[30m\u001b[41m\u001b[0m",
      "\u001b[1m\u001b[30m|   \u001b[1m\u001b[30m\u001b[41m  /** Set a new radius */\u001b[0m",
      "\u001b[1m\u001b[30m|   \u001b[1m\u001b[30m\u001b[41m  public void setRadius(double radius) {\u001b[0m",
      "\u001b[1m\u001b[30m|   \u001b[1m\u001b[30m\u001b[41m    this.radius = radius;\u001b[0m",
      "\u001b[1m\u001b[30m|   \u001b[1m\u001b[30m\u001b[41m  }\u001b[0m",
      "\u001b[1m\u001b[30m|   \u001b[1m\u001b[30m\u001b[41m\u001b[0m",
      "\u001b[1m\u001b[30m|   \u001b[1m\u001b[30m\u001b[41m  /** Return diameter */\u001b[0m",
      "\u001b[1m\u001b[30m|   \u001b[1m\u001b[30m\u001b[41m  public double getDiameter() {\u001b[0m",
      "\u001b[1m\u001b[30m|   \u001b[1m\u001b[30m\u001b[41m    return 2 * radius;\u001b[0m",
      "\u001b[1m\u001b[30m|   \u001b[1m\u001b[30m\u001b[41m  }\u001b[0m",
      "\u001b[1m\u001b[30m|   \u001b[1m\u001b[30m\u001b[41m\u001b[0m",
      "\u001b[1m\u001b[30m|   \u001b[1m\u001b[30m\u001b[41m  @Override /** Return perimeter */\u001b[0m",
      "\u001b[1m\u001b[30m|   \u001b[1m\u001b[30m\u001b[41m  public double getPerimeter() {\u001b[0m",
      "\u001b[1m\u001b[30m|   \u001b[1m\u001b[30m\u001b[41m    return 2 * radius * Math.PI;\u001b[0m",
      "\u001b[1m\u001b[30m|   \u001b[1m\u001b[30m\u001b[41m  }\u001b[0m",
      "\u001b[1m\u001b[30m|   \u001b[1m\u001b[30m\u001b[41m\u001b[0m",
      "\u001b[1m\u001b[30m|   \u001b[1m\u001b[30m\u001b[41m  /* Print the circle info */\u001b[0m",
      "\u001b[1m\u001b[30m|   \u001b[1m\u001b[30m\u001b[41m  public void printCircle() {\u001b[0m",
      "\u001b[1m\u001b[30m|   \u001b[1m\u001b[30m\u001b[41m    System.out.println(\"The circle is created \" + getDateCreated() +\u001b[0m",
      "\u001b[1m\u001b[30m|   \u001b[1m\u001b[30m\u001b[41m      \" and the radius is \" + radius);\u001b[0m",
      "\u001b[1m\u001b[30m|   \u001b[1m\u001b[30m\u001b[41m  }\u001b[0m",
      "\u001b[1m\u001b[30m|   \u001b[1m\u001b[30m\u001b[41m}\u001b[0m",
      "\u001b[1m\u001b[31mCircle is not abstract and does not override abstract method getArea() in GeometricObject\u001b[0m",
      ""
     ]
    }
   ],
   "source": [
    "public class Circle extends GeometricObject {\n",
    "  private double radius;\n",
    "\n",
    "  public Circle() {\n",
    "  }\n",
    "\n",
    "\n",
    "  public Circle(double radius) {\n",
    "    this.radius = radius;\n",
    "  }\n",
    "\n",
    "  /** Return radius */\n",
    "  public double getRadius() {\n",
    "    return radius;\n",
    "  }\n",
    "\n",
    "  /** Set a new radius */\n",
    "  public void setRadius(double radius) {\n",
    "    this.radius = radius;\n",
    "  }\n",
    "\n",
    "  /** Return diameter */\n",
    "  public double getDiameter() {\n",
    "    return 2 * radius;\n",
    "  }\n",
    "\n",
    "  @Override /** Return perimeter */\n",
    "  public double getPerimeter() {\n",
    "    return 2 * radius * Math.PI;\n",
    "  }\n",
    "\n",
    "  /* Print the circle info */\n",
    "  public void printCircle() {\n",
    "    System.out.println(\"The circle is created \" + getDateCreated() +\n",
    "      \" and the radius is \" + radius);\n",
    "  }\n",
    "}"
   ]
  },
  {
   "cell_type": "markdown",
   "id": "22e3686b",
   "metadata": {},
   "source": [
    "..but a subclass can that extends the class and implements ALL the abstract methods"
   ]
  },
  {
   "cell_type": "code",
   "execution_count": 17,
   "id": "e884c18b",
   "metadata": {},
   "outputs": [],
   "source": [
    "public class Circle extends GeometricObject {\n",
    "  private double radius;\n",
    "\n",
    "  public Circle() {\n",
    "  }\n",
    "\n",
    "  public Circle(double radius) {\n",
    "    this.radius = radius;\n",
    "  }\n",
    "\n",
    "  /** Return radius */\n",
    "  public double getRadius() {\n",
    "    return radius;\n",
    "  }\n",
    "\n",
    "  /** Set a new radius */\n",
    "  public void setRadius(double radius) {\n",
    "    this.radius = radius;\n",
    "  }\n",
    "\n",
    "  @Override /** Return area */\n",
    "  public double getArea() {\n",
    "    return radius * radius * Math.PI;\n",
    "  }\n",
    "\n",
    "  /** Return diameter */\n",
    "  public double getDiameter() {\n",
    "    return 2 * radius;\n",
    "  }\n",
    "\n",
    "  @Override /** Return perimeter */\n",
    "  public double getPerimeter() {\n",
    "    return 2 * radius * Math.PI;\n",
    "  }\n",
    "\n",
    "  /* Print the circle info */\n",
    "  public void printCircle() {\n",
    "    System.out.println(\"The circle is created \" + getDateCreated() +\n",
    "      \" and the radius is \" + radius);\n",
    "  }\n",
    "}"
   ]
  },
  {
   "cell_type": "code",
   "execution_count": 18,
   "id": "69b50105",
   "metadata": {},
   "outputs": [
    {
     "data": {
      "text/plain": [
       "3.141592653589793"
      ]
     },
     "execution_count": 18,
     "metadata": {},
     "output_type": "execute_result"
    }
   ],
   "source": [
    "Circle c = new Circle(1);\n",
    "c.getArea();"
   ]
  },
  {
   "cell_type": "markdown",
   "id": "52c78fb4",
   "metadata": {},
   "source": [
    "But why?"
   ]
  },
  {
   "cell_type": "code",
   "execution_count": 23,
   "id": "65ded151",
   "metadata": {},
   "outputs": [],
   "source": [
    "public class Rectangle extends GeometricObject {\n",
    "  private double width;\n",
    "  private double height;\n",
    "\n",
    "  public Rectangle() {\n",
    "  }\n",
    "\n",
    "  public Rectangle(double width, double height) {\n",
    "    this.width = width;\n",
    "    this.height = height;\n",
    "  }\n",
    "\n",
    "  /** Return width */\n",
    "  public double getWidth() {\n",
    "    return width;\n",
    "  }\n",
    "\n",
    "  /** Set a new width */\n",
    "  public void setWidth(double width) {\n",
    "    this.width = width;\n",
    "  }\n",
    "\n",
    "  /** Return height */\n",
    "  public double getHeight() {\n",
    "    return height;\n",
    "  }\n",
    "\n",
    "  /** Set a new height */\n",
    "  public void setHeight(double height) {\n",
    "    this.height = height;\n",
    "  }\n",
    "\n",
    "  @Override /** Return area */\n",
    "  public double getArea() {\n",
    "    return width * height;\n",
    "  }\n",
    "\n",
    "  @Override /** Return perimeter */\n",
    "  public double getPerimeter() {\n",
    "    return 2 * (width + height);\n",
    "  }\n",
    "}"
   ]
  },
  {
   "cell_type": "code",
   "execution_count": 24,
   "id": "cc8089d2",
   "metadata": {},
   "outputs": [],
   "source": [
    "/** A method for comparing the areas of two geometric objects */\n",
    "  public static boolean equalArea(GeometricObject object1,\n",
    "      GeometricObject object2) {\n",
    "    return object1.getArea() == object2.getArea();\n",
    "  }\n",
    "\n",
    "  /** A method for displaying a geometric object */\n",
    "  public static void displayGeometricObject(GeometricObject object) {\n",
    "    System.out.println();\n",
    "    System.out.println(\"The area is \" + object.getArea());\n",
    "    System.out.println(\"The perimeter is \" + object.getPerimeter());\n",
    "  }"
   ]
  },
  {
   "cell_type": "code",
   "execution_count": 25,
   "id": "c390c112",
   "metadata": {},
   "outputs": [
    {
     "name": "stdout",
     "output_type": "stream",
     "text": [
      "The two objects have the same area? false\n",
      "\n",
      "The area is 78.53981633974483\n",
      "The perimeter is 31.41592653589793\n",
      "\n",
      "The area is 15.0\n",
      "The perimeter is 16.0\n"
     ]
    }
   ],
   "source": [
    "    // Declare and initialize two geometric objects\n",
    "    GeometricObject geoObject1 = new Circle(5);\n",
    "    GeometricObject geoObject2 = new Rectangle(5, 3);\n",
    "\n",
    "    System.out.println(\"The two objects have the same area? \" +\n",
    "      equalArea(geoObject1, geoObject2));\n",
    "\n",
    "    // Display circle\n",
    "    displayGeometricObject(geoObject1);\n",
    "\n",
    "    // Display rectangle\n",
    "    displayGeometricObject(geoObject2);"
   ]
  },
  {
   "cell_type": "markdown",
   "id": "bd2861ac",
   "metadata": {},
   "source": [
    "Are there any other methods we can override besides abstract?\n",
    "YUP!!\n",
    "Any method in ancestor classes up to the Object class.\n",
    "\n",
    "Like hashcode and equals...  \n",
    "https://docs.oracle.com/javase/8/docs/api/java/lang/Object.html"
   ]
  },
  {
   "cell_type": "code",
   "execution_count": 20,
   "id": "bbe048f7",
   "metadata": {},
   "outputs": [],
   "source": [
    "public class Circle extends GeometricObject {\n",
    "  private double radius;\n",
    "\n",
    "  public Circle() {\n",
    "  }\n",
    "\n",
    "  @Override\n",
    "  public int hashCode() {\n",
    "    final int prime = 31;\n",
    "    int result = 1;\n",
    "    long temp;\n",
    "    temp = Double.doubleToLongBits(radius);\n",
    "    result = prime * result + (int) (temp ^ (temp >>> 32));\n",
    "    return result;\n",
    "  }\n",
    "\n",
    "  @Override\n",
    "  public boolean equals(Object obj) {\n",
    "    if (this == obj)\n",
    "      return true;\n",
    "    if (obj == null)\n",
    "      return false;\n",
    "    if (getClass() != obj.getClass())\n",
    "      return false;\n",
    "    Circle other = (Circle) obj;\n",
    "    if (Double.doubleToLongBits(radius) != Double.doubleToLongBits(other.radius))\n",
    "      return false;\n",
    "    return true;\n",
    "  }\n",
    "\n",
    "  public Circle(double radius) {\n",
    "    this.radius = radius;\n",
    "  }\n",
    "\n",
    "  /** Return radius */\n",
    "  public double getRadius() {\n",
    "    return radius;\n",
    "  }\n",
    "\n",
    "  /** Set a new radius */\n",
    "  public void setRadius(double radius) {\n",
    "    this.radius = radius;\n",
    "  }\n",
    "\n",
    "  @Override /** Return area */\n",
    "  public double getArea() {\n",
    "    return radius * radius * Math.PI;\n",
    "  }\n",
    "\n",
    "  /** Return diameter */\n",
    "  public double getDiameter() {\n",
    "    return 2 * radius;\n",
    "  }\n",
    "\n",
    "  @Override /** Return perimeter */\n",
    "  public double getPerimeter() {\n",
    "    return 2 * radius * Math.PI;\n",
    "  }\n",
    "\n",
    "  /* Print the circle info */\n",
    "  public void printCircle() {\n",
    "    System.out.println(\"The circle is created \" + getDateCreated() +\n",
    "      \" and the radius is \" + radius);\n",
    "  }\n",
    "}"
   ]
  },
  {
   "cell_type": "markdown",
   "id": "21ccbef7",
   "metadata": {},
   "source": [
    "Now, lets see another example use of an abstract class!"
   ]
  },
  {
   "cell_type": "code",
   "execution_count": 29,
   "id": "06491f34",
   "metadata": {},
   "outputs": [],
   "source": [
    "import java.util.ArrayList;\n",
    "import java.math.*;"
   ]
  },
  {
   "cell_type": "code",
   "execution_count": 30,
   "id": "2248538e",
   "metadata": {},
   "outputs": [],
   "source": [
    "public static Number getLargestNumber(ArrayList<Number> list) {\n",
    "    if (list == null || list.size() == 0) \n",
    "      return null;\n",
    "    \n",
    "    Number number = list.get(0);\n",
    "    for (int i = 1; i < list.size(); i++)\n",
    "      if (number.doubleValue() < list.get(i).doubleValue()) \n",
    "        number = list.get(i);\n",
    "    \n",
    "    return number;\n",
    "  }"
   ]
  },
  {
   "cell_type": "code",
   "execution_count": 31,
   "id": "a59288f8",
   "metadata": {},
   "outputs": [
    {
     "name": "stdout",
     "output_type": "stream",
     "text": [
      "The largest number is 3432323234344343101\n"
     ]
    }
   ],
   "source": [
    "ArrayList<Number> list = new ArrayList<Number>();\n",
    "\n",
    "list.add(45); // Add an integer\n",
    "list.add(3445.53); // Add a double\n",
    "\n",
    "// Add a BigInteger\n",
    "list.add(new BigInteger(\"3432323234344343101\")); \n",
    "\n",
    "// Add a BigDecimal\n",
    "list.add(new BigDecimal(\"2.0909090989091343433344343\")); \n",
    "    \n",
    "System.out.println(\"The largest number is \" + getLargestNumber(list));"
   ]
  },
  {
   "cell_type": "markdown",
   "id": "fb029048",
   "metadata": {},
   "source": [
    "Another example from Java utils!"
   ]
  },
  {
   "cell_type": "code",
   "execution_count": 32,
   "id": "52c1e225",
   "metadata": {},
   "outputs": [],
   "source": [
    "import java.util.*;\n",
    "\n",
    "public static String dayNameOfWeek(int dayOfWeek) {\n",
    "    switch (dayOfWeek) {\n",
    "      case 1: return \"Sunday\";\n",
    "      case 2: return \"Monday\";\n",
    "      case 3: return \"Tuesday\";\n",
    "      case 4: return \"Wednesday\";\n",
    "      case 5: return \"Thursday\";\n",
    "      case 6: return \"Friday\";\n",
    "      case 7: return \"Saturday\";\n",
    "      default: return null;\n",
    "    }\n",
    "  }"
   ]
  },
  {
   "cell_type": "code",
   "execution_count": 34,
   "id": "38a27908",
   "metadata": {},
   "outputs": [
    {
     "name": "stdout",
     "output_type": "stream",
     "text": [
      "Current time is Fri Mar 10 19:57:53 EST 2023\n",
      "YEAR:\t2023\n",
      "MONTH:\t2\n",
      "DATE:\t10\n",
      "HOUR:\t7\n",
      "HOUR_OF_DAY:\t19\n",
      "MINUTE:\t57\n",
      "SECOND:\t53\n",
      "DAY_OF_WEEK:\t6\n",
      "DAY_OF_MONTH:\t10\n",
      "DAY_OF_YEAR: 69\n",
      "WEEK_OF_MONTH: 2\n",
      "WEEK_OF_YEAR: 10\n",
      "AM_PM: 1\n",
      "September 11, 2001 is a Tuesday\n"
     ]
    }
   ],
   "source": [
    "// Construct a Gregorian calendar for the current date and time\n",
    "    Calendar calendar = new GregorianCalendar();\n",
    "    System.out.println(\"Current time is \" + new Date());\n",
    "    System.out.println(\"YEAR:\\t\" + calendar.get(Calendar.YEAR));\n",
    "    System.out.println(\"MONTH:\\t\" + calendar.get(Calendar.MONTH));\n",
    "    System.out.println(\"DATE:\\t\" + calendar.get(Calendar.DATE));\n",
    "    System.out.println(\"HOUR:\\t\" + calendar.get(Calendar.HOUR));\n",
    "    System.out.println(\"HOUR_OF_DAY:\\t\" + \n",
    "      calendar.get(Calendar.HOUR_OF_DAY));\n",
    "    System.out.println(\"MINUTE:\\t\" + calendar.get(Calendar.MINUTE));\n",
    "    System.out.println(\"SECOND:\\t\" + calendar.get(Calendar.SECOND));\n",
    "    System.out.println(\"DAY_OF_WEEK:\\t\" + \n",
    "      calendar.get(Calendar.DAY_OF_WEEK));\n",
    "    System.out.println(\"DAY_OF_MONTH:\\t\" + \n",
    "      calendar.get(Calendar.DAY_OF_MONTH));\n",
    "    System.out.println(\"DAY_OF_YEAR: \" + \n",
    "      calendar.get(Calendar.DAY_OF_YEAR));\n",
    "    System.out.println(\"WEEK_OF_MONTH: \" + \n",
    "      calendar.get(Calendar.WEEK_OF_MONTH));\n",
    "    System.out.println(\"WEEK_OF_YEAR: \" + \n",
    "      calendar.get(Calendar.WEEK_OF_YEAR));\n",
    "    System.out.println(\"AM_PM: \" + calendar.get(Calendar.AM_PM));\n",
    "    \n",
    "    // Construct a calendar for September 11, 2001\n",
    "    Calendar calendar1 = new GregorianCalendar(2001, 8, 11);\n",
    "    System.out.println(\"September 11, 2001 is a \" + \n",
    "      dayNameOfWeek(calendar1.get(Calendar.DAY_OF_WEEK)));"
   ]
  },
  {
   "cell_type": "markdown",
   "id": "8cd34e6a",
   "metadata": {},
   "source": [
    "### Interfaces"
   ]
  },
  {
   "cell_type": "markdown",
   "id": "8ef2d2a3",
   "metadata": {},
   "source": [
    "An interface is like a template for the object templates (classes)"
   ]
  },
  {
   "cell_type": "code",
   "execution_count": 35,
   "id": "374eeccc",
   "metadata": {},
   "outputs": [],
   "source": [
    "public interface Edible {\n",
    "  /** Describe how to eat */\n",
    "  public abstract String howToEat();\n",
    "}"
   ]
  },
  {
   "cell_type": "code",
   "execution_count": 37,
   "id": "f66bea0e",
   "metadata": {},
   "outputs": [],
   "source": [
    "abstract class Animal {\n",
    "  /** Return animal sound */\n",
    "  public abstract String sound();\n",
    "}\n",
    "\n",
    "class Chicken extends Animal implements Edible {\n",
    "  @Override\n",
    "  public String howToEat() {\n",
    "    return \"Chicken: Fry it\";\n",
    "  }\n",
    "    \n",
    "  @Override\n",
    "  public String sound() {\n",
    "    return \"Chicken: cock-a-doodle-doo\";\n",
    "  }\n",
    "}\n",
    "\n",
    "class Tiger extends Animal {\n",
    "  @Override\n",
    "  public String sound() {\n",
    "    return \"Tiger: RROOAARR\";\n",
    "  }\n",
    "}\n",
    "\n",
    "abstract class Fruit implements Edible {\n",
    "  // Data fields, constructors, and methods omitted here\n",
    "}\n",
    "\n",
    "class Apple extends Fruit {\n",
    "  @Override\n",
    "  public String howToEat() {\n",
    "    return \"Apple: Make apple cider\";\n",
    "  }\n",
    "}\n",
    "\n",
    "class Orange extends Fruit {\n",
    "  @Override\n",
    "  public String howToEat() {\n",
    "    return \"Orange: Make orange juice\";\n",
    "  }\n",
    "}"
   ]
  },
  {
   "cell_type": "code",
   "execution_count": 38,
   "id": "785fbed3",
   "metadata": {},
   "outputs": [
    {
     "name": "stdout",
     "output_type": "stream",
     "text": [
      "Tiger: RROOAARR\n",
      "Chicken: Fry it\n",
      "Chicken: cock-a-doodle-doo\n",
      "Apple: Make apple cider\n"
     ]
    }
   ],
   "source": [
    "Object[] objects = {new Tiger(), new Chicken(), new Apple()};\n",
    "    for (int i = 0; i < objects.length; i++) {\n",
    "      if (objects[i] instanceof Edible)\n",
    "        System.out.println(((Edible)objects[i]).howToEat());\n",
    "\n",
    "      if (objects[i] instanceof Animal) {\n",
    "        System.out.println(((Animal)objects[i]).sound());\n",
    "      }\n",
    "    }"
   ]
  },
  {
   "cell_type": "markdown",
   "id": "279b100b",
   "metadata": {},
   "source": [
    "How useful can it be?"
   ]
  },
  {
   "cell_type": "code",
   "execution_count": 39,
   "id": "30b98b82",
   "metadata": {},
   "outputs": [
    {
     "name": "stdout",
     "output_type": "stream",
     "text": [
      "Atlanta Boston Savannah Tampa \n",
      "54623239292 432232323239292 2323231092923992 "
     ]
    }
   ],
   "source": [
    "import java.math.*;\n",
    "\n",
    "String[] cities = {\"Savannah\", \"Boston\", \"Atlanta\", \"Tampa\"};\n",
    "    java.util.Arrays.sort(cities);\n",
    "    for (String city: cities)\n",
    "      System.out.print(city + \" \"); \n",
    "    System.out.println();\n",
    "    \n",
    "    BigInteger[] hugeNumbers = {new BigInteger(\"2323231092923992\"),\n",
    "       new BigInteger(\"432232323239292\"), \n",
    "       new BigInteger(\"54623239292\")};    \n",
    "    java.util.Arrays.sort(hugeNumbers);\n",
    "    for (BigInteger number: hugeNumbers)\n",
    "      System.out.print(number + \" \"); "
   ]
  },
  {
   "cell_type": "markdown",
   "id": "163520c9",
   "metadata": {},
   "source": [
    "How do we do it?"
   ]
  },
  {
   "cell_type": "code",
   "execution_count": 40,
   "id": "69445ccd",
   "metadata": {},
   "outputs": [],
   "source": [
    "public class Rectangle extends GeometricObject {\n",
    "  private double width;\n",
    "  private double height;\n",
    "\n",
    "  public Rectangle() {\n",
    "  }\n",
    "\n",
    "  public Rectangle(double width, double height) {\n",
    "    this.width = width;\n",
    "    this.height = height;\n",
    "  }\n",
    "\n",
    "  /** Return width */\n",
    "  public double getWidth() {\n",
    "    return width;\n",
    "  }\n",
    "\n",
    "  /** Set a new width */\n",
    "  public void setWidth(double width) {\n",
    "    this.width = width;\n",
    "  }\n",
    "\n",
    "  /** Return height */\n",
    "  public double getHeight() {\n",
    "    return height;\n",
    "  }\n",
    "\n",
    "  /** Set a new height */\n",
    "  public void setHeight(double height) {\n",
    "    this.height = height;\n",
    "  }\n",
    "\n",
    "  @Override /** Return area */\n",
    "  public double getArea() {\n",
    "    return width * height;\n",
    "  }\n",
    "\n",
    "  @Override /** Return perimeter */\n",
    "  public double getPerimeter() {\n",
    "    return 2 * (width + height);\n",
    "  }\n",
    "}"
   ]
  },
  {
   "cell_type": "code",
   "execution_count": 41,
   "id": "0d69cba8",
   "metadata": {},
   "outputs": [],
   "source": [
    "public class ComparableRectangle extends Rectangle \n",
    "    implements Comparable<ComparableRectangle> {\n",
    "  /** Construct a ComparableRectangle with specified properties */\n",
    "  public ComparableRectangle(double width, double height) {\n",
    "    super(width, height);\n",
    "  }\n",
    "\n",
    "  @Override // Implement the compareTo method defined in Comparable \n",
    "  public int compareTo(ComparableRectangle o) {\n",
    "    if (getArea() > o.getArea())\n",
    "      return 1;\n",
    "    else if (getArea() < o.getArea())\n",
    "      return -1;\n",
    "    else\n",
    "      return 0;\n",
    "  }\n",
    "  \n",
    "  @Override // Implement the toString method in GeometricObject\n",
    "  public String toString() {\n",
    "    return \"Width: \" + getWidth() + \" Height: \" + getHeight() +\n",
    "      \" Area: \" + getArea();\n",
    "  }\n",
    "}\n"
   ]
  },
  {
   "cell_type": "markdown",
   "id": "9e0ea411",
   "metadata": {},
   "source": [
    "Oh ok, implement comparable and the compareTo method..."
   ]
  },
  {
   "cell_type": "code",
   "execution_count": 43,
   "id": "1ed1b098",
   "metadata": {},
   "outputs": [
    {
     "name": "stdout",
     "output_type": "stream",
     "text": [
      "Width: 3.4 Height: 5.4 Area: 18.36 \n",
      "Width: 1.4 Height: 25.4 Area: 35.559999999999995 \n",
      "Width: 7.4 Height: 35.4 Area: 261.96 \n",
      "Width: 13.24 Height: 55.4 Area: 733.496 \n"
     ]
    }
   ],
   "source": [
    "ComparableRectangle[] rectangles = {\n",
    "      new ComparableRectangle(3.4, 5.4), \n",
    "      new ComparableRectangle(13.24, 55.4),\n",
    "      new ComparableRectangle(7.4, 35.4),\n",
    "      new ComparableRectangle(1.4, 25.4)};\n",
    "    \n",
    "java.util.Arrays.sort(rectangles);\n",
    "    \n",
    "for (Rectangle rectangle: rectangles) {\n",
    "      System.out.print(rectangle + \" \"); \n",
    "      System.out.println();\n",
    "    }"
   ]
  },
  {
   "cell_type": "markdown",
   "id": "4eaed06b",
   "metadata": {},
   "source": [
    "Convienent, I just need to tell it how to sort it!\n",
    "\n",
    "Clonable is another interface commonly used."
   ]
  },
  {
   "cell_type": "code",
   "execution_count": 45,
   "id": "8f46bd2b",
   "metadata": {},
   "outputs": [],
   "source": [
    "public class House implements Cloneable, Comparable<House> {\n",
    "  private int id;\n",
    "  private double area;\n",
    "  private java.util.Date whenBuilt;\n",
    "  \n",
    "  public House(int id, double area) {\n",
    "    this.id = id;\n",
    "    this.area = area;\n",
    "    whenBuilt = new java.util.Date();\n",
    "  }\n",
    "  \n",
    "  public int getId() {\n",
    "    return id;\n",
    "  }\n",
    "  \n",
    "  public double getArea() {\n",
    "    return area;\n",
    "  }\n",
    "\n",
    "  public java.util.Date getWhenBuilt() {\n",
    "    return whenBuilt;\n",
    "  }\n",
    "\n",
    "  @Override /** Override the protected clone method defined in \n",
    "    the Object class, and strengthen its accessibility */\n",
    "  public Object clone() {\n",
    "    // Perform a shallow copy\n",
    "    House houseClone = new House(id, area); \n",
    "    // Deep copy on whenBuilt\n",
    "    houseClone.whenBuilt = new java.util.Date();\n",
    "    houseClone.getWhenBuilt().setTime(whenBuilt.getTime()); \n",
    "    return houseClone;\n",
    "  }\n",
    "  \n",
    "  @Override // Implement the compareTo method defined in Comparable\n",
    "  public int compareTo(House o) {\n",
    "    if (area > o.area)\n",
    "      return 1;\n",
    "    else if (area < o.area)\n",
    "      return -1;\n",
    "    else\n",
    "      return 0;\n",
    "  }  \n",
    "}"
   ]
  },
  {
   "cell_type": "code",
   "execution_count": 46,
   "id": "c23b07c0",
   "metadata": {},
   "outputs": [],
   "source": [
    "public class Rational extends Number implements Comparable<Rational> {\n",
    "  // Data fields for numerator and denominator\n",
    "  private long numerator = 0;\n",
    "  private long denominator = 1;\n",
    "\n",
    "  /** Construct a rational with default properties */\n",
    "  public Rational() {\n",
    "    this(0, 1);\n",
    "  }\n",
    "\n",
    "  /** Construct a rational with specified numerator and denominator */\n",
    "  public Rational(long numerator, long denominator) {\n",
    "    long gcd = gcd(numerator, denominator);\n",
    "    this.numerator = ((denominator > 0) ? 1 : -1) * numerator / gcd;\n",
    "    this.denominator = Math.abs(denominator) / gcd;\n",
    "  }\n",
    "\n",
    "  /** Find GCD of two numbers */\n",
    "  private static long gcd(long n, long d) {\n",
    "    long n1 = Math.abs(n);\n",
    "    long n2 = Math.abs(d);\n",
    "    int gcd = 1;\n",
    "    \n",
    "    for (int k = 1; k <= n1 && k <= n2; k++) {\n",
    "      if (n1 % k == 0 && n2 % k == 0) \n",
    "        gcd = k;\n",
    "    }\n",
    "\n",
    "    return gcd;\n",
    "  }\n",
    "\n",
    "  /** Return numerator */\n",
    "  public long getNumerator() {\n",
    "    return numerator;\n",
    "  }\n",
    "\n",
    "  /** Return denominator */\n",
    "  public long getDenominator() {\n",
    "    return denominator;\n",
    "  }\n",
    "\n",
    "  /** Add a rational number to this rational */\n",
    "  public Rational add(Rational secondRational) {\n",
    "    long n = numerator * secondRational.getDenominator() +\n",
    "      denominator * secondRational.getNumerator();\n",
    "    long d = denominator * secondRational.getDenominator();\n",
    "    return new Rational(n, d);\n",
    "  }\n",
    "\n",
    "  /** Subtract a rational number from this rational */\n",
    "  public Rational subtract(Rational secondRational) {\n",
    "    long n = numerator * secondRational.getDenominator()\n",
    "      - denominator * secondRational.getNumerator();\n",
    "    long d = denominator * secondRational.getDenominator();\n",
    "    return new Rational(n, d);\n",
    "  }\n",
    "\n",
    "  /** Multiply a rational number to this rational */\n",
    "  public Rational multiply(Rational secondRational) {\n",
    "    long n = numerator * secondRational.getNumerator();\n",
    "    long d = denominator * secondRational.getDenominator();\n",
    "    return new Rational(n, d);\n",
    "  }\n",
    "\n",
    "  /** Divide a rational number from this rational */\n",
    "  public Rational divide(Rational secondRational) {\n",
    "    long n = numerator * secondRational.getDenominator();\n",
    "    long d = denominator * secondRational.numerator;\n",
    "    return new Rational(n, d);\n",
    "  }\n",
    "\n",
    "  @Override  \n",
    "  public String toString() {\n",
    "    if (denominator == 1)\n",
    "      return numerator + \"\";\n",
    "    else\n",
    "      return numerator + \"/\" + denominator;\n",
    "  }\n",
    "\n",
    "  @Override // Override the equals method in the Object class \n",
    "  public boolean equals(Object other) {\n",
    "    if ((this.subtract((Rational)(other))).getNumerator() == 0)\n",
    "      return true;\n",
    "    else\n",
    "      return false;\n",
    "  }\n",
    "\n",
    "  @Override // Implement the abstract intValue method in Number \n",
    "  public int intValue() {\n",
    "    return (int)doubleValue();\n",
    "  }\n",
    "\n",
    "  @Override // Implement the abstract floatValue method in Number \n",
    "  public float floatValue() {\n",
    "    return (float)doubleValue();\n",
    "  }\n",
    "\n",
    "  @Override // Implement the doubleValue method in Number \n",
    "  public double doubleValue() {\n",
    "    return numerator * 1.0 / denominator;\n",
    "  }\n",
    "\n",
    "  @Override // Implement the abstract longValue method in Number\n",
    "  public long longValue() {\n",
    "    return (long)doubleValue();\n",
    "  }\n",
    "\n",
    "  @Override // Implement the compareTo method in Comparable\n",
    "  public int compareTo(Rational o) {\n",
    "    if (this.subtract(o).getNumerator() > 0)\n",
    "      return 1;\n",
    "    else if (this.subtract(o).getNumerator() < 0)\n",
    "      return -1;\n",
    "    else\n",
    "      return 0;\n",
    "  }\n",
    "}"
   ]
  },
  {
   "cell_type": "code",
   "execution_count": 47,
   "id": "c65c7ad3",
   "metadata": {},
   "outputs": [
    {
     "name": "stdout",
     "output_type": "stream",
     "text": [
      "2 + 2/3 = 8/3\n",
      "2 - 2/3 = 4/3\n",
      "2 * 2/3 = 4/3\n",
      "2 / 2/3 = 3\n",
      "2/3 is 0.6666666666666666\n"
     ]
    }
   ],
   "source": [
    "Rational r1 = new Rational(4, 2);\n",
    "    Rational r2 = new Rational(2, 3);\n",
    "\n",
    "    // Display results\n",
    "    System.out.println(r1 + \" + \" + r2 + \" = \" + r1.add(r2));\n",
    "    System.out.println(r1 + \" - \" + r2 + \" = \" + r1.subtract(r2));\n",
    "    System.out.println(r1 + \" * \" + r2 + \" = \" + r1.multiply(r2));\n",
    "    System.out.println(r1 + \" / \" + r2 + \" = \" + r1.divide(r2));\n",
    "    System.out.println(r2 + \" is \" + r2.doubleValue());"
   ]
  },
  {
   "cell_type": "markdown",
   "id": "90bf8533",
   "metadata": {},
   "source": [
    "### Binary I/O - Liang Chap. 17"
   ]
  },
  {
   "cell_type": "markdown",
   "id": "5666a81e",
   "metadata": {},
   "source": [
    "What if I want to read or write data that is not text based?"
   ]
  },
  {
   "cell_type": "code",
   "execution_count": 2,
   "id": "ee350c6b",
   "metadata": {},
   "outputs": [
    {
     "name": "stdout",
     "output_type": "stream",
     "text": [
      "1 2 3 4 5 6 7 8 9 10 "
     ]
    }
   ],
   "source": [
    "import java.io.*;\n",
    "\n",
    "    try (\n",
    "      // Create an output stream to the file\n",
    "      FileOutputStream output = new FileOutputStream(\"temp.dat\");\n",
    "    ) {\n",
    "      // Output values to the file\n",
    "      for (int i = 1; i <= 10; i++)\n",
    "        output.write(i);\n",
    "    }\n",
    "\n",
    "    try (\n",
    "      // Create an input stream for the file\n",
    "      FileInputStream input = new FileInputStream(\"temp.dat\");\n",
    "    ) {\n",
    "      // Read values from the file\n",
    "      int value;\n",
    "      while ((value = input.read()) != -1)\n",
    "        System.out.print(value + \" \");\n",
    "    }"
   ]
  },
  {
   "cell_type": "markdown",
   "id": "289c229e",
   "metadata": {},
   "source": [
    "How does it look in the file?"
   ]
  },
  {
   "cell_type": "code",
   "execution_count": 3,
   "id": "616397c5",
   "metadata": {},
   "outputs": [
    {
     "name": "stdout",
     "output_type": "stream",
     "text": [
      "\u0000\u0004John@U`\u0000\u0000\u0000\u0000\u0000\u0000\u0003Jim@g0\u0000\u0000\u0000\u0000\u0000\u0000\u0006George@ZP\u0000\u0000\u0000\u0000\u0000"
     ]
    }
   ],
   "source": [
    "%cat temp.dat"
   ]
  },
  {
   "cell_type": "markdown",
   "id": "70fa27cf",
   "metadata": {},
   "source": [
    "Lets see another example"
   ]
  },
  {
   "cell_type": "code",
   "execution_count": 3,
   "id": "4593a9b4",
   "metadata": {},
   "outputs": [
    {
     "name": "stdout",
     "output_type": "stream",
     "text": [
      "John 85.5\n",
      "Jim 185.5\n",
      "George 105.25\n"
     ]
    }
   ],
   "source": [
    "try ( // Create an output stream for file temp.dat\n",
    "      DataOutputStream output =\n",
    "        new DataOutputStream(new FileOutputStream(\"temp.dat\"));\n",
    "    ) {\n",
    "      // Write student test scores to the file\n",
    "      output.writeUTF(\"John\");\n",
    "      output.writeDouble(85.5);\n",
    "      output.writeUTF(\"Jim\");\n",
    "      output.writeDouble(185.5);\n",
    "      output.writeUTF(\"George\");\n",
    "      output.writeDouble(105.25);\n",
    "    }\n",
    "    \n",
    "    try ( // Create an input stream for file temp.dat\n",
    "      DataInputStream input =\n",
    "        new DataInputStream(new FileInputStream(\"temp.dat\"));\n",
    "    ) {\n",
    "      // Read student test scores from the file\n",
    "      System.out.println(input.readUTF() + \" \" + input.readDouble());\n",
    "      System.out.println(input.readUTF() + \" \" + input.readDouble());\n",
    "      System.out.println(input.readUTF() + \" \" + input.readDouble());\n",
    "    }\n"
   ]
  },
  {
   "cell_type": "markdown",
   "id": "6459b038",
   "metadata": {},
   "source": [
    "Can we read and write anything?"
   ]
  },
  {
   "cell_type": "code",
   "execution_count": null,
   "id": "c8c9339f",
   "metadata": {},
   "outputs": [],
   "source": [
    "import java.io.*;\n",
    "\n",
    "public class Copy {\n",
    "  /** Main method\n",
    "     @param args[0] for sourcefile \n",
    "     @param args[1] for target file\n",
    "   */\n",
    "  public static void main(String[] args) throws IOException { \n",
    "    // Check command-line parameter usage\n",
    "    if (args.length != 2) { \n",
    "      System.out.println(\n",
    "        \"Usage: java Copy sourceFile targetfile\");\n",
    "      System.exit(1);\n",
    "    }\n",
    "\n",
    "    // Check if source file exists\n",
    "    File sourceFile = new File(args[0]);\n",
    "    if (!sourceFile.exists()) {\n",
    "       System.out.println(\"Source file \" + args[0] \n",
    "         + \" does not exist\");\n",
    "       System.exit(2);\n",
    "    }\n",
    "\n",
    "    // Check if target file exists\n",
    "    File targetFile = new File(args[1]);\n",
    "    if (targetFile.exists()) {\n",
    "      System.out.println(\"Target file \" + args[1] \n",
    "        + \" already exists\");\n",
    "      System.exit(3);\n",
    "    }\n",
    "\n",
    "    try (\n",
    "      // Create an input stream\n",
    "      BufferedInputStream input = \n",
    "        new BufferedInputStream(new FileInputStream(sourceFile));\n",
    "  \n",
    "      // Create an output stream\n",
    "      BufferedOutputStream output = \n",
    "        new BufferedOutputStream(new FileOutputStream(targetFile));\n",
    "    ) {\n",
    "      // Continuously read a byte from input and write it to output\n",
    "      int r, numberOfBytesCopied = 0;\n",
    "      while ((r = input.read()) != -1) {\n",
    "        output.write((byte)r);\n",
    "        numberOfBytesCopied++;\n",
    "      }\n",
    "\n",
    "      // Display the file size\n",
    "      System.out.println(numberOfBytesCopied + \" bytes copied\");\n",
    "    }\n",
    "  }\n",
    "}"
   ]
  },
  {
   "cell_type": "markdown",
   "id": "35ac5687",
   "metadata": {},
   "source": [
    "All different types."
   ]
  },
  {
   "cell_type": "code",
   "execution_count": 6,
   "id": "6035be39",
   "metadata": {},
   "outputs": [],
   "source": [
    "import java.io.*;\n",
    "\n",
    "try ( // Create an output stream for file object.dat\n",
    "      ObjectOutputStream output =\n",
    "        new ObjectOutputStream(new FileOutputStream(\"object.dat\"));\n",
    "    ) {\n",
    "      // Write a string, double value, and object to the file\n",
    "      output.writeUTF(\"John\");\n",
    "      output.writeDouble(85.5);\n",
    "      output.writeObject(new java.util.Date());\n",
    "    }"
   ]
  },
  {
   "cell_type": "code",
   "execution_count": 2,
   "id": "a6a066e3",
   "metadata": {},
   "outputs": [
    {
     "name": "stdout",
     "output_type": "stream",
     "text": [
      "��\u0000\u0005w\u000e\u0000\u0004John@U`\u0000\u0000\u0000\u0000\u0000sr\u0000\u000ejava.util.Datehj�\u0001KYt\u0019\u0003\u0000\u0000xpw\b\u0000\u0000\u0001�θ�ex"
     ]
    }
   ],
   "source": [
    "%cat object.dat"
   ]
  },
  {
   "cell_type": "code",
   "execution_count": 7,
   "id": "da969441",
   "metadata": {},
   "outputs": [
    {
     "name": "stdout",
     "output_type": "stream",
     "text": [
      "John 85.5 Fri Mar 10 22:30:49 EST 2023\n"
     ]
    }
   ],
   "source": [
    "try ( // Create an input stream for file object.dat\n",
    "      ObjectInputStream input =\n",
    "        new ObjectInputStream(new FileInputStream(\"object.dat\"));\n",
    "    ) {\n",
    "      // Read a string, double value, and object from the file\n",
    "      String name = input.readUTF();\n",
    "      double score = input.readDouble();\n",
    "      java.util.Date date = (java.util.Date)(input.readObject());\n",
    "      System.out.println(name + \" \" + score + \" \" + date);\n",
    "    }"
   ]
  },
  {
   "cell_type": "markdown",
   "id": "0ae41289",
   "metadata": {},
   "source": [
    "What about collections of objects like arrays?"
   ]
  },
  {
   "cell_type": "code",
   "execution_count": 1,
   "id": "d39a2e39",
   "metadata": {},
   "outputs": [
    {
     "name": "stdout",
     "output_type": "stream",
     "text": [
      "1 2 3 4 5 \n",
      "John Susan Kim "
     ]
    }
   ],
   "source": [
    "import java.io.*;\n",
    "\n",
    "int[] numbers = {1, 2, 3, 4, 5};\n",
    "    String[] strings = {\"John\", \"Susan\", \"Kim\"};\n",
    "\n",
    "    try ( // Create an output stream for file array.dat\n",
    "      ObjectOutputStream output = new ObjectOutputStream(new \n",
    "        FileOutputStream(\"array.dat\", true));\n",
    "    ) {\n",
    "      // Write arrays to the object output stream\n",
    "      output.writeObject(numbers);\n",
    "      output.writeObject(strings);\n",
    "    }\n",
    "\n",
    "    try ( // Create an input stream for file array.dat\n",
    "      ObjectInputStream input =\n",
    "        new ObjectInputStream(new FileInputStream(\"array.dat\"));\n",
    "    ) {\n",
    "      int[] newNumbers = (int[])(input.readObject());\n",
    "      String[] newStrings = (String[])(input.readObject());\n",
    "  \n",
    "      // Display arrays\n",
    "      for (int i = 0; i < newNumbers.length; i++)\n",
    "        System.out.print(newNumbers[i] + \" \");\n",
    "      System.out.println();\n",
    "  \n",
    "      for (int i = 0; i < newStrings.length; i++)\n",
    "        System.out.print(newStrings[i] + \" \");\n",
    "    }"
   ]
  },
  {
   "cell_type": "markdown",
   "id": "ef36245d",
   "metadata": {},
   "source": [
    "What if I dont want to read the whole file sequentially?"
   ]
  },
  {
   "cell_type": "code",
   "execution_count": 2,
   "id": "1c5391ec",
   "metadata": {},
   "outputs": [
    {
     "name": "stdout",
     "output_type": "stream",
     "text": [
      "Current file length is 800\n",
      "The first number is 0\n",
      "The second number is 1\n",
      "The tenth number is 9\n",
      "The new length is 804\n",
      "The eleventh number is 555\n"
     ]
    }
   ],
   "source": [
    "import java.io.*;\n",
    "\n",
    "try ( // Create a random access file\n",
    "      RandomAccessFile inout = new RandomAccessFile(\"inout.dat\", \"rw\");\n",
    "    ) {\n",
    "      // Clear the file to destroy the old contents if exists\n",
    "      inout.setLength(0);\n",
    "  \n",
    "      // Write new integers to the file\n",
    "      for (int i = 0; i < 200; i++)\n",
    "        inout.writeInt(i);\n",
    "  \n",
    "      // Display the current length of the file\n",
    "      System.out.println(\"Current file length is \" + inout.length());\n",
    "  \n",
    "      // Retrieve the first number\n",
    "      inout.seek(0); // Move the file pointer to the beginning\n",
    "      System.out.println(\"The first number is \" + inout.readInt());\n",
    "  \n",
    "      // Retrieve the second number\n",
    "      inout.seek(1 * 4); // Move the file pointer to the second number\n",
    "      System.out.println(\"The second number is \" + inout.readInt());\n",
    "  \n",
    "      // Retrieve the tenth number\n",
    "      inout.seek(9 * 4); // Move the file pointer to the tenth number\n",
    "      System.out.println(\"The tenth number is \" + inout.readInt());\n",
    "  \n",
    "      // Modify the eleventh number\n",
    "      inout.writeInt(555);\n",
    "  \n",
    "      // Append a new number\n",
    "      inout.seek(inout.length()); // Move the file pointer to the end\n",
    "      inout.writeInt(999);\n",
    "  \n",
    "      // Display the new length\n",
    "      System.out.println(\"The new length is \" + inout.length());\n",
    "  \n",
    "      // Retrieve the new eleventh number\n",
    "      inout.seek(10 * 4); // Move the file pointer to the eleventh number\n",
    "      System.out.println(\"The eleventh number is \" + inout.readInt());\n",
    "    }\n"
   ]
  }
 ],
 "metadata": {
  "kernelspec": {
   "display_name": "Java",
   "language": "java",
   "name": "java"
  },
  "language_info": {
   "codemirror_mode": "java",
   "file_extension": ".jshell",
   "mimetype": "text/x-java-source",
   "name": "Java",
   "pygments_lexer": "java",
   "version": "19.0.2+7-Ubuntu-0ubuntu322.04"
  }
 },
 "nbformat": 4,
 "nbformat_minor": 5
}

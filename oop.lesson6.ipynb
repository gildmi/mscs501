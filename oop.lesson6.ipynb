{
 "cells": [
  {
   "cell_type": "markdown",
   "id": "69082860",
   "metadata": {},
   "source": [
    "# MSCS501 OOP - Lesson 6"
   ]
  },
  {
   "cell_type": "markdown",
   "id": "0ecb0827",
   "metadata": {},
   "source": [
    "## Chap 7"
   ]
  },
  {
   "cell_type": "code",
   "execution_count": 2,
   "id": "288a0e76",
   "metadata": {},
   "outputs": [],
   "source": [
    "public static void printMax(double... numbers) {\n",
    "    if (numbers.length == 0) {\n",
    "      System.out.println(\"No argument passed\");\n",
    "      return;\n",
    "    }\n",
    "\n",
    "    double result = numbers[0];\n",
    "\n",
    "    for (int i = 1; i < numbers.length; i++)\n",
    "      if (numbers[i] > result)\n",
    "        result = numbers[i];\n",
    "\n",
    "    System.out.println(\"The max value is \" + result);\n",
    "  }"
   ]
  },
  {
   "cell_type": "code",
   "execution_count": 3,
   "id": "3ebf203f",
   "metadata": {},
   "outputs": [
    {
     "name": "stdout",
     "output_type": "stream",
     "text": [
      "The max value is 56.5\n",
      "The max value is 3.0\n"
     ]
    }
   ],
   "source": [
    "printMax(34, 3, 3, 2, 56.5);\n",
    "printMax(new double[]{1, 2, 3});"
   ]
  },
  {
   "cell_type": "code",
   "execution_count": 1,
   "id": "7285bcd8",
   "metadata": {},
   "outputs": [
    {
     "name": "stdout",
     "output_type": "stream",
     "text": [
      "Enter the number of items: 12\n",
      "Enter the numbers: 10\n",
      "52\n",
      "1\n",
      "3\n",
      "79\n",
      "15\n",
      "100\n",
      "5\n",
      "6\n",
      "56\n",
      "81\n",
      "19\n",
      "Average is 35.583333333333336\n",
      "Number of elements above the average is 5\n"
     ]
    }
   ],
   "source": [
    "java.util.Scanner input = new java.util.Scanner(System.in);\n",
    "System.out.print(\"Enter the number of items: \");\n",
    "int n = input.nextInt();\n",
    "double[] numbers = new double[n];\n",
    "double sum = 0;\n",
    "\n",
    "System.out.print(\"Enter the numbers: \");\n",
    "for (int i = 0; i < n; i++) {\n",
    "  numbers[i] = input.nextDouble();\n",
    "  sum += numbers[i];\n",
    "}\n",
    "    \n",
    "double average = sum / n;\n",
    "\n",
    "int count = 0; // The numbers of elements above average\n",
    "for (int i = 0; i < n; i++) \n",
    "  if (numbers[i] > average)\n",
    "    count++;\n",
    "\n",
    "System.out.println(\"Average is \" + average);\n",
    "System.out.println(\"Number of elements above the average is \" + count);"
   ]
  },
  {
   "cell_type": "code",
   "execution_count": 1,
   "id": "111e5553",
   "metadata": {},
   "outputs": [
    {
     "name": "stdout",
     "output_type": "stream",
     "text": [
      "Writing Calculator.java\n"
     ]
    }
   ],
   "source": [
    "%%writefile Calculator.java\n",
    "//writefile only works with python kernel\n",
    "public class Calculator {\n",
    "  /** Main method */\n",
    "  public static void main(String[] args) {\n",
    "    // Check number of strings passed\n",
    "    if (args.length != 3) {\n",
    "      System.out.println(\n",
    "        \"Usage: java Calculator operand1 operator operand2\");\n",
    "      System.exit(0);\n",
    "    }\n",
    "\n",
    "    // The result of the operation\n",
    "    int result = 0;\n",
    "\n",
    "    // Determine the operator\n",
    "    switch (args[1].charAt(0)) { \n",
    "      case '+': result = Integer.parseInt(args[0]) + \n",
    "                         Integer.parseInt(args[2]);\n",
    "                break;\n",
    "      case '-': result = Integer.parseInt(args[0]) -\n",
    "                         Integer.parseInt(args[2]);\n",
    "                break;\n",
    "      case '.': result = Integer.parseInt(args[0]) *\n",
    "                         Integer.parseInt(args[2]);\n",
    "                break;\n",
    "      case '/': result = Integer.parseInt(args[0]) /\n",
    "                         Integer.parseInt(args[2]);\n",
    "    }\n",
    "\n",
    "    // Display result\n",
    "    System.out.println(args[0] + ' ' + args[1] + ' ' + args[2]\n",
    "      + \" = \" + result);\n",
    "  }\n",
    "}"
   ]
  },
  {
   "cell_type": "code",
   "execution_count": 2,
   "id": "550b378c",
   "metadata": {},
   "outputs": [
    {
     "name": "stdout",
     "output_type": "stream",
     "text": [
      "1 + 2 = 3\r\n"
     ]
    }
   ],
   "source": [
    "!java Calculator.java 1 + 2"
   ]
  },
  {
   "cell_type": "markdown",
   "id": "ad2abe31",
   "metadata": {},
   "source": [
    "## Chap 8"
   ]
  },
  {
   "cell_type": "code",
   "execution_count": 8,
   "id": "f498c078",
   "metadata": {},
   "outputs": [],
   "source": [
    "public static int sum(int[][] m) {\n",
    "    int total = 0;\n",
    "    for (int row = 0; row < m.length; row++) {\n",
    "      for (int column = 0; column < m[row].length; column++) {\n",
    "        total += m[row][column];\n",
    "      }\n",
    "    }\n",
    "    return total;\n",
    "    }"
   ]
  },
  {
   "cell_type": "code",
   "execution_count": 10,
   "id": "7c47941b",
   "metadata": {},
   "outputs": [
    {
     "name": "stdout",
     "output_type": "stream",
     "text": [
      "Enter 3 rows and 4 columns: \n",
      "2\n",
      "4\n",
      "5\n",
      "6\n",
      "2\n",
      "12\n",
      "30\n",
      "1\n",
      "42\n",
      "7\n",
      "49\n",
      "6\n",
      "\n",
      "Sum of all elements is 166\n"
     ]
    }
   ],
   "source": [
    "// Create a Scanner\n",
    "    Scanner input = new Scanner(System.in);\n",
    "    \n",
    "    // Enter array values\n",
    "    int[][] m = new int[3][4];\n",
    "    System.out.println(\"Enter \" + m.length + \" rows and \"\n",
    "      + m[0].length + \" columns: \");\n",
    "    for (int i = 0; i < m.length; i++)\n",
    "      for (int j = 0; j < m[i].length; j++)\n",
    "        m[i][j] = input.nextInt();\n",
    "\n",
    "    // Display result\n",
    "    System.out.println(\"\\nSum of all elements is \" + sum(m));"
   ]
  },
  {
   "cell_type": "code",
   "execution_count": 3,
   "id": "0175a189",
   "metadata": {},
   "outputs": [
    {
     "name": "stdout",
     "output_type": "stream",
     "text": [
      "Student 0's correct count is 7\n",
      "Student 1's correct count is 6\n",
      "Student 2's correct count is 5\n",
      "Student 3's correct count is 4\n",
      "Student 4's correct count is 8\n",
      "Student 5's correct count is 7\n",
      "Student 6's correct count is 7\n",
      "Student 7's correct count is 7\n"
     ]
    }
   ],
   "source": [
    "    // Students' answers to the questions\n",
    "    char[][] answers = {\n",
    "      {'A', 'B', 'A', 'C', 'C', 'D', 'E', 'E', 'A', 'D'},\n",
    "      {'D', 'B', 'A', 'B', 'C', 'A', 'E', 'E', 'A', 'D'},\n",
    "      {'E', 'D', 'D', 'A', 'C', 'B', 'E', 'E', 'A', 'D'},\n",
    "      {'C', 'B', 'A', 'E', 'D', 'C', 'E', 'E', 'A', 'D'},\n",
    "      {'A', 'B', 'D', 'C', 'C', 'D', 'E', 'E', 'A', 'D'},\n",
    "      {'B', 'B', 'E', 'C', 'C', 'D', 'E', 'E', 'A', 'D'},\n",
    "      {'B', 'B', 'A', 'C', 'C', 'D', 'E', 'E', 'A', 'D'},\n",
    "      {'E', 'B', 'E', 'C', 'C', 'D', 'E', 'E', 'A', 'D'}};\n",
    "\n",
    "    // Key to the questions\n",
    "    char[] keys = {'D', 'B', 'D', 'C', 'C', 'D', 'A', 'E', 'A', 'D'};\n",
    "\n",
    "    // Grade all answers\n",
    "    for (int i = 0; i < answers.length; i++) {\n",
    "      // Grade one student\n",
    "      int correctCount = 0;\n",
    "      for (int j = 0; j < answers[i].length; j++) {\n",
    "        if (answers[i][j] == keys[j])\n",
    "          correctCount++;\n",
    "      }\n",
    "\n",
    "      System.out.println(\"Student \" + i + \"'s correct count is \" +\n",
    "        correctCount);\n",
    "    }"
   ]
  },
  {
   "cell_type": "markdown",
   "id": "7cde19a6",
   "metadata": {},
   "source": [
    "## Chap 12"
   ]
  },
  {
   "cell_type": "markdown",
   "id": "4a100230",
   "metadata": {},
   "source": [
    "Let's divide!"
   ]
  },
  {
   "cell_type": "code",
   "execution_count": 11,
   "id": "cc16492d",
   "metadata": {},
   "outputs": [
    {
     "name": "stdout",
     "output_type": "stream",
     "text": [
      "Enter two integers: 20\n",
      "16\n",
      "20 / 16 is 1\n"
     ]
    }
   ],
   "source": [
    "Scanner input = new Scanner(System.in);\n",
    "    \n",
    "// Prompt the user to enter two integers\n",
    "System.out.print(\"Enter two integers: \");\n",
    "int number1 = input.nextInt();\n",
    "int number2 = input.nextInt();\n",
    "    \n",
    "System.out.println(number1 + \" / \" + number2 + \" is \" + (number1 / number2));"
   ]
  },
  {
   "cell_type": "markdown",
   "id": "223e9c96",
   "metadata": {},
   "source": [
    "unless the divisor is zero..."
   ]
  },
  {
   "cell_type": "code",
   "execution_count": 12,
   "id": "1541c4a8",
   "metadata": {},
   "outputs": [
    {
     "name": "stdout",
     "output_type": "stream",
     "text": [
      "Enter two integers: 12\n",
      "0\n"
     ]
    },
    {
     "ename": "EvalException",
     "evalue": "/ by zero",
     "output_type": "error",
     "traceback": [
      "\u001b[1m\u001b[31m---------------------------------------------------------------------------\u001b[0m",
      "\u001b[1m\u001b[31mjava.lang.ArithmeticException: / by zero\u001b[0m",
      "\u001b[1m\u001b[31m\tat .(#49:1)\u001b[0m"
     ]
    }
   ],
   "source": [
    "Scanner input = new Scanner(System.in);\n",
    "    \n",
    "// Prompt the user to enter two integers\n",
    "System.out.print(\"Enter two integers: \");\n",
    "int number1 = input.nextInt();\n",
    "int number2 = input.nextInt();\n",
    "    \n",
    "System.out.println(number1 + \" / \" + number2 + \" is \" + (number1 / number2));"
   ]
  },
  {
   "cell_type": "markdown",
   "id": "1b5095e8",
   "metadata": {},
   "source": [
    "So I guess it doesnt for for every number...\n",
    "Can we fail gracefully?"
   ]
  },
  {
   "cell_type": "code",
   "execution_count": 13,
   "id": "4737a61b",
   "metadata": {},
   "outputs": [
    {
     "name": "stdout",
     "output_type": "stream",
     "text": [
      "Enter two integers: 25\n",
      "0\n",
      "Divisor cannot be zero \n"
     ]
    }
   ],
   "source": [
    "Scanner input = new Scanner(System.in);\n",
    "    \n",
    "// Prompt the user to enter two integers\n",
    "System.out.print(\"Enter two integers: \");\n",
    "int number1 = input.nextInt();\n",
    "int number2 = input.nextInt();\n",
    "    \n",
    "if (number2 != 0)\n",
    "  System.out.println(number1 + \" / \" + number2 + \" is \" + (number1 / number2));\n",
    "else\n",
    "  System.out.println(\"Divisor cannot be zero \");"
   ]
  },
  {
   "cell_type": "markdown",
   "id": "aed531bf",
   "metadata": {},
   "source": [
    "Ahh yes, lets make sure the number is not zero in a reusable way..."
   ]
  },
  {
   "cell_type": "code",
   "execution_count": 14,
   "id": "15ea4df5",
   "metadata": {},
   "outputs": [],
   "source": [
    "static int quotient(int number1, int number2) {\n",
    "  if (number2 == 0) {\n",
    "      System.out.println(\"Divisor cannot be zero\");\n",
    "      System.exit(1);\n",
    "  }\n",
    "\n",
    "    return number1 / number2;\n",
    "}"
   ]
  },
  {
   "cell_type": "code",
   "execution_count": null,
   "id": "a7f1d7b0",
   "metadata": {},
   "outputs": [
    {
     "name": "stdout",
     "output_type": "stream",
     "text": [
      "Enter two integers: 20\n",
      "0\n",
      "Divisor cannot be zero\n"
     ]
    }
   ],
   "source": [
    "    Scanner input = new Scanner(System.in);\n",
    "    \n",
    "    // Prompt the user to enter two integers\n",
    "    System.out.print(\"Enter two integers: \");\n",
    "    int number1 = input.nextInt();\n",
    "    int number2 = input.nextInt();\n",
    "    \n",
    "    int result = quotient(number1, number2);\n",
    "    System.out.println(number1 + \" / \" + number2 + \" is \" + result);"
   ]
  },
  {
   "cell_type": "markdown",
   "id": "4b60ecc4",
   "metadata": {},
   "source": [
    "Is there a better way?"
   ]
  },
  {
   "cell_type": "code",
   "execution_count": 3,
   "id": "b6bcc991",
   "metadata": {},
   "outputs": [],
   "source": [
    "public static int quotient(int number1, int number2) {\n",
    "    if (number2 == 0)\n",
    "      throw new ArithmeticException(\"Divisor cannot be zero\");\n",
    "\n",
    "    return number1 / number2;\n",
    "  }"
   ]
  },
  {
   "cell_type": "code",
   "execution_count": 4,
   "id": "1b42615f",
   "metadata": {},
   "outputs": [
    {
     "name": "stdout",
     "output_type": "stream",
     "text": [
      "Enter two integers: 20\n",
      "0\n",
      "Exception: an integer cannot be divided by zero \n",
      "Execution continues ...\n"
     ]
    }
   ],
   "source": [
    "Scanner input = new Scanner(System.in);\n",
    "    \n",
    "    // Prompt the user to enter two integers\n",
    "    System.out.print(\"Enter two integers: \");\n",
    "    int number1 = input.nextInt();\n",
    "    int number2 = input.nextInt();\n",
    "    \n",
    "    try {\n",
    "      int result = quotient(number1, number2);\n",
    "      System.out.println(number1 + \" / \" + number2 + \" is \" \n",
    "        + result);\n",
    "    }\n",
    "    catch (ArithmeticException ex) {\n",
    "      System.out.println(\"Exception: an integer \" + \n",
    "        \"cannot be divided by zero \");\n",
    "    }\n",
    "\n",
    "    System.out.println(\"Execution continues ...\");"
   ]
  },
  {
   "cell_type": "markdown",
   "id": "7e62590e",
   "metadata": {},
   "source": [
    "Yes, let someone else handle it!!! The caller knows the context and can make a better decision on what to do."
   ]
  },
  {
   "cell_type": "code",
   "execution_count": 7,
   "id": "213a79c9",
   "metadata": {},
   "outputs": [],
   "source": [
    "void test() {\n",
    "Scanner input = new Scanner(System.in);\n",
    "boolean continueInput = true;\n",
    "\n",
    "do {\n",
    "   try {\n",
    "     System.out.print(\"Enter an integer: \");\n",
    "     int number = input.nextInt();\n",
    " \n",
    "     // Display the result\n",
    "      System.out.println(\"The number entered is \" + number);\n",
    "        \n",
    "        continueInput = false;\n",
    "    } \n",
    "    catch (InputMismatchException ex) {\n",
    "        System.out.println(\"Try again. (\" + \"Incorrect input: an integer is required)\");\n",
    "        input.nextLine(); // discard input \n",
    "    }\n",
    "} while (continueInput);\n",
    "}"
   ]
  },
  {
   "cell_type": "code",
   "execution_count": 8,
   "id": "1d61f185",
   "metadata": {},
   "outputs": [
    {
     "name": "stdout",
     "output_type": "stream",
     "text": [
      "Enter an integer: 50\n",
      "The number entered is 50\n"
     ]
    }
   ],
   "source": [
    "test()"
   ]
  },
  {
   "cell_type": "code",
   "execution_count": 9,
   "id": "43defc87",
   "metadata": {},
   "outputs": [
    {
     "name": "stdout",
     "output_type": "stream",
     "text": [
      "Enter an integer: mike\n",
      "Try again. (Incorrect input: an integer is required)\n",
      "Enter an integer: 2.1\n",
      "Try again. (Incorrect input: an integer is required)\n",
      "Enter an integer: 50\n",
      "The number entered is 50\n"
     ]
    }
   ],
   "source": [
    "test()"
   ]
  },
  {
   "cell_type": "code",
   "execution_count": 10,
   "id": "114ef2c4",
   "metadata": {},
   "outputs": [],
   "source": [
    "public class CircleWithException {\n",
    "  /** The radius of the circle */\n",
    "  private double radius;\n",
    "\n",
    "  /** The number of the objects created */\n",
    "  private static int numberOfObjects = 0;\n",
    "\n",
    "  /** Construct a circle with radius 1 */\n",
    "  public CircleWithException() {\n",
    "    this(1.0);\n",
    "  }\n",
    "\n",
    "  /** Construct a circle with a specified radius */\n",
    "  public CircleWithException(double newRadius) {\n",
    "    setRadius(newRadius);\n",
    "    numberOfObjects++;\n",
    "  }\n",
    "\n",
    "  /** Return radius */\n",
    "  public double getRadius() {\n",
    "    return radius;\n",
    "  }\n",
    "\n",
    "  /** Set a new radius */\n",
    "  public void setRadius(double newRadius)\n",
    "      throws IllegalArgumentException {\n",
    "    if (newRadius >= 0)\n",
    "      radius =  newRadius;\n",
    "    else\n",
    "      throw new IllegalArgumentException(\n",
    "        \"Radius cannot be negative\");\n",
    "  }\n",
    "\n",
    "  /** Return numberOfObjects */\n",
    "  public static int getNumberOfObjects() {\n",
    "    return numberOfObjects;\n",
    "  }\n",
    "\n",
    "  /** Return the area of this circle */\n",
    "  public double findArea() {\n",
    "    return radius * radius * 3.14159;\n",
    "  }\n",
    "}\n"
   ]
  },
  {
   "cell_type": "code",
   "execution_count": 11,
   "id": "96ca22a5",
   "metadata": {},
   "outputs": [
    {
     "name": "stdout",
     "output_type": "stream",
     "text": [
      "java.lang.IllegalArgumentException: Radius cannot be negative\n",
      "Number of objects created: 1\n"
     ]
    }
   ],
   "source": [
    "try {\n",
    "      CircleWithException c1 = new CircleWithException(5);\n",
    "      CircleWithException c2 = new CircleWithException(-5);\n",
    "      CircleWithException c3 = new CircleWithException(0);\n",
    "    }\n",
    "    catch (IllegalArgumentException ex) {\n",
    "      System.out.println(ex);\n",
    "    }\n",
    "\n",
    "    System.out.println(\"Number of objects created: \" +\n",
    "      CircleWithException.getNumberOfObjects());"
   ]
  },
  {
   "cell_type": "markdown",
   "id": "9ab3073a",
   "metadata": {},
   "source": [
    "Can I make my own exception...yup!!"
   ]
  },
  {
   "cell_type": "code",
   "execution_count": 12,
   "id": "e373358d",
   "metadata": {},
   "outputs": [],
   "source": [
    "public class InvalidRadiusException extends Exception {\n",
    "  private double radius;\n",
    "\n",
    "  /** Construct an exception */\n",
    "  public InvalidRadiusException(double radius) {\n",
    "    super(\"Invalid radius \" + radius);\n",
    "    this.radius = radius;\n",
    "  }\n",
    "\n",
    "  /** Return the radius */\n",
    "  public double getRadius() {\n",
    "    return radius;\n",
    "  }\n",
    "}"
   ]
  },
  {
   "cell_type": "code",
   "execution_count": 13,
   "id": "1c9840d9",
   "metadata": {},
   "outputs": [],
   "source": [
    "class CircleWithCustomException {\n",
    "  /** The radius of the circle */\n",
    "  private double radius;\n",
    "\n",
    "  /** The number of the objects created */\n",
    "  private static int numberOfObjects = 0;  \n",
    "\n",
    "  /** Construct a circle with radius 1 */\n",
    "  public CircleWithCustomException() throws InvalidRadiusException {\n",
    "    this(1.0);\n",
    "  }\n",
    "\n",
    "  /** Construct a circle with a specified radius */\n",
    "  public CircleWithCustomException(double newRadius) \n",
    "      throws InvalidRadiusException {\n",
    "    setRadius(newRadius);\n",
    "    numberOfObjects++;\n",
    "  }\n",
    "\n",
    "  /** Return radius */\n",
    "  public double getRadius() {\n",
    "    return radius;\n",
    "  }\n",
    "\n",
    "  /** Set a new radius */\n",
    "  public void setRadius(double newRadius) \n",
    "      throws InvalidRadiusException {\n",
    "    if (newRadius >= 0)\n",
    "      radius =  newRadius;\n",
    "    else\n",
    "      throw new InvalidRadiusException(newRadius);\n",
    "  }\n",
    "\n",
    "  /** Return numberOfObjects */\n",
    "  public static int getNumberOfObjects() {\n",
    "    return numberOfObjects;\n",
    "  }\n",
    "\n",
    "  /** Return the area of this circle */\n",
    "  public double findArea() {\n",
    "    return radius * radius * 3.14159;\n",
    "  }\n",
    "}\n"
   ]
  },
  {
   "cell_type": "code",
   "execution_count": 15,
   "id": "dd8f9985",
   "metadata": {},
   "outputs": [
    {
     "name": "stdout",
     "output_type": "stream",
     "text": [
      "REPL.$JShell$28$InvalidRadiusException: Invalid radius -5.0\n",
      "Number of objects created: 1\n"
     ]
    }
   ],
   "source": [
    "try {\n",
    "      new CircleWithCustomException(5);\n",
    "      new CircleWithCustomException(-5);\n",
    "      new CircleWithCustomException(0);\n",
    "    }\n",
    "    catch (InvalidRadiusException ex) {\n",
    "      System.out.println(ex);\n",
    "    }\n",
    "    \n",
    "    System.out.println(\"Number of objects created: \" + CircleWithException.getNumberOfObjects());"
   ]
  },
  {
   "cell_type": "markdown",
   "id": "671fb46a",
   "metadata": {},
   "source": [
    "Text I/O Time!"
   ]
  },
  {
   "cell_type": "code",
   "execution_count": null,
   "id": "cdf9051f",
   "metadata": {},
   "outputs": [
    {
     "name": "stdout",
     "output_type": "stream",
     "text": [
      "File already exists\n"
     ]
    }
   ],
   "source": [
    "java.io.File file = new java.io.File(\"scores.txt\");\n",
    "    if (file.exists()) {\n",
    "      System.out.println(\"File already exists\");\n",
    "      System.exit(0);\n",
    "    }\n",
    "\n",
    "    // Create a file\n",
    "    java.io.PrintWriter output = new java.io.PrintWriter(file);\n",
    "\n",
    "    // Write formatted output to the file\n",
    "    output.print(\"John T Smith \");\n",
    "    output.println(90);\n",
    "    output.print(\"Eric K Jones \");\n",
    "    output.println(85);\n",
    "\n",
    "    // Close the file\n",
    "    output.close();"
   ]
  },
  {
   "cell_type": "code",
   "execution_count": null,
   "id": "d8105e03",
   "metadata": {},
   "outputs": [
    {
     "name": "stdout",
     "output_type": "stream",
     "text": [
      "File already exists\n"
     ]
    }
   ],
   "source": [
    "java.io.File file = new java.io.File(\"scores.txt\");\n",
    "    if (file.exists()) {\n",
    "      System.out.println(\"File already exists\");\n",
    "      System.exit(0);\n",
    "    }\n",
    "\n",
    "    try (\n",
    "      // Create a file\n",
    "      java.io.PrintWriter output = new java.io.PrintWriter(file);\n",
    "    ) {\n",
    "      // Write formatted output to the file\n",
    "      output.print(\"John T Smith \");\n",
    "      output.println(90);\n",
    "      output.print(\"Eric K Jones \");\n",
    "      output.println(85);\n",
    "    }"
   ]
  },
  {
   "cell_type": "code",
   "execution_count": 1,
   "id": "c6358a28",
   "metadata": {},
   "outputs": [
    {
     "name": "stdout",
     "output_type": "stream",
     "text": [
      "John T Smith 90\n",
      "Eric K Jones 85\n"
     ]
    }
   ],
   "source": [
    "    // Create a File instance\n",
    "    java.io.File file = new java.io.File(\"scores.txt\");\n",
    "\n",
    "    // Create a Scanner for the file\n",
    "    Scanner input = new Scanner(file);\n",
    "\n",
    "    // Read data from a file\n",
    "    while (input.hasNext()) {\n",
    "      String firstName = input.next();\n",
    "      String mi = input.next();\n",
    "      String lastName = input.next();\n",
    "      int score = input.nextInt();\n",
    "      System.out.println(\n",
    "        firstName + \" \" + mi + \" \" + lastName + \" \" + score);\n",
    "    }\n",
    "\n",
    "    // Close the file\n",
    "    input.close();"
   ]
  },
  {
   "cell_type": "code",
   "execution_count": 1,
   "id": "3b69ad7d",
   "metadata": {},
   "outputs": [
    {
     "name": "stdout",
     "output_type": "stream",
     "text": [
      "Writing mike.txt\n"
     ]
    }
   ],
   "source": [
    "%%writefile mike.txt\n",
    "Mike was here!\n",
    "Yes, Mike was!"
   ]
  },
  {
   "cell_type": "code",
   "execution_count": 2,
   "id": "ef93fd7d",
   "metadata": {},
   "outputs": [
    {
     "name": "stdout",
     "output_type": "stream",
     "text": [
      "Writing replaceText.java\n"
     ]
    }
   ],
   "source": [
    "%%writefile replaceText.java\n",
    "\n",
    "import java.io.*;\n",
    "import java.util.*;\n",
    "\n",
    "public class ReplaceText {\n",
    "  public static void main(String[] args) throws Exception {\n",
    "    // Check command line parameter usage\n",
    "    if (args.length != 4) {\n",
    "      System.out.println(\n",
    "        \"Usage: java ReplaceText sourceFile targetFile oldStr newStr\");\n",
    "      System.exit(1);\n",
    "    }\n",
    "\n",
    "    // Check if source file exists\n",
    "    File sourceFile = new File(args[0]);\n",
    "    if (!sourceFile.exists()) {\n",
    "      System.out.println(\"Source file \" + args[0] + \" does not exist\");\n",
    "      System.exit(2);\n",
    "    }\n",
    "\n",
    "    // Check if target file exists\n",
    "    File targetFile = new File(args[1]);\n",
    "    if (targetFile.exists()) {\n",
    "      System.out.println(\"Target file \" + args[1] + \" already exists\");\n",
    "      System.exit(3);\n",
    "    }\n",
    "\n",
    "    try (\n",
    "      // Create input and output files\n",
    "      Scanner input = new Scanner(sourceFile);\n",
    "      PrintWriter output = new PrintWriter(targetFile);\n",
    "    ) {        \n",
    "      while (input.hasNext()) {\n",
    "        String s1 = input.nextLine();\n",
    "        String s2 = s1.replaceAll(args[2], args[3]);\n",
    "        output.println(s2);\n",
    "      }\n",
    "    }\n",
    "  }\n",
    "}\n"
   ]
  },
  {
   "cell_type": "code",
   "execution_count": 4,
   "id": "af1bd9c3",
   "metadata": {},
   "outputs": [],
   "source": [
    "!java ReplaceText.java mike.txt amanda.txt Mike Amanda "
   ]
  },
  {
   "cell_type": "code",
   "execution_count": 8,
   "id": "ce906f1d",
   "metadata": {},
   "outputs": [
    {
     "name": "stdout",
     "output_type": "stream",
     "text": [
      "Amanda was here!\r\n",
      "Yes, Amanda was!\r\n"
     ]
    }
   ],
   "source": [
    "!cat amanda.txt"
   ]
  },
  {
   "cell_type": "code",
   "execution_count": null,
   "id": "2f92f067",
   "metadata": {},
   "outputs": [],
   "source": []
  }
 ],
 "metadata": {
  "kernelspec": {
   "display_name": "Python 3 (ipykernel)",
   "language": "python",
   "name": "python3"
  },
  "language_info": {
   "codemirror_mode": {
    "name": "ipython",
    "version": 3
   },
   "file_extension": ".py",
   "mimetype": "text/x-python",
   "name": "python",
   "nbconvert_exporter": "python",
   "pygments_lexer": "ipython3",
   "version": "3.10.6"
  }
 },
 "nbformat": 4,
 "nbformat_minor": 5
}

{
 "cells": [
  {
   "cell_type": "markdown",
   "id": "800af384",
   "metadata": {},
   "source": [
    "# Object Oriented Programming (MSCS501)\n",
    "## Lesson 13\n",
    "### Sorting (Chap. 23)"
   ]
  },
  {
   "cell_type": "code",
   "execution_count": 82,
   "id": "b8cf33fc",
   "metadata": {},
   "outputs": [],
   "source": [
    "// Specify an array size\n",
    "int arraySize = 9999;"
   ]
  },
  {
   "cell_type": "code",
   "execution_count": 87,
   "id": "0c49dc2c",
   "metadata": {},
   "outputs": [],
   "source": [
    "// Helper method to print first and last 10 elements of int array\n",
    "void printIntFirstAndLast10Elements(int[] intArray) {\n",
    "    for (int i=0; i< 10; i++) {\n",
    "        System.out.println(i+\": \"+intArray[i]);\n",
    "    }\n",
    "    System.out.println(\"...\");\n",
    "    for (int i=(intArray.length-10); i<intArray.length; i++) {\n",
    "        System.out.println(i+\": \"+intArray[i]);\n",
    "    }\n",
    "}"
   ]
  },
  {
   "cell_type": "code",
   "execution_count": 88,
   "id": "2832cb5c",
   "metadata": {},
   "outputs": [],
   "source": [
    "// Method to return an array with random int values\n",
    "import java.util.Random;\n",
    "\n",
    "\n",
    "int[] generateRandomIntArray(int arraySize) {\n",
    "    Random rand = new Random();\n",
    "    int[] intArray = new int[arraySize];\n",
    "\n",
    "    for (int i=0; i < arraySize; i++) {\n",
    "        intArray[i] = rand.nextInt(Integer.MAX_VALUE);\n",
    "    }\n",
    "    \n",
    "    return intArray;\n",
    "}"
   ]
  },
  {
   "cell_type": "markdown",
   "id": "de456c54",
   "metadata": {},
   "source": [
    "Generate a random int array and print some of the elements"
   ]
  },
  {
   "cell_type": "code",
   "execution_count": 90,
   "id": "aa84a48a",
   "metadata": {},
   "outputs": [
    {
     "name": "stdout",
     "output_type": "stream",
     "text": [
      "0: 1565621779\n",
      "1: 350465283\n",
      "2: 1763445152\n",
      "3: 1136708896\n",
      "4: 1602528095\n",
      "5: 580729886\n",
      "6: 1875268750\n",
      "7: 2020787787\n",
      "8: 282640786\n",
      "9: 1195920226\n",
      "...\n",
      "9989: 1686367163\n",
      "9990: 626599053\n",
      "9991: 1832419180\n",
      "9992: 733763988\n",
      "9993: 1916442469\n",
      "9994: 1318438382\n",
      "9995: 375628048\n",
      "9996: 960370117\n",
      "9997: 532167432\n",
      "9998: 1005469617\n"
     ]
    }
   ],
   "source": [
    "int[] intArray = generateRandomIntArray(arraySize);\n",
    "printIntFirstAndLast10Elements(intArray);"
   ]
  },
  {
   "cell_type": "code",
   "execution_count": 91,
   "id": "82a254ed",
   "metadata": {},
   "outputs": [],
   "source": [
    "// Sort the array using Java utilities for primitive arrays\n",
    "import java.util.Arrays;\n",
    "\n",
    "Arrays.sort(intArray);"
   ]
  },
  {
   "cell_type": "code",
   "execution_count": 92,
   "id": "abda6b1f",
   "metadata": {},
   "outputs": [
    {
     "name": "stdout",
     "output_type": "stream",
     "text": [
      "0: 26220\n",
      "1: 265149\n",
      "2: 282933\n",
      "3: 341470\n",
      "4: 641869\n",
      "5: 932211\n",
      "6: 963401\n",
      "7: 1095022\n",
      "8: 1495697\n",
      "9: 1865928\n",
      "...\n",
      "9989: 2145365639\n",
      "9990: 2145523238\n",
      "9991: 2145646430\n",
      "9992: 2145663587\n",
      "9993: 2145749915\n",
      "9994: 2145781005\n",
      "9995: 2146223493\n",
      "9996: 2146279230\n",
      "9997: 2146690898\n",
      "9998: 2146793913\n"
     ]
    }
   ],
   "source": [
    "printIntFirstAndLast10Elements(intArray);"
   ]
  },
  {
   "cell_type": "markdown",
   "id": "17dd3967",
   "metadata": {},
   "source": [
    "Now everything is sorted. Let's make the array random again...."
   ]
  },
  {
   "cell_type": "code",
   "execution_count": 93,
   "id": "44b55532",
   "metadata": {},
   "outputs": [
    {
     "name": "stdout",
     "output_type": "stream",
     "text": [
      "0: 1054368780\n",
      "1: 1595325263\n",
      "2: 2091403435\n",
      "3: 1313738526\n",
      "4: 1868134740\n",
      "5: 198188587\n",
      "6: 1020677331\n",
      "7: 1740577953\n",
      "8: 1535820657\n",
      "9: 1859199980\n",
      "...\n",
      "9989: 1473208979\n",
      "9990: 1305820275\n",
      "9991: 1744685496\n",
      "9992: 50831971\n",
      "9993: 1704663688\n",
      "9994: 434033512\n",
      "9995: 807178759\n",
      "9996: 1555747081\n",
      "9997: 2138633990\n",
      "9998: 1803697374\n"
     ]
    }
   ],
   "source": [
    "intArray = generateRandomIntArray(arraySize);\n",
    "printIntFirstAndLast10Elements(intArray);"
   ]
  },
  {
   "cell_type": "markdown",
   "id": "423bfe07",
   "metadata": {},
   "source": [
    "Starting in Java 8, there is a parallel sort available to help speed things up using multiple threads and splitting into sub arrays."
   ]
  },
  {
   "cell_type": "code",
   "execution_count": 95,
   "id": "95f6f1c2",
   "metadata": {},
   "outputs": [
    {
     "name": "stdout",
     "output_type": "stream",
     "text": [
      "0: 46511\n",
      "1: 684197\n",
      "2: 868571\n",
      "3: 1112876\n",
      "4: 1313351\n",
      "5: 1319270\n",
      "6: 1581010\n",
      "7: 1643782\n",
      "8: 1800961\n",
      "9: 1839028\n",
      "...\n",
      "9989: 2145154780\n",
      "9990: 2145380461\n",
      "9991: 2145658498\n",
      "9992: 2145871131\n",
      "9993: 2146286578\n",
      "9994: 2146458617\n",
      "9995: 2146494912\n",
      "9996: 2147002157\n",
      "9997: 2147013613\n",
      "9998: 2147084504\n"
     ]
    }
   ],
   "source": [
    "Arrays.parallelSort(intArray);\n",
    "printIntFirstAndLast10Elements(intArray);"
   ]
  },
  {
   "cell_type": "code",
   "execution_count": 104,
   "id": "177b7c95",
   "metadata": {},
   "outputs": [],
   "source": [
    "// Helper method to generate a random string\n",
    "// Based from https://www.baeldung.com/java-random-string\n",
    "public String givenUsingPlainJava_whenGeneratingRandomStringBounded(int targetStringLength) {\n",
    " \n",
    "    int leftLimit = 97; // letter 'a'\n",
    "    int rightLimit = 122; // letter 'z'\n",
    "    Random random = new Random();\n",
    "    StringBuilder buffer = new StringBuilder(targetStringLength);\n",
    "    for (int i = 0; i < targetStringLength; i++) {\n",
    "        int randomLimitedInt = leftLimit + (int) \n",
    "          (random.nextFloat() * (rightLimit - leftLimit + 1));\n",
    "        buffer.append((char) randomLimitedInt);\n",
    "    }\n",
    "    String generatedString = buffer.toString();\n",
    "\n",
    "    return generatedString;\n",
    "}"
   ]
  },
  {
   "cell_type": "code",
   "execution_count": 105,
   "id": "797a1b4d",
   "metadata": {},
   "outputs": [],
   "source": [
    "// Helper method to print first and last 10 elements of array\n",
    "void printArrayListFirstAndLast10Elements(ArrayList<String> stringArrayList) {\n",
    "    for (int i=0; i< 10; i++) {\n",
    "        System.out.println(i+\": \"+stringArrayList.get(i));\n",
    "    }\n",
    "    System.out.println(\"...\");\n",
    "    for (int i=(stringArrayList.size()-10); i<stringArrayList.size(); i++) {\n",
    "        System.out.println(i+\": \"+stringArrayList.get(i));\n",
    "    }\n",
    "}"
   ]
  },
  {
   "cell_type": "markdown",
   "id": "797988d3",
   "metadata": {},
   "source": [
    "Let's now create an array of random strings from 0 to 15 in length."
   ]
  },
  {
   "cell_type": "code",
   "execution_count": 106,
   "id": "0f6325b0",
   "metadata": {},
   "outputs": [],
   "source": [
    "import java.util.ArrayList;\n",
    "\n",
    "ArrayList<String> randomStringList = new ArrayList<>();\n",
    "\n",
    "for (int i = 0; i < arraySize; i++) {\n",
    "    randomStringList.add(givenUsingPlainJava_whenGeneratingRandomStringBounded(i%15));\n",
    "}"
   ]
  },
  {
   "cell_type": "code",
   "execution_count": 107,
   "id": "2f507e27",
   "metadata": {},
   "outputs": [
    {
     "name": "stdout",
     "output_type": "stream",
     "text": [
      "0: \n",
      "1: j\n",
      "2: se\n",
      "3: vxy\n",
      "4: bgbl\n",
      "5: jibwp\n",
      "6: rymdii\n",
      "7: rndboon\n",
      "8: huztvsvb\n",
      "9: dbtfkagde\n",
      "...\n",
      "9989: lrvlkuuwizmwsp\n",
      "9990: \n",
      "9991: t\n",
      "9992: fn\n",
      "9993: szx\n",
      "9994: ukmx\n",
      "9995: gxdtr\n",
      "9996: bjqjxx\n",
      "9997: epoykpp\n",
      "9998: tmvopkja\n"
     ]
    }
   ],
   "source": [
    "printArrayListFirstAndLast10Elements(randomStringList);"
   ]
  },
  {
   "cell_type": "code",
   "execution_count": 108,
   "id": "cc60d489",
   "metadata": {},
   "outputs": [
    {
     "ename": "CompilationException",
     "evalue": "",
     "output_type": "error",
     "traceback": [
      "\u001b[1m\u001b[30m|   \u001b[1m\u001b[30m\u001b[0m\u001b[1m\u001b[30m\u001b[41mArrays.sort\u001b[0m\u001b[1m\u001b[30m(randomStringList);\u001b[0m",
      "\u001b[1m\u001b[31mno suitable method found for sort(java.util.ArrayList<java.lang.String>)\u001b[0m",
      "\u001b[1m\u001b[31m    method java.util.Arrays.sort(int[]) is not applicable\u001b[0m",
      "\u001b[1m\u001b[31m      (argument mismatch; java.util.ArrayList<java.lang.String> cannot be converted to int[])\u001b[0m",
      "\u001b[1m\u001b[31m    method java.util.Arrays.sort(long[]) is not applicable\u001b[0m",
      "\u001b[1m\u001b[31m      (argument mismatch; java.util.ArrayList<java.lang.String> cannot be converted to long[])\u001b[0m",
      "\u001b[1m\u001b[31m    method java.util.Arrays.sort(short[]) is not applicable\u001b[0m",
      "\u001b[1m\u001b[31m      (argument mismatch; java.util.ArrayList<java.lang.String> cannot be converted to short[])\u001b[0m",
      "\u001b[1m\u001b[31m    method java.util.Arrays.sort(char[]) is not applicable\u001b[0m",
      "\u001b[1m\u001b[31m      (argument mismatch; java.util.ArrayList<java.lang.String> cannot be converted to char[])\u001b[0m",
      "\u001b[1m\u001b[31m    method java.util.Arrays.sort(byte[]) is not applicable\u001b[0m",
      "\u001b[1m\u001b[31m      (argument mismatch; java.util.ArrayList<java.lang.String> cannot be converted to byte[])\u001b[0m",
      "\u001b[1m\u001b[31m    method java.util.Arrays.sort(float[]) is not applicable\u001b[0m",
      "\u001b[1m\u001b[31m      (argument mismatch; java.util.ArrayList<java.lang.String> cannot be converted to float[])\u001b[0m",
      "\u001b[1m\u001b[31m    method java.util.Arrays.sort(double[]) is not applicable\u001b[0m",
      "\u001b[1m\u001b[31m      (argument mismatch; java.util.ArrayList<java.lang.String> cannot be converted to double[])\u001b[0m",
      "\u001b[1m\u001b[31m    method java.util.Arrays.sort(java.lang.Object[]) is not applicable\u001b[0m",
      "\u001b[1m\u001b[31m      (argument mismatch; java.util.ArrayList<java.lang.String> cannot be converted to java.lang.Object[])\u001b[0m",
      "\u001b[1m\u001b[31m    method java.util.Arrays.<T>sort(T[],java.util.Comparator<? super T>) is not applicable\u001b[0m",
      "\u001b[1m\u001b[31m      (cannot infer type-variable(s) T\u001b[0m",
      "\u001b[1m\u001b[31m        (actual and formal argument lists differ in length))\u001b[0m",
      "\u001b[1m\u001b[31m    method java.util.Arrays.<T>sort(T[],int,int,java.util.Comparator<? super T>) is not applicable\u001b[0m",
      "\u001b[1m\u001b[31m      (cannot infer type-variable(s) T\u001b[0m",
      "\u001b[1m\u001b[31m        (actual and formal argument lists differ in length))\u001b[0m",
      ""
     ]
    }
   ],
   "source": [
    "Arrays.sort(randomStringList);"
   ]
  },
  {
   "cell_type": "markdown",
   "id": "165cd282",
   "metadata": {},
   "source": [
    "Oh no!  Arrays.sort only works on primitive arrays but theres another way from Collections."
   ]
  },
  {
   "cell_type": "code",
   "execution_count": 109,
   "id": "28aa0dd0",
   "metadata": {},
   "outputs": [
    {
     "name": "stdout",
     "output_type": "stream",
     "text": [
      "0: \n",
      "1: \n",
      "2: \n",
      "3: \n",
      "4: \n",
      "5: \n",
      "6: \n",
      "7: \n",
      "8: \n",
      "9: \n",
      "...\n",
      "9989: zzd\n",
      "9990: zzdratbcgd\n",
      "9991: zzhk\n",
      "9992: zziaa\n",
      "9993: zzmopc\n",
      "9994: zzmvbhgxtjasgk\n",
      "9995: zzpmzrcfxzsyvm\n",
      "9996: zzvgsz\n",
      "9997: zzvumelej\n",
      "9998: zzwubifadlln\n"
     ]
    }
   ],
   "source": [
    "import java.util.Collections.*;\n",
    "\n",
    "Collections.sort(randomStringList);\n",
    "\n",
    "printFirstAndLast10Elements(randomStringList);"
   ]
  },
  {
   "cell_type": "markdown",
   "id": "a97b1312",
   "metadata": {},
   "source": [
    "In Java, the sort time is O(nlogn).  So what does it use?  \n",
    "Previously, Java’s Arrays.sort method used Quicksort for arrays of primitives and Merge sort for arrays of objects.  \n",
    "In the latest versions of Java, Arrays.sort method and Collection.sort() uses Timsort."
   ]
  },
  {
   "cell_type": "code",
   "execution_count": 113,
   "id": "37194e97",
   "metadata": {},
   "outputs": [],
   "source": [
    " // Liang Chap. 23\n",
    " public static void bubbleSort(int[] list) {\n",
    "    boolean needNextPass = true;\n",
    "    \n",
    "    for (int k = 1; k < list.length && needNextPass; k++) {\n",
    "      // Array may be sorted and next pass not needed\n",
    "      needNextPass = false;\n",
    "      for (int i = 0; i < list.length - k; i++) {\n",
    "        if (list[i] > list[i + 1]) {\n",
    "          // Swap list[i] with list[i + 1]\n",
    "          int temp = list[i];\n",
    "          list[i] = list[i + 1];\n",
    "          list[i + 1] = temp;\n",
    "          \n",
    "          needNextPass = true; // Next pass still needed\n",
    "        }\n",
    "      }\n",
    "    }\n",
    "  }"
   ]
  },
  {
   "cell_type": "code",
   "execution_count": 114,
   "id": "6e107ab8",
   "metadata": {},
   "outputs": [
    {
     "name": "stdout",
     "output_type": "stream",
     "text": [
      "-2 1 2 2 3 3 5 6 12 14 "
     ]
    }
   ],
   "source": [
    "int[] list = {2, 3, 2, 5, 6, 1, -2, 3, 14, 12};\n",
    "    bubbleSort(list);\n",
    "for (int i = 0; i < list.length; i++)\n",
    "      System.out.print(list[i] + \" \");"
   ]
  },
  {
   "cell_type": "code",
   "execution_count": 115,
   "id": "6ba6e349",
   "metadata": {},
   "outputs": [],
   "source": [
    "public static void insertionSort(double[] list) {\n",
    "    for (int i = 1; i < list.length; i++) {\n",
    "      /** insert list[i] into a sorted sublist list[0..i-1] so that\n",
    "           list[0..i] is sorted. */\n",
    "      double currentElement = list[i];\n",
    "      int k;\n",
    "      for (k = i - 1; k >= 0 && list[k] > currentElement; k--) {\n",
    "        list[k + 1] = list[k];\n",
    "      }\n",
    "\n",
    "      // Insert the current element into list[k+1]\n",
    "      list[k + 1] = currentElement;\n",
    "    }\n",
    "  }"
   ]
  },
  {
   "cell_type": "code",
   "execution_count": 117,
   "id": "ee7675d8",
   "metadata": {},
   "outputs": [
    {
     "name": "stdout",
     "output_type": "stream",
     "text": [
      "-2.0 1.0 2.0 2.0 3.0 3.0 5.0 6.0 12.0 14.0 "
     ]
    }
   ],
   "source": [
    "double[] list = {2, 3, 2, 5, 6, 1, -2, 3, 14, 12};\n",
    "    insertionSort(list);\n",
    "for (int i = 0; i < list.length; i++)\n",
    "      System.out.print(list[i] + \" \");"
   ]
  },
  {
   "cell_type": "markdown",
   "id": "8d8aace6",
   "metadata": {},
   "source": [
    "A picture is worth a thousand words, so an animation is worth even more...\n",
    "https://algorithm-visualizer.org/"
   ]
  }
 ],
 "metadata": {
  "kernelspec": {
   "display_name": "Java",
   "language": "java",
   "name": "java"
  },
  "language_info": {
   "codemirror_mode": "java",
   "file_extension": ".jshell",
   "mimetype": "text/x-java-source",
   "name": "Java",
   "pygments_lexer": "java",
   "version": "20+36-2344"
  }
 },
 "nbformat": 4,
 "nbformat_minor": 5
}

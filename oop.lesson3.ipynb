{
 "cells": [
  {
   "cell_type": "markdown",
   "id": "29fa3176",
   "metadata": {},
   "source": [
    "# MSCS501 Object Oriented Programming (OOP) \n",
    "## Lesson 3"
   ]
  },
  {
   "cell_type": "markdown",
   "id": "7a38cd2e",
   "metadata": {},
   "source": [
    "# H1 Heading\n",
    "\n",
    "## H2 Sub-heading\n",
    "\n",
    "Paragraphs are separated by a single blank line.\n",
    "\n",
    "Two spaces at the end of a line  \n",
    "produces a line break.\n",
    "\n",
    "Text attributes _italic_, **bold**, `monospace`.\n",
    "\n",
    "```preformatted space aka code```\n",
    "\n",
    "[Google](https://google.com/)\n",
    "\n",
    "| First | Last |\n",
    "| -------- | -------- |\n",
    "| Michael | Gildein |\n"
   ]
  },
  {
   "cell_type": "code",
   "execution_count": 1,
   "id": "b8e4858f",
   "metadata": {},
   "outputs": [],
   "source": [
    "char[][] answers = {\n",
    "      {'A', 'B', 'A', 'C', 'C', 'D', 'E', 'E', 'A', 'D'},\n",
    "      {'D', 'B', 'A', 'B', 'C', 'A', 'E', 'E', 'A', 'D'},\n",
    "      {'E', 'D', 'D', 'A', 'C', 'B', 'E', 'E', 'A', 'D'},\n",
    "      {'C', 'B', 'A', 'E', 'D', 'C', 'E', 'E', 'A', 'D'},\n",
    "      {'A', 'B', 'D', 'C', 'C', 'D', 'E', 'E', 'A', 'D'},\n",
    "      {'B', 'B', 'E', 'C', 'C', 'D', 'E', 'E', 'A', 'D'},\n",
    "      {'B', 'B', 'A', 'C', 'C', 'D', 'E', 'E', 'A', 'D'},\n",
    "      {'E', 'B', 'E', 'C', 'C', 'D', 'E', 'E', 'A', 'D'}};"
   ]
  },
  {
   "cell_type": "code",
   "execution_count": 2,
   "id": "14fc9373",
   "metadata": {},
   "outputs": [
    {
     "name": "stdout",
     "output_type": "stream",
     "text": [
      "Student 0's correct count is 7\n",
      "Student 1's correct count is 6\n",
      "Student 2's correct count is 5\n",
      "Student 3's correct count is 4\n",
      "Student 4's correct count is 8\n",
      "Student 5's correct count is 7\n",
      "Student 6's correct count is 7\n",
      "Student 7's correct count is 7\n"
     ]
    }
   ],
   "source": [
    " // Key to the questions\n",
    "    char[] keys = {'D', 'B', 'D', 'C', 'C', 'D', 'A', 'E', 'A', 'D'};\n",
    "\n",
    "    // Grade all answers\n",
    "    for (int i = 0; i < answers.length; i++) {\n",
    "      // Grade one student\n",
    "      int correctCount = 0;\n",
    "      for (int j = 0; j < answers[i].length; j++) {\n",
    "        if (answers[i][j] == keys[j])\n",
    "          correctCount++;\n",
    "      }\n",
    "\n",
    "      System.out.println(\"Student \" + i + \"'s correct count is \" +\n",
    "        correctCount);\n",
    "    }"
   ]
  },
  {
   "cell_type": "code",
   "execution_count": 4,
   "id": "599b4f57",
   "metadata": {},
   "outputs": [],
   "source": [
    "  /** Compute the distance between two points (x1, y1) and (x2, y2)*/\n",
    "  public static double distance(\n",
    "      double x1, double y1, double x2, double y2) {\n",
    "    return Math.sqrt((x2 - x1) * (x2 - x1) + (y2 - y1) * (y2 - y1));\n",
    "  }"
   ]
  },
  {
   "cell_type": "code",
   "execution_count": 5,
   "id": "d05686c2",
   "metadata": {},
   "outputs": [
    {
     "name": "stdout",
     "output_type": "stream",
     "text": [
      "Enter the number of points: 5\n",
      "Enter 5 points:  2 5\n",
      "4 6\n",
      "5 8\n",
      "7 1\n",
      "6 9\n",
      "The closest two points are (5.0, 8.0) and (6.0, 9.0)\n"
     ]
    }
   ],
   "source": [
    "Scanner input = new Scanner(System.in);\n",
    "    System.out.print(\"Enter the number of points: \");\n",
    "    int numberOfPoints = input.nextInt();\n",
    "\n",
    "    // Create an array to store points\n",
    "    double[][] points = new double[numberOfPoints][2];\n",
    "    System.out.print(\"Enter \" + numberOfPoints + \" points: \");\n",
    "    for (int i = 0; i < points.length; i++) {\n",
    "      points[i][0] = input.nextDouble();\n",
    "      points[i][1] = input.nextDouble();\n",
    "    }\n",
    "\n",
    "    // p1 and p2 are the indices in the points array\n",
    "    int p1 = 0, p2 = 1; // Initial two points\n",
    "    double shortestDistance = distance(points[p1][0], points[p1][1], \n",
    "      points[p2][0], points[p2][1]); // Initialize shortestDistance\n",
    "    \n",
    "    // Compute distance for every two points\n",
    "    for (int i = 0; i < points.length; i++) {\n",
    "      for (int j = i + 1; j < points.length; j++) {\n",
    "        double distance = distance(points[i][0], points[i][1],\n",
    "          points[j][0], points[j][1]); // Find distance\n",
    "\n",
    "        if (shortestDistance > distance) {\n",
    "          p1 = i; // Update p1\n",
    "          p2 = j; // Update p2\n",
    "          shortestDistance = distance; // Update shortestDistance \n",
    "        }\n",
    "      }\n",
    "    }\n",
    "\n",
    "    // Display result\n",
    "    System.out.println(\"The closest two points are \" +\n",
    "      \"(\" + points[p1][0] + \", \" + points[p1][1] + \") and (\" +\n",
    "      points[p2][0] + \", \" + points[p2][1] + \")\");"
   ]
  },
  {
   "cell_type": "code",
   "execution_count": 6,
   "id": "e4eea0ce",
   "metadata": {},
   "outputs": [],
   "source": [
    "public static int sum(int[][] m) {\n",
    "    int total = 0;\n",
    "    for (int row = 0; row < m.length; row++) {\n",
    "      for (int column = 0; column < m[row].length; column++) {\n",
    "        total += m[row][column];\n",
    "      }\n",
    "    }\n",
    "\n",
    "    return total;\n",
    "  }"
   ]
  },
  {
   "cell_type": "code",
   "execution_count": 7,
   "id": "5cce2329",
   "metadata": {},
   "outputs": [
    {
     "name": "stdout",
     "output_type": "stream",
     "text": [
      "Enter 3 rows and 4 columns: \n",
      "10 6 5 9 8 7 2 3 6 5 4 8\n",
      "\n",
      "Sum of all elements is 73\n"
     ]
    }
   ],
   "source": [
    "    Scanner input = new Scanner(System.in);\n",
    "    \n",
    "    // Enter array values\n",
    "    int[][] m = new int[3][4];\n",
    "    System.out.println(\"Enter \" + m.length + \" rows and \"\n",
    "      + m[0].length + \" columns: \");\n",
    "    for (int i = 0; i < m.length; i++)\n",
    "      for (int j = 0; j < m[i].length; j++)\n",
    "        m[i][j] = input.nextInt();\n",
    "\n",
    "    // Display result\n",
    "## F    System.out.println(\"\\nSum of all elements is \" + sum(m));"
   ]
  },
  {
   "cell_type": "markdown",
   "id": "7b7b40d4",
   "metadata": {},
   "source": [
    "## Fizzbuzz\n",
    "The player designated to go first says the number \"1\", and the players then count upwards in turn. However, any number divisible by three is replaced by the word fizz and any number divisible by five by the word buzz. Numbers divisible by both three and five (i.e. divisible by 15) become fizz buzz. A player who hesitates or makes a mistake is eliminated.\n",
    "\n",
    "For example, a typical round of fizz buzz would start as follows:\n",
    "\n",
    "1, 2, Fizz, 4, Buzz, Fizz, 7, 8, Fizz, Buzz, 11, Fizz, 13, 14, Fizz Buzz, 16, 17, Fizz, 19, Buzz, Fizz, 22, 23, Fizz, Buzz, 26, Fizz, 28, 29, Fizz Buzz, 31, 32, Fizz, 34, Buzz, Fizz, ..."
   ]
  },
  {
   "cell_type": "code",
   "execution_count": null,
   "id": "c6b1f409",
   "metadata": {},
   "outputs": [],
   "source": []
  }
 ],
 "metadata": {
  "kernelspec": {
   "display_name": "Java",
   "language": "java",
   "name": "java"
  },
  "language_info": {
   "codemirror_mode": "java",
   "file_extension": ".jshell",
   "mimetype": "text/x-java-source",
   "name": "Java",
   "pygments_lexer": "java",
   "version": "17.0.2+8-LTS-86"
  }
 },
 "nbformat": 4,
 "nbformat_minor": 5
}

{
 "cells": [
  {
   "cell_type": "markdown",
   "id": "29fa3176",
   "metadata": {},
   "source": [
    "# MSCS501 Object Oriented Programming (OOP) \n",
    "## Lesson 3"
   ]
  },
  {
   "cell_type": "markdown",
   "id": "7a38cd2e",
   "metadata": {},
   "source": [
    "# H1 Heading\n",
    "\n",
    "## H2 Sub-heading\n",
    "\n",
    "Paragraphs are separated by a single blank line.\n",
    "\n",
    "Two spaces at the end of a line  \n",
    "produces a line break.\n",
    "\n",
    "Text attributes _italic_, **bold**, `monospace`.\n",
    "\n",
    "```preformatted space aka code```\n",
    "\n",
    "[Google](https://google.com/)\n",
    "\n",
    "| First | Last |\n",
    "| -------- | -------- |\n",
    "| Michael | Gildein |\n"
   ]
  },
  {
   "cell_type": "markdown",
   "id": "883c6733",
   "metadata": {},
   "source": [
    "## Chap 6"
   ]
  },
  {
   "cell_type": "code",
   "execution_count": 22,
   "id": "4e4fe043",
   "metadata": {},
   "outputs": [],
   "source": [
    "/** Return the max between two numbers */\n",
    "  public static int max(int num1, int num2) {\n",
    "    int result;\n",
    "\n",
    "    if (num1 > num2)\n",
    "      result = num1;\n",
    "    else\n",
    "      result = num2;\n",
    "\n",
    "    return result;\n",
    "  }"
   ]
  },
  {
   "cell_type": "code",
   "execution_count": 23,
   "id": "c9f699d1",
   "metadata": {},
   "outputs": [
    {
     "name": "stdout",
     "output_type": "stream",
     "text": [
      "The maximum between 5 and 2 is 5\n"
     ]
    }
   ],
   "source": [
    "    int i = 5;\n",
    "    int j = 2;\n",
    "    int k = max(i, j);\n",
    "    System.out.println(\"The maximum between \" + i +\n",
    "      \" and \" + j + \" is \" + k);"
   ]
  },
  {
   "cell_type": "code",
   "execution_count": 8,
   "id": "4c6685c1",
   "metadata": {},
   "outputs": [],
   "source": [
    "public static void printGrade(double score) {\n",
    "    if (score >= 90.0) {\n",
    "      System.out.println('A');\n",
    "    } \n",
    "    else if (score >= 80.0) {\n",
    "      System.out.println('B');\n",
    "    } \n",
    "    else if (score >= 70.0) {\n",
    "      System.out.println('C');\n",
    "    } \n",
    "    else if (score >= 60.0) {\n",
    "      System.out.println('D');\n",
    "    } \n",
    "    else {\n",
    "      System.out.println('F');\n",
    "    }\n",
    "  }"
   ]
  },
  {
   "cell_type": "code",
   "execution_count": 9,
   "id": "c2aee5d2",
   "metadata": {},
   "outputs": [
    {
     "name": "stdout",
     "output_type": "stream",
     "text": [
      "The grade is C\n",
      "The grade is F\n"
     ]
    }
   ],
   "source": [
    "System.out.print(\"The grade is \");\n",
    "printGrade(78.5);\n",
    "\n",
    "System.out.print(\"The grade is \");\n",
    "printGrade(59.5);"
   ]
  },
  {
   "cell_type": "code",
   "execution_count": 2,
   "id": "a40558ba",
   "metadata": {},
   "outputs": [],
   "source": [
    "public static void increment(int n) {\n",
    "    n++;\n",
    "    System.out.println(\"n inside the method is \" + n);\n",
    "  }"
   ]
  },
  {
   "cell_type": "code",
   "execution_count": 3,
   "id": "1204ec05",
   "metadata": {},
   "outputs": [
    {
     "name": "stdout",
     "output_type": "stream",
     "text": [
      "Before the call, x is 1\n",
      "n inside the method is 2\n",
      "after the call, x is 1\n"
     ]
    }
   ],
   "source": [
    "int x = 1;\n",
    "System.out.println(\"Before the call, x is \" + x);\n",
    "increment(x);\n",
    "System.out.println(\"after the call, x is \" + x);"
   ]
  },
  {
   "cell_type": "code",
   "execution_count": 24,
   "id": "6b2443c1",
   "metadata": {},
   "outputs": [],
   "source": [
    "public static int gcd(int n1, int n2) {\n",
    "    int gcd = 1; // Initial gcd is 1\n",
    "    int k = 1; // Possible gcd\n",
    "    \n",
    "    while (k <= n1 && k <= n2) {\n",
    "      if (n1 % k == 0 && n2 % k == 0)\n",
    "        gcd = k; // Update gcd\n",
    "      k++;\n",
    "    }\n",
    "\n",
    "    return gcd; // Return gcd\n",
    "  }"
   ]
  },
  {
   "cell_type": "code",
   "execution_count": 25,
   "id": "f98c7f04",
   "metadata": {},
   "outputs": [
    {
     "name": "stdout",
     "output_type": "stream",
     "text": [
      "Enter first integer: 2\n",
      "Enter second integer: 1\n",
      "The greatest common divisor for 2 and 1 is 1\n"
     ]
    }
   ],
   "source": [
    "Scanner input = new Scanner(System.in);\n",
    "\n",
    "    // Prompt the user to enter two integers\n",
    "    System.out.print(\"Enter first integer: \");\n",
    "    int n1 = input.nextInt();\n",
    "    System.out.print(\"Enter second integer: \");\n",
    "    int n2 = input.nextInt();\n",
    "\n",
    "    System.out.println(\"The greatest common divisor for \" + n1 +\n",
    "      \" and \" + n2 + \" is \" + gcd(n1, n2));"
   ]
  },
  {
   "cell_type": "code",
   "execution_count": 10,
   "id": "b7a48f9a",
   "metadata": {},
   "outputs": [],
   "source": [
    "  /** Generate a random character between ch1 and ch2 */\n",
    "  public static char getRandomCharacter(char ch1, char ch2) {\n",
    "    return (char)(ch1 + Math.random() * (ch2 - ch1 + 1));\n",
    "  }\n",
    "\n",
    "  /** Generate a random lowercase letter */\n",
    "  public static char getRandomLowerCaseLetter() {\n",
    "    return getRandomCharacter('a', 'z');\n",
    "  }\n",
    "\n",
    "  /** Generate a random uppercase letter */\n",
    "  public static char getRandomUpperCaseLetter() {\n",
    "    return getRandomCharacter('A', 'Z');\n",
    "  }\n",
    "\n",
    "  /** Generate a random digit character */\n",
    "  public static char getRandomDigitCharacter() {\n",
    "    return getRandomCharacter('0', '9');\n",
    "  }\n",
    "\n",
    "  /** Generate a random character */\n",
    "  public static char getRandomCharacter() {\n",
    "    return getRandomCharacter('\\u0000', '\\uFFFF');\n",
    "  }"
   ]
  },
  {
   "cell_type": "code",
   "execution_count": 13,
   "id": "3bd4b77b",
   "metadata": {},
   "outputs": [],
   "source": [
    "public static void swap(int n1, int n2) {\n",
    "System.out.println(\"\\tInside the swap method\");\n",
    "System.out.println(\"\\t\\tBefore swapping n1 is \" + n1 + \" n2 is \" + n2);\n",
    "\n",
    "// Swap n1 with n2\n",
    "int temp = n1;\n",
    "n1 = n2;\n",
    "n2 = temp;\n",
    "\n",
    "System.out.println(\"\\t\\tAfter swapping n1 is \" + n1 + \" n2 is \" + n2);\n",
    "}"
   ]
  },
  {
   "cell_type": "code",
   "execution_count": 12,
   "id": "8462a023",
   "metadata": {},
   "outputs": [
    {
     "name": "stdout",
     "output_type": "stream",
     "text": [
      "Before invoking the swap method, num1 is 1 and num2 is 2\n",
      "\tInside the swap method\n",
      "\t\tBefore swapping n1 is 1 n2 is 2\n",
      "\t\tAfter swapping n1 is 2 n2 is 1\n",
      "After invoking the swap method, num1 is 1 and num2 is 2\n"
     ]
    }
   ],
   "source": [
    "// Declare and initialize variables\n",
    "int num1 = 1;\n",
    "int num2 = 2;\n",
    "\n",
    "    System.out.println(\"Before invoking the swap method, num1 is \" +\n",
    "      num1 + \" and num2 is \" + num2);\n",
    "\n",
    "    // Invoke the swap method to attempt to swap two variables\n",
    "    swap(num1, num2);\n",
    "\n",
    "    System.out.println(\"After invoking the swap method, num1 is \" +\n",
    "      num1 + \" and num2 is \" + num2);"
   ]
  },
  {
   "cell_type": "code",
   "execution_count": 15,
   "id": "6ebe3f55",
   "metadata": {},
   "outputs": [
    {
     "name": "stdout",
     "output_type": "stream",
     "text": [
      "The maximum between 3 and 4 is 4\n",
      "The maximum between 3.0 and 5.4 is 5.4\n"
     ]
    }
   ],
   "source": [
    "// Invoke the max method with int parameters\n",
    "    System.out.println(\"The maximum between 3 and 4 is \"\n",
    "      + max(3, 4));\n",
    "\n",
    "    // Invoke the max method with the double parameters\n",
    "    System.out.println(\"The maximum between 3.0 and 5.4 is \"\n",
    "      + max(3.0, 5.4));"
   ]
  },
  {
   "cell_type": "code",
   "execution_count": 27,
   "id": "162ebd48",
   "metadata": {},
   "outputs": [],
   "source": [
    "  /** Print the calendar for a month in a year */\n",
    "  public static void printMonth(int year, int month) {\n",
    "    // Print the headings of the calendar\n",
    "    printMonthTitle(year, month);\n",
    "\n",
    "    // Print the body of the calendar\n",
    "    printMonthBody(year, month);\n",
    "  }\n",
    "\n",
    "  /** Print the month title, e.g., May, 1999 */\n",
    "  public static void printMonthTitle(int year, int month) {\n",
    "    System.out.println(\"         \" + getMonthName(month)\n",
    "      + \" \" + year);\n",
    "    System.out.println(\"-----------------------------\");\n",
    "    System.out.println(\" Sun Mon Tue Wed Thu Fri Sat\");\n",
    "  }\n",
    "\n",
    "  /** Get the English name for the month */\n",
    "  public static String getMonthName(int month) {\n",
    "    String monthName = \"\";\n",
    "    switch (month) {\n",
    "      case 1: monthName = \"January\"; break;\n",
    "      case 2: monthName = \"February\"; break;\n",
    "      case 3: monthName = \"March\"; break;\n",
    "      case 4: monthName = \"April\"; break;\n",
    "      case 5: monthName = \"May\"; break;\n",
    "      case 6: monthName = \"June\"; break;\n",
    "      case 7: monthName = \"July\"; break;\n",
    "      case 8: monthName = \"August\"; break;\n",
    "      case 9: monthName = \"September\"; break;\n",
    "      case 10: monthName = \"October\"; break;\n",
    "      case 11: monthName = \"November\"; break;\n",
    "      case 12: monthName = \"December\";\n",
    "    }\n",
    "\n",
    "    return monthName;\n",
    "  }\n",
    "\n",
    "  /** Print month body */\n",
    "  public static void printMonthBody(int year, int month) {\n",
    "    // Get start day of the week for the first date in the month\n",
    "    int startDay = getStartDay(year, month);\n",
    "\n",
    "    // Get number of days in the month\n",
    "    int numberOfDaysInMonth = getNumberOfDaysInMonth(year, month);\n",
    "\n",
    "    // Pad space before the first day of the month\n",
    "    int i = 0;\n",
    "    for (i = 0; i < startDay; i++)\n",
    "      System.out.print(\"    \");\n",
    "\n",
    "    for (i = 1; i <= numberOfDaysInMonth; i++) {\n",
    "      System.out.printf(\"%4d\", i);\n",
    "\n",
    "      if ((i + startDay) % 7 == 0)\n",
    "        System.out.println();\n",
    "    }\n",
    "\n",
    "    System.out.println();\n",
    "  }\n",
    "\n",
    "  /** Get the start day of month/1/year */\n",
    "  public static int getStartDay(int year, int month) {\n",
    "    final int START_DAY_FOR_JAN_1_1800 = 3;\n",
    "    // Get total number of days from 1/1/1800 to month/1/year\n",
    "    int totalNumberOfDays = getTotalNumberOfDays(year, month);\n",
    "\n",
    "    // Return the start day for month/1/year\n",
    "    return (totalNumberOfDays + START_DAY_FOR_JAN_1_1800) % 7;\n",
    "  }\n",
    "\n",
    "  /** Get the total number of days since January 1, 1800 */\n",
    "  public static int getTotalNumberOfDays(int year, int month) {\n",
    "    int total = 0;\n",
    "\n",
    "    // Get the total days from 1800 to 1/1/year\n",
    "    for (int i = 1800; i < year; i++)\n",
    "      if (isLeapYear(i))\n",
    "        total = total + 366;\n",
    "      else\n",
    "        total = total + 365;\n",
    "\n",
    "    // Add days from Jan to the month prior to the calendar month\n",
    "    for (int i = 1; i < month; i++)\n",
    "      total = total + getNumberOfDaysInMonth(year, i);\n",
    "\n",
    "    return total;\n",
    "  }\n",
    "\n",
    "  /** Get the number of days in a month */\n",
    "  public static int getNumberOfDaysInMonth(int year, int month) {\n",
    "    if (month == 1 || month == 3 || month == 5 || month == 7 ||\n",
    "      month == 8 || month == 10 || month == 12)\n",
    "      return 31;\n",
    "\n",
    "    if (month == 4 || month == 6 || month == 9 || month == 11)\n",
    "      return 30;\n",
    "\n",
    "    if (month == 2) return isLeapYear(year) ? 29 : 28;\n",
    "\n",
    "    return 0; // If month is incorrect\n",
    "  }\n",
    "\n",
    "  /** Determine if it is a leap year */\n",
    "  public static boolean isLeapYear(int year) {\n",
    "    return year % 400 == 0 || (year % 4 == 0 && year % 100 != 0);\n",
    "  }"
   ]
  },
  {
   "cell_type": "code",
   "execution_count": 28,
   "id": "598a1b16",
   "metadata": {},
   "outputs": [
    {
     "name": "stdout",
     "output_type": "stream",
     "text": [
      "Enter full year (e.g., 2001): 505\n",
      "Enter month in number between 1 and 12: 1\n",
      "         January 505\n",
      "-----------------------------\n",
      " Sun Mon Tue Wed Thu Fri Sat\n",
      "               1   2   3   4\n",
      "   5   6   7   8   9  10  11\n",
      "  12  13  14  15  16  17  18\n",
      "  19  20  21  22  23  24  25\n",
      "  26  27  28  29  30  31\n"
     ]
    }
   ],
   "source": [
    "import java.util.Scanner;\n",
    "\n",
    "    Scanner input = new Scanner(System.in);\n",
    "\n",
    "    // Prompt the user to enter year\n",
    "    System.out.print(\"Enter full year (e.g., 2001): \");\n",
    "    int year = input.nextInt();\n",
    "\n",
    "    // Prompt the user to enter month\n",
    "    System.out.print(\"Enter month in number between 1 and 12: \");\n",
    "    int month = input.nextInt();\n",
    "\n",
    "    // Print calendar for the month of the year\n",
    "    printMonth(year, month);"
   ]
  },
  {
   "cell_type": "markdown",
   "id": "7249a9bb",
   "metadata": {},
   "source": [
    "## Chap 7"
   ]
  },
  {
   "cell_type": "code",
   "execution_count": 16,
   "id": "c624beec",
   "metadata": {},
   "outputs": [],
   "source": [
    "public static void printMax(double... numbers) {\n",
    "    if (numbers.length == 0) {\n",
    "      System.out.println(\"No argument passed\");\n",
    "      return;\n",
    "    }\n",
    "\n",
    "    double result = numbers[0];\n",
    "\n",
    "    for (int i = 1; i < numbers.length; i++)\n",
    "      if (numbers[i] > result)\n",
    "        result = numbers[i];\n",
    "\n",
    "    System.out.println(\"The max value is \" + result);\n",
    "  }"
   ]
  },
  {
   "cell_type": "code",
   "execution_count": 17,
   "id": "dd39edcf",
   "metadata": {},
   "outputs": [
    {
     "name": "stdout",
     "output_type": "stream",
     "text": [
      "The max value is 56.5\n",
      "The max value is 3.0\n"
     ]
    }
   ],
   "source": [
    "printMax(34, 3, 3, 2, 56.5);\n",
    "    printMax(new double[]{1, 2, 3});"
   ]
  },
  {
   "cell_type": "code",
   "execution_count": 1,
   "id": "9410e4f1",
   "metadata": {},
   "outputs": [
    {
     "name": "stdout",
     "output_type": "stream",
     "text": [
      "Writing Calculator.java\n"
     ]
    }
   ],
   "source": [
    "%%writefile Calculator.java\n",
    "//writefile only works with python kernel\n",
    "public class Calculator {\n",
    "  /** Main method */\n",
    "  public static void main(String[] args) {\n",
    "    // Check number of strings passed\n",
    "    if (args.length != 3) {\n",
    "      System.out.println(\n",
    "        \"Usage: java Calculator operand1 operator operand2\");\n",
    "      System.exit(0);\n",
    "    }\n",
    "\n",
    "    // The result of the operation\n",
    "    int result = 0;\n",
    "\n",
    "    // Determine the operator\n",
    "    switch (args[1].charAt(0)) { \n",
    "      case '+': result = Integer.parseInt(args[0]) + \n",
    "                         Integer.parseInt(args[2]);\n",
    "                break;\n",
    "      case '-': result = Integer.parseInt(args[0]) -\n",
    "                         Integer.parseInt(args[2]);\n",
    "                break;\n",
    "      case '.': result = Integer.parseInt(args[0]) *\n",
    "                         Integer.parseInt(args[2]);\n",
    "                break;\n",
    "      case '/': result = Integer.parseInt(args[0]) /\n",
    "                         Integer.parseInt(args[2]);\n",
    "    }\n",
    "\n",
    "    // Display result\n",
    "    System.out.println(args[0] + ' ' + args[1] + ' ' + args[2]\n",
    "      + \" = \" + result);\n",
    "  }\n",
    "}"
   ]
  },
  {
   "cell_type": "code",
   "execution_count": 2,
   "id": "f2c83a0e",
   "metadata": {},
   "outputs": [
    {
     "name": "stdout",
     "output_type": "stream",
     "text": [
      "1 + 2 = 3\r\n"
     ]
    }
   ],
   "source": [
    "!java Calculator.java 1 + 2"
   ]
  },
  {
   "cell_type": "markdown",
   "id": "a08c4c67",
   "metadata": {},
   "source": [
    "## File Reading"
   ]
  },
  {
   "cell_type": "code",
   "execution_count": 3,
   "id": "f0426e7a",
   "metadata": {},
   "outputs": [
    {
     "name": "stdout",
     "output_type": "stream",
     "text": [
      "Writing test.txt\n"
     ]
    }
   ],
   "source": [
    "%%writefile test.txt\n",
    "mike\n",
    "was here!"
   ]
  },
  {
   "cell_type": "code",
   "execution_count": 1,
   "id": "08774a86",
   "metadata": {},
   "outputs": [
    {
     "name": "stdout",
     "output_type": "stream",
     "text": [
      "mike\n",
      "was here!\n"
     ]
    }
   ],
   "source": [
    "import java.io.*;\n",
    "\n",
    "FileReader fr = new FileReader(\"test.txt\");\n",
    "int i;\n",
    "//until there is nothing to read\n",
    "while ((i = fr.read()) != -1) {\n",
    "  System.out.print((char)i);\n",
    "}"
   ]
  },
  {
   "cell_type": "code",
   "execution_count": 2,
   "id": "0d9c9de5",
   "metadata": {},
   "outputs": [
    {
     "name": "stdout",
     "output_type": "stream",
     "text": [
      "mike\n",
      "was here!\n"
     ]
    }
   ],
   "source": [
    "import java.io.*;\n",
    "\n",
    "File file = new File(\"test.txt\");\n",
    "\n",
    "BufferedReader br = new BufferedReader(new FileReader(file));\n",
    "\n",
    "String st;\n",
    "while ((st = br.readLine()) != null) {\n",
    "    System.out.println(st);\n",
    "}"
   ]
  },
  {
   "cell_type": "code",
   "execution_count": null,
   "id": "642965d1",
   "metadata": {},
   "outputs": [],
   "source": []
  }
 ],
 "metadata": {
  "kernelspec": {
   "display_name": "Java",
   "language": "java",
   "name": "java"
  },
  "language_info": {
   "codemirror_mode": "java",
   "file_extension": ".jshell",
   "mimetype": "text/x-java-source",
   "name": "Java",
   "pygments_lexer": "java",
   "version": "19.0.1+10-Ubuntu-1ubuntu122.04"
  }
 },
 "nbformat": 4,
 "nbformat_minor": 5
}
